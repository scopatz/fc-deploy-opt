{
 "cells": [
  {
   "cell_type": "code",
   "execution_count": 9,
   "metadata": {
    "collapsed": true
   },
   "outputs": [],
   "source": [
    "import json\n",
    "from copy import deepcopy\n",
    "import numpy as np"
   ]
  },
  {
   "cell_type": "code",
   "execution_count": 2,
   "metadata": {
    "collapsed": true
   },
   "outputs": [],
   "source": [
    "with open('once-through.json') as f:\n",
    "    ot = json.load(f)"
   ]
  },
  {
   "cell_type": "code",
   "execution_count": 7,
   "metadata": {
    "collapsed": false
   },
   "outputs": [],
   "source": [
    "lwr = ot['simulation']['facility'][1]"
   ]
  },
  {
   "cell_type": "code",
   "execution_count": 28,
   "metadata": {
    "collapsed": false
   },
   "outputs": [
    {
     "data": {
      "text/plain": [
       "{'config': {'Reactor': {'assem_size': 33000,\n",
       "   'cycle_time': 18,\n",
       "   'fuel_incommods': {'val': 'Fresh-UOX-Fuel'},\n",
       "   'fuel_inrecipes': {'val': 'FF-UOX'},\n",
       "   'fuel_outcommods': {'val': 'Used-UOX-Fuel'},\n",
       "   'fuel_outrecipes': {'val': 'UF-UOX'},\n",
       "   'n_assem_batch': 1,\n",
       "   'n_assem_core': 3,\n",
       "   'power_cap': 1000,\n",
       "   'refuel_time': 1}},\n",
       " 'lifetime': 720,\n",
       " 'name': 'LWR'}"
      ]
     },
     "execution_count": 28,
     "metadata": {},
     "output_type": "execute_result"
    }
   ],
   "source": [
    "lwr"
   ]
  },
  {
   "cell_type": "code",
   "execution_count": 10,
   "metadata": {
    "collapsed": false
   },
   "outputs": [
    {
     "data": {
      "text/plain": [
       "array([  1,   6,  11,  17,  22,  27,  33,  38,  44,  49,  54,  60,  65,\n",
       "        70,  76,  81,  87,  92,  97, 103, 108, 114, 119, 124, 130, 135,\n",
       "       140, 146, 151, 157, 162, 167, 173, 178, 183, 189, 194, 200, 205,\n",
       "       210, 216, 221, 227, 232, 237, 243, 248, 253, 259, 264, 270, 275,\n",
       "       280, 286, 291, 297, 302, 307, 313, 318, 323, 329, 334, 340, 345,\n",
       "       350, 356, 361, 366, 372, 377, 383, 388, 393, 399, 404, 410, 415,\n",
       "       420, 426, 431, 436, 442, 447, 453, 458, 463, 469, 474, 480])"
      ]
     },
     "execution_count": 10,
     "metadata": {},
     "output_type": "execute_result"
    }
   ],
   "source": [
    "np.linspace(1, 40 * 12, 90, dtype=int)"
   ]
  },
  {
   "cell_type": "code",
   "execution_count": 49,
   "metadata": {
    "collapsed": false
   },
   "outputs": [],
   "source": [
    "lwrs = []\n",
    "for i, life in enumerate(np.linspace(1, 40 * 12, 90, dtype=int), 0):\n",
    "    l = deepcopy(lwr)\n",
    "    l['name'] = 'LWR-Init{0:02}'.format(i)\n",
    "    l['lifetime'] = int(life)\n",
    "    l['config']['Reactor']['cycle_step'] = 18 - int(life%18)\n",
    "    lwrs.append(l)"
   ]
  },
  {
   "cell_type": "code",
   "execution_count": 50,
   "metadata": {
    "collapsed": false
   },
   "outputs": [],
   "source": [
    "with open('initial-lwrs.json', 'w') as f:\n",
    "    json.dump(lwrs, f)"
   ]
  },
  {
   "cell_type": "code",
   "execution_count": 44,
   "metadata": {
    "collapsed": false
   },
   "outputs": [],
   "source": [
    "ifl = [{'number': '1', 'prototype': l['name']} for l in lwrs]"
   ]
  },
  {
   "cell_type": "code",
   "execution_count": 48,
   "metadata": {
    "collapsed": false
   },
   "outputs": [],
   "source": [
    "with open('initial-facs.json', 'w') as f:\n",
    "    json.dump(ifl, f)"
   ]
  },
  {
   "cell_type": "code",
   "execution_count": null,
   "metadata": {
    "collapsed": true
   },
   "outputs": [],
   "source": []
  }
 ],
 "metadata": {
  "kernelspec": {
   "display_name": "Python 3",
   "language": "python",
   "name": "python3"
  },
  "language_info": {
   "codemirror_mode": {
    "name": "ipython",
    "version": 3
   },
   "file_extension": ".py",
   "mimetype": "text/x-python",
   "name": "python",
   "nbconvert_exporter": "python",
   "pygments_lexer": "ipython3",
   "version": "3.5.0"
  }
 },
 "nbformat": 4,
 "nbformat_minor": 0
}

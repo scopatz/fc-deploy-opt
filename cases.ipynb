{
 "cells": [
  {
   "cell_type": "code",
   "execution_count": 1,
   "metadata": {
    "collapsed": false
   },
   "outputs": [
    {
     "name": "stderr",
     "output_type": "stream",
     "text": [
      "/home/scopatz/miniconda/lib/python3.5/importlib/_bootstrap.py:222: QAWarning: pyne.data is not yet QA compliant.\n",
      "  return f(*args, **kwds)\n",
      "/home/scopatz/miniconda/lib/python3.5/importlib/_bootstrap.py:222: QAWarning: pyne.material is not yet QA compliant.\n",
      "  return f(*args, **kwds)\n",
      "/home/scopatz/miniconda/lib/python3.5/importlib/_bootstrap.py:222: QAWarning: pyne.enrichment is not yet QA compliant.\n",
      "  return f(*args, **kwds)\n"
     ]
    }
   ],
   "source": [
    "import numpy as np\n",
    "%matplotlib inline\n",
    "import matplotlib as plt\n",
    "\n",
    "import worg"
   ]
  },
  {
   "cell_type": "code",
   "execution_count": 2,
   "metadata": {
    "collapsed": true
   },
   "outputs": [],
   "source": [
    "T = 50\n",
    "seed = 424242\n",
    "verbose = True"
   ]
  },
  {
   "cell_type": "code",
   "execution_count": 3,
   "metadata": {
    "collapsed": false
   },
   "outputs": [
    {
     "name": "stdout",
     "output_type": "stream",
     "text": [
      "Simulation 3\n",
      "------------\n",
      "SimId a77d7725-d64c-472f-82ec-edb001fe5363hyperparameters: [ 8.44155389  5.41756185]\n",
      "Estimate method is 'all'\n",
      "Estimate winner is 'inner-prod'\n",
      "Estimate time:   0.0 min 8.977957010269165 sec\n",
      "Simulation time: 0.0 min 6.725782155990601 sec\n",
      "D: [6.5700239322320666, 14.802403115793279]\n",
      "\n",
      "Simulation 4\n",
      "------------\n",
      "SimId 11a45729-1f9f-463b-b731-41791218dacehyperparameters: [ 7.8516871  4.6362031]\n",
      "Estimate method is 'all'\n",
      "Estimate winner is 'stochastic'\n",
      "Estimate time:   0.0 min 9.332389116287231 sec\n",
      "Simulation time: 0.0 min 7.064059495925903 sec\n",
      "D: [4.6966734129145085, 6.5700239322320666]\n",
      "\n",
      "Simulation 5\n",
      "------------\n",
      "SimId 2ac4feb2-e5e5-4c9b-bbf6-50e206cee873hyperparameters: [ 6.95986966  4.25086576]\n",
      "Estimate method is 'stochastic'\n",
      "Estimate winner is 'stochastic'\n",
      "Estimate time:   0.0 min 6.751973628997803 sec\n",
      "Simulation time: 0.0 min 8.001513481140137 sec\n",
      "D: [3.8622693476660661, 4.6966734129145085]\n",
      "\n",
      "Simulation 6\n",
      "------------\n",
      "SimId a495d34a-75a9-41f3-9cd1-0aa09cf520a7hyperparameters: [ 5.79633636  3.74611183]\n",
      "Estimate method is 'stochastic'\n",
      "Estimate winner is 'stochastic'\n",
      "Estimate time:   0.0 min 6.488415241241455 sec\n",
      "Simulation time: 0.0 min 9.11778211593628 sec\n",
      "D: [1.0858135988749464, 3.8622693476660661]\n",
      "\n",
      "Simulation 7\n",
      "------------\n",
      "SimId 6deaa2a5-f105-410b-942f-ca2622e944echyperparameters: [ 5.77139819  3.71080984]\n",
      "Estimate method is 'all'\n",
      "Estimate winner is 'stochastic'\n",
      "Estimate time:   0.0 min 9.221068143844604 sec\n",
      "Simulation time: 0.0 min 9.532130479812622 sec\n",
      "D: [0.89408750966784967, 1.0858135988749464]\n",
      "\n",
      "Simulation 8\n",
      "------------\n",
      "SimId c20e2d69-8dd6-4409-95a9-3e6ecb1fef69hyperparameters: [ 5.52562856  3.40788477]\n",
      "Estimate method is 'all'\n",
      "Estimate winner is 'inner-prod'\n",
      "Estimate time:   0.0 min 9.32944655418396 sec\n",
      "Simulation time: 0.0 min 10.6758131980896 sec\n",
      "D: [0.89408750966784967, 0.96921124092359856]\n",
      "\n",
      "Simulation 9\n",
      "------------\n",
      "SimId 5ad326e9-169f-469a-b988-76322b638be9hyperparameters: [ 5.26477282  3.17407647]\n",
      "Estimate method is 'stochastic'\n",
      "Estimate winner is 'stochastic'\n",
      "Estimate time:   0.0 min 6.348836183547974 sec\n",
      "Simulation time: 0.0 min 11.38967514038086 sec\n",
      "D: [0.74678739894329227, 0.89408750966784967]\n",
      "\n",
      "Simulation 10\n",
      "-------------\n",
      "SimId e9fda623-9f20-4b53-baee-40a51f2f425bhyperparameters: [ 5.53715058  3.19267594]\n",
      "Estimate method is 'stochastic'\n",
      "Estimate winner is 'stochastic'\n",
      "Estimate time:   0.0 min 6.62807035446167 sec\n",
      "Simulation time: 0.0 min 12.363586187362671 sec\n",
      "D: [0.74678739894329227, 0.85127432172343309]\n",
      "\n",
      "Simulation 11\n",
      "-------------\n",
      "SimId 812594ca-4506-4abe-af50-4340034dd872hyperparameters: [ 5.80350025  3.40563032]\n",
      "Estimate method is 'all'\n",
      "Estimate winner is 'inner-prod'\n",
      "Estimate time:   0.0 min 9.073458671569824 sec\n",
      "Simulation time: 0.0 min 13.002892255783081 sec\n",
      "D: [0.74678739894329227, 0.80302851275755771]\n",
      "\n",
      "Simulation 12\n",
      "-------------\n",
      "SimId 041406ad-5057-48c3-9ed4-dae6aa96b302hyperparameters: [ 5.5541799   3.15111289]\n",
      "Estimate method is 'all'\n",
      "Estimate winner is 'inner-prod'\n",
      "Estimate time:   0.0 min 9.085147142410278 sec\n",
      "Simulation time: 0.0 min 13.749714851379395 sec\n",
      "D: [0.74678739894329227, 0.80302851275755771, 0.85050715108349506]\n",
      "\n"
     ]
    }
   ],
   "source": [
    "f = 90 * (1.01**np.arange(T))  # 1% growth\n",
    "N = np.asarray(np.ceil(4*(1.01)**np.arange(T)), dtype=int)\n",
    "state = worg.optimize(f, N, seed=seed, verbose=verbose)"
   ]
  },
  {
   "cell_type": "code",
   "execution_count": null,
   "metadata": {
    "collapsed": true
   },
   "outputs": [],
   "source": []
  }
 ],
 "metadata": {
  "kernelspec": {
   "display_name": "Python 3",
   "language": "python",
   "name": "python3"
  },
  "language_info": {
   "codemirror_mode": {
    "name": "ipython",
    "version": 3
   },
   "file_extension": ".py",
   "mimetype": "text/x-python",
   "name": "python",
   "nbconvert_exporter": "python",
   "pygments_lexer": "ipython3",
   "version": "3.5.0"
  }
 },
 "nbformat": 4,
 "nbformat_minor": 0
}

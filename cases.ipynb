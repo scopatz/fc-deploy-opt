{
 "cells": [
  {
   "cell_type": "code",
   "execution_count": 1,
   "metadata": {
    "collapsed": false
   },
   "outputs": [
    {
     "name": "stderr",
     "output_type": "stream",
     "text": [
      "/home/scopatz/miniconda/lib/python3.5/importlib/_bootstrap.py:222: QAWarning: pyne.data is not yet QA compliant.\n",
      "  return f(*args, **kwds)\n",
      "/home/scopatz/miniconda/lib/python3.5/importlib/_bootstrap.py:222: QAWarning: pyne.material is not yet QA compliant.\n",
      "  return f(*args, **kwds)\n",
      "/home/scopatz/miniconda/lib/python3.5/importlib/_bootstrap.py:222: QAWarning: pyne.enrichment is not yet QA compliant.\n",
      "  return f(*args, **kwds)\n"
     ]
    }
   ],
   "source": [
    "import numpy as np\n",
    "%matplotlib inline\n",
    "import matplotlib as plt\n",
    "\n",
    "import worg"
   ]
  },
  {
   "cell_type": "code",
   "execution_count": 2,
   "metadata": {
    "collapsed": true
   },
   "outputs": [],
   "source": [
    "T = 50\n",
    "seed = 424242\n",
    "verbose = True"
   ]
  },
  {
   "cell_type": "code",
   "execution_count": 3,
   "metadata": {
    "collapsed": false
   },
   "outputs": [
    {
     "name": "stdout",
     "output_type": "stream",
     "text": [
      "Simulation 3\n",
      "------------\n",
      "SimId 65b9d470-2800-4f73-8924-c6b785b6d24b\n",
      "hyperparameters: [ 8.44155389  5.41756185]\n",
      "Estimate method is 'stochastic'\n",
      "Estimate winner is 'stochastic'\n",
      "Estimate time:   0.0 min 6.491922855377197 sec\n",
      "Simulation time: 0.0 min 7.2172510623931885 sec\n",
      "D_s: 2.935123927440842\n",
      "D: [2.9351239274408418, 14.802403115793279]\n",
      "\n",
      "Simulation 4\n",
      "------------\n",
      "SimId bb0aa87a-2055-4698-8bc2-96d4eb824f21\n",
      "hyperparameters: [ 7.56552878  4.3505483 ]\n",
      "Estimate method is 'stochastic'\n",
      "Estimate winner is 'stochastic'\n",
      "Estimate time:   0.0 min 6.629546642303467 sec\n",
      "Simulation time: 0.0 min 7.311304807662964 sec\n",
      "D_s: 1.5142780541252059\n",
      "D: [1.5142780541252059, 2.9351239274408418]\n",
      "\n",
      "Simulation 5\n",
      "------------\n",
      "SimId 2b0a0340-007b-45f1-bc15-bd90a80ec59c\n",
      "hyperparameters: [ 6.4493229   3.72067005]\n",
      "Estimate method is 'stochastic'\n",
      "Estimate winner is 'stochastic'\n",
      "Estimate time:   0.0 min 6.415410280227661 sec\n",
      "Simulation time: 0.0 min 8.617703437805176 sec\n",
      "D_s: 1.0749170338271168\n",
      "D: [1.0749170338271168, 1.5142780541252059]\n",
      "\n",
      "Simulation 6\n",
      "------------\n",
      "SimId 2314257a-71a1-4fa3-a274-7e2ad4829a36\n",
      "hyperparameters: [ 5.75636802  3.42127769]\n",
      "Estimate method is 'stochastic'\n",
      "Estimate winner is 'stochastic'\n",
      "Estimate time:   0.0 min 6.449875831604004 sec\n",
      "Simulation time: 0.0 min 9.355381965637207 sec\n",
      "D_s: 0.8515595607657418\n",
      "D: [0.8515595607657418, 1.0749170338271168]\n",
      "\n",
      "Simulation 7\n",
      "------------\n",
      "SimId f7ab23d6-d1ee-4d00-81e3-ea1927f291b8\n",
      "hyperparameters: [ 5.38925562  3.17862253]\n",
      "Estimate method is 'stochastic'\n",
      "Estimate winner is 'stochastic'\n",
      "Estimate time:   0.0 min 6.661599397659302 sec\n",
      "Simulation time: 0.0 min 10.178813934326172 sec\n",
      "D_s: 2.233974668783873\n",
      "D: [0.8515595607657418, 1.0749170338271168, 2.2339746687838731]\n",
      "\n",
      "Simulation 8\n",
      "------------\n",
      "SimId 8986339d-1ecb-4883-ac84-e30ce21ef469\n",
      "hyperparameters: [ 5.32325407  3.23425535]\n",
      "Estimate method is 'stochastic'\n",
      "Estimate winner is 'stochastic'\n",
      "Estimate time:   0.0 min 6.621880292892456 sec\n",
      "Simulation time: 0.0 min 11.321669101715088 sec\n",
      "D_s: 0.935150227842552\n",
      "D: [0.8515595607657418, 0.93515022784255197]\n",
      "\n",
      "Simulation 9\n",
      "------------\n",
      "SimId 306cbeb2-7b9c-4669-a79c-28f39af2fa7c\n",
      "hyperparameters: [ 5.28416744  3.1714106 ]\n",
      "Estimate method is 'stochastic'\n",
      "Estimate winner is 'stochastic'\n",
      "Estimate time:   0.0 min 6.967223167419434 sec\n",
      "Simulation time: 0.0 min 11.71934199333191 sec\n",
      "D_s: 1.1517112595478012\n",
      "D: [0.8515595607657418, 0.93515022784255197, 1.1517112595478012]\n",
      "\n",
      "Simulation 10\n",
      "-------------\n",
      "SimId 6aa5a1dc-a335-43b0-aae0-918a5c003306\n",
      "hyperparameters: [ 5.14231478  3.04153025]\n",
      "Estimate method is 'stochastic'\n",
      "Estimate winner is 'stochastic'\n",
      "Estimate time:   0.0 min 7.017003536224365 sec\n",
      "Simulation time: 0.0 min 12.587430238723755 sec\n",
      "D_s: 0.9894442125168925\n",
      "D: [0.8515595607657418, 0.93515022784255197]\n",
      "\n",
      "Simulation 11\n",
      "-------------\n",
      "SimId 4b45fba8-4b45-41f6-bd78-e1014c4bd5db\n",
      "hyperparameters: [ 5.28416744  3.1714106 ]\n",
      "Estimate method is 'stochastic'\n",
      "Estimate winner is 'stochastic'\n",
      "Estimate time:   0.0 min 6.5132575035095215 sec\n",
      "Simulation time: 0.0 min 12.860620021820068 sec\n",
      "D_s: 2.02223826440682\n",
      "D: [0.8515595607657418, 0.93515022784255197, 2.0222382644068202]\n",
      "\n",
      "Simulation 12\n",
      "-------------\n",
      "SimId 5d859d54-5d15-42b5-8ba4-145adb7afb69\n",
      "hyperparameters: [ 5.16477768  3.05678642]\n",
      "Estimate method is 'stochastic'\n",
      "Estimate winner is 'stochastic'\n",
      "Estimate time:   0.0 min 6.688058853149414 sec\n",
      "Simulation time: 0.0 min 14.316189527511597 sec\n",
      "D_s: 1.504337876258385\n",
      "D: [0.8515595607657418, 0.93515022784255197]\n",
      "\n",
      "CPU times: user 1min 17s, sys: 6.73 s, total: 1min 24s\n",
      "Wall time: 3min 2s\n"
     ]
    }
   ],
   "source": [
    "%%time\n",
    "f = 90 * (1.01**np.arange(T))  # 1% growth\n",
    "N = np.asarray(np.ceil(4*(1.01)**np.arange(T)), dtype=int)\n",
    "state = worg.optimize(f, N, seed=seed, verbose=verbose, method_0='stochastic')"
   ]
  },
  {
   "cell_type": "code",
   "execution_count": null,
   "metadata": {
    "collapsed": true
   },
   "outputs": [],
   "source": []
  }
 ],
 "metadata": {
  "kernelspec": {
   "display_name": "Python 3",
   "language": "python",
   "name": "python3"
  },
  "language_info": {
   "codemirror_mode": {
    "name": "ipython",
    "version": 3
   },
   "file_extension": ".py",
   "mimetype": "text/x-python",
   "name": "python",
   "nbconvert_exporter": "python",
   "pygments_lexer": "ipython3",
   "version": "3.5.0"
  }
 },
 "nbformat": 4,
 "nbformat_minor": 0
}

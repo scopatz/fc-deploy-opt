{
 "cells": [
  {
   "cell_type": "code",
   "execution_count": 1,
   "metadata": {
    "collapsed": false
   },
   "outputs": [
    {
     "name": "stderr",
     "output_type": "stream",
     "text": [
      "/home/scopatz/miniconda/lib/python3.5/importlib/_bootstrap.py:222: QAWarning: pyne.data is not yet QA compliant.\n",
      "  return f(*args, **kwds)\n",
      "/home/scopatz/miniconda/lib/python3.5/importlib/_bootstrap.py:222: QAWarning: pyne.material is not yet QA compliant.\n",
      "  return f(*args, **kwds)\n",
      "/home/scopatz/miniconda/lib/python3.5/importlib/_bootstrap.py:222: QAWarning: pyne.enrichment is not yet QA compliant.\n",
      "  return f(*args, **kwds)\n"
     ]
    }
   ],
   "source": [
    "import numpy as np\n",
    "%matplotlib inline\n",
    "import matplotlib as plt\n",
    "\n",
    "import worg"
   ]
  },
  {
   "cell_type": "code",
   "execution_count": null,
   "metadata": {
    "collapsed": true
   },
   "outputs": [],
   "source": [
    "T = 50\n",
    "seed = 424242\n",
    "verbose = True"
   ]
  },
  {
   "cell_type": "code",
   "execution_count": null,
   "metadata": {
    "collapsed": false
   },
   "outputs": [
    {
     "name": "stdout",
     "output_type": "stream",
     "text": [
      "Simulation 3\n",
      "------------\n",
      "SimId a77d7725-d64c-472f-82ec-edb001fe5363hyperparameters: [ 8.44155389  5.41756185]\n",
      "Estimate method is 'all'\n",
      "Estimate winner is 'inner-prod'\n",
      "Estimate time:   0.0 min 8.977957010269165 sec\n",
      "Simulation time: 0.0 min 6.725782155990601 sec\n",
      "D: [6.5700239322320666, 14.802403115793279]\n",
      "\n",
      "Simulation 4\n",
      "------------\n",
      "SimId 11a45729-1f9f-463b-b731-41791218dacehyperparameters: [ 7.8516871  4.6362031]\n",
      "Estimate method is 'all'\n",
      "Estimate winner is 'stochastic'\n",
      "Estimate time:   0.0 min 9.332389116287231 sec\n",
      "Simulation time: 0.0 min 7.064059495925903 sec\n",
      "D: [4.6966734129145085, 6.5700239322320666]\n",
      "\n",
      "Simulation 5\n",
      "------------\n",
      "SimId 2ac4feb2-e5e5-4c9b-bbf6-50e206cee873hyperparameters: [ 6.95986966  4.25086576]\n",
      "Estimate method is 'stochastic'\n",
      "Estimate winner is 'stochastic'\n",
      "Estimate time:   0.0 min 6.751973628997803 sec\n",
      "Simulation time: 0.0 min 8.001513481140137 sec\n",
      "D: [3.8622693476660661, 4.6966734129145085]\n",
      "\n",
      "Simulation 6\n",
      "------------\n",
      "SimId a495d34a-75a9-41f3-9cd1-0aa09cf520a7hyperparameters: [ 5.79633636  3.74611183]\n",
      "Estimate method is 'stochastic'\n",
      "Estimate winner is 'stochastic'\n",
      "Estimate time:   0.0 min 6.488415241241455 sec\n",
      "Simulation time: 0.0 min 9.11778211593628 sec\n",
      "D: [1.0858135988749464, 3.8622693476660661]\n",
      "\n",
      "Simulation 7\n",
      "------------\n",
      "SimId 6deaa2a5-f105-410b-942f-ca2622e944echyperparameters: [ 5.77139819  3.71080984]\n",
      "Estimate method is 'all'\n",
      "Estimate winner is 'stochastic'\n",
      "Estimate time:   0.0 min 9.221068143844604 sec\n",
      "Simulation time: 0.0 min 9.532130479812622 sec\n",
      "D: [0.89408750966784967, 1.0858135988749464]\n",
      "\n"
     ]
    }
   ],
   "source": [
    "f = 90 * (1.01**np.arange(T))  # 1% growth\n",
    "N = np.asarray(np.ceil(4*(1.01)**np.arange(T)), dtype=int)\n",
    "state = worg.optimize(f, N, seed=seed, verbose=verbose)"
   ]
  },
  {
   "cell_type": "code",
   "execution_count": null,
   "metadata": {
    "collapsed": true
   },
   "outputs": [],
   "source": []
  }
 ],
 "metadata": {
  "kernelspec": {
   "display_name": "Python 3",
   "language": "python",
   "name": "python3"
  },
  "language_info": {
   "codemirror_mode": {
    "name": "ipython",
    "version": 3
   },
   "file_extension": ".py",
   "mimetype": "text/x-python",
   "name": "python",
   "nbconvert_exporter": "python",
   "pygments_lexer": "ipython3",
   "version": "3.5.0"
  }
 },
 "nbformat": 4,
 "nbformat_minor": 0
}

{
 "cells": [
  {
   "cell_type": "code",
   "execution_count": null,
   "metadata": {
    "collapsed": false
   },
   "outputs": [],
   "source": [
    "import numpy as np\n",
    "%matplotlib inline\n",
    "import matplotlib as mpl\n",
    "import matplotlib.pyplot as plt\n",
    "import matplotlib.patches as mpatches\n",
    "mpl.rc('font', family='serif', size=11)\n",
    "mpl.rc('savefig', bbox='tight')\n",
    "\n",
    "import dtw\n",
    "import worg\n",
    "\n",
    "make_fname_safe = lambda s: s.lower().replace(' ', '-')"
   ]
  },
  {
   "cell_type": "code",
   "execution_count": null,
   "metadata": {
    "collapsed": true
   },
   "outputs": [],
   "source": [
    "T = 50\n",
    "seed = 424242\n",
    "verbose = True\n",
    "f = 90 * (1.01**np.arange(T))  # 1% growth\n",
    "g0 = np.zeros(T, dtype='f8')    # zero production\n",
    "N = np.asarray(np.ceil(4*(1.01)**np.arange(T)), dtype=int)"
   ]
  },
  {
   "cell_type": "markdown",
   "metadata": {},
   "source": [
    "DTW\n",
    "======"
   ]
  },
  {
   "cell_type": "code",
   "execution_count": null,
   "metadata": {
    "collapsed": true
   },
   "outputs": [],
   "source": [
    "def display_dwt(dist, cost, path, xname, yname, offset=2016, vmax=None):\n",
    "    fig = plt.figure(figsize=(8, 6))\n",
    "    extent = (offset, offset+cost.shape[1], offset, offset+cost.shape[0])\n",
    "    plt.imshow(cost[::-1], cmap='viridis', extent=extent, vmin=0.0, vmax=vmax)\n",
    "    u = offset + np.concatenate([path, np.array([[cost.shape[1]], [cost.shape[0]]])], axis=1)\n",
    "    plt.plot(u[1], u[0], 'w-')\n",
    "    plt.axis(extent)\n",
    "    cb = plt.colorbar()\n",
    "    cb.set_label('Cost [GWe]', rotation=-90, va='bottom')\n",
    "    plt.xlabel('time [year]')\n",
    "    plt.ylabel('time [year]')\n",
    "    fname = 'cost-{0}-to-{1}'.format(make_fname_safe(xname), make_fname_safe(yname))\n",
    "    plt.savefig(fname + '.png')\n",
    "    plt.savefig(fname + '.eps')\n",
    "    print('Warping between {0} and {1}:'.format(xname, yname))\n",
    "    print('  Distance is ', dist)"
   ]
  },
  {
   "cell_type": "code",
   "execution_count": null,
   "metadata": {
    "collapsed": false
   },
   "outputs": [],
   "source": [
    "p = np.empty(T, dtype='f8')\n",
    "p[:T//2] = f[:T//2] * 0.95\n",
    "p[T//2:] = f[T//2:] * 1.05\n",
    "dist, cost, path = dtw.dtw(f[:,np.newaxis], p[:,np.newaxis])\n",
    "display_dwt(dist, cost, path, 'Demand', 'Production')"
   ]
  },
  {
   "cell_type": "markdown",
   "metadata": {},
   "source": [
    "GP\n",
    "======="
   ]
  },
  {
   "cell_type": "code",
   "execution_count": null,
   "metadata": {
    "collapsed": true
   },
   "outputs": [],
   "source": [
    "def model_plot(t, y, yerr, tpred, mu, std, title=None, ymax=None):\n",
    "    fig = plt.figure(figsize=(8, 8))\n",
    "    #plt.errorbar(t, y, yerr, fmt='r.', label='traing data')\n",
    "    plt.plot(t, y, 'r.', label='traing data')\n",
    "    plt.plot(tpred, mu, 'k-', label='model')\n",
    "    plt.fill_between(tpred, mu - 2*std, mu + 2*std, color='gray')\n",
    "    ax = plt.axis()\n",
    "    plt.axis([tpred[0], tpred[-1], 0.0, ymax or ax[3]])\n",
    "    plt.legend(loc=0)\n",
    "    plt.xlabel('time [year]')\n",
    "    plt.ylabel('Power Production [GWe]')\n",
    "    if title:\n",
    "        plt.title(title)\n",
    "    fbase = 'gwe-model-' + (title or '').lower().replace(' ', '-')\n",
    "    plt.savefig(fbase + '.eps')\n",
    "    plt.savefig(fbase + '.png')"
   ]
  },
  {
   "cell_type": "code",
   "execution_count": null,
   "metadata": {
    "collapsed": false
   },
   "outputs": [],
   "source": [
    "tol = 1e-1\n",
    "q = np.empty(T, dtype='f8')\n",
    "q[:T//2] = f[:T//2] * 0.9\n",
    "q[T//2:] = f[T//2:] * 1.1\n",
    "gp, x, y = worg.gp_gwe([N, N], [f, q], T, tol, N)\n",
    "mu, cov = gp.predict(y, x[:T])\n",
    "std = np.sqrt(np.diag(cov))\n",
    "model_plot(x[:,0]+2016, y, 0.0, x[:T,0] + 2016, mu, std)"
   ]
  },
  {
   "cell_type": "markdown",
   "metadata": {},
   "source": [
    "Optimizations\n",
    "========"
   ]
  },
  {
   "cell_type": "code",
   "execution_count": null,
   "metadata": {
    "collapsed": false
   },
   "outputs": [],
   "source": [
    "def run_percent_growth(rate, f0=90.0, N0=4, T=T, seed=seed, verbose=verbose, **kwargs):\n",
    "    r = 1.0 + (rate/100.0)\n",
    "    tgrid = np.arange(T)\n",
    "    f = f0 * (r**tgrid)\n",
    "    N = np.asarray(np.ceil(N0*(r**tgrid)), dtype=int) + 1\n",
    "    state = worg.optimize(f, N, seed=seed, verbose=verbose, **kwargs)\n",
    "    return state"
   ]
  },
  {
   "cell_type": "code",
   "execution_count": null,
   "metadata": {
    "collapsed": true
   },
   "outputs": [],
   "source": [
    "%time state1all = run_percent_growth(1, MAX_S=20)"
   ]
  },
  {
   "cell_type": "code",
   "execution_count": null,
   "metadata": {
    "collapsed": true
   },
   "outputs": [],
   "source": [
    "%time state1sto = run_percent_growth(1, MAX_S=20, method_0='stochastic')"
   ]
  },
  {
   "cell_type": "code",
   "execution_count": null,
   "metadata": {
    "collapsed": true
   },
   "outputs": [],
   "source": [
    "%time state1inn = run_percent_growth(1, MAX_S=20, method_0='inner-prod')"
   ]
  },
  {
   "cell_type": "code",
   "execution_count": null,
   "metadata": {
    "collapsed": true
   },
   "outputs": [],
   "source": [
    "%time state0sto = run_percent_growth(0, MAX_S=20, method_0='stochastic')"
   ]
  },
  {
   "cell_type": "code",
   "execution_count": null,
   "metadata": {
    "collapsed": true
   },
   "outputs": [],
   "source": [
    "%time state2sto = run_percent_growth(2, MAX_S=20, method_0='stochastic')"
   ]
  },
  {
   "cell_type": "code",
   "execution_count": null,
   "metadata": {
    "collapsed": true
   },
   "outputs": [],
   "source": [
    "%time state2all = run_percent_growth(2, MAX_S=20, method_0='all')"
   ]
  },
  {
   "cell_type": "code",
   "execution_count": null,
   "metadata": {
    "collapsed": true
   },
   "outputs": [],
   "source": [
    "%time state2inn = run_percent_growth(2, MAX_S=20, method_0='inner-prod')"
   ]
  },
  {
   "cell_type": "code",
   "execution_count": null,
   "metadata": {
    "collapsed": true
   },
   "outputs": [],
   "source": [
    "%time state0all = run_percent_growth(0, MAX_S=20, method_0='all')"
   ]
  },
  {
   "cell_type": "code",
   "execution_count": null,
   "metadata": {
    "collapsed": true
   },
   "outputs": [],
   "source": [
    "%time state0inn = run_percent_growth(0, MAX_S=20, method_0='inner-prod')"
   ]
  },
  {
   "cell_type": "code",
   "execution_count": null,
   "metadata": {
    "collapsed": true
   },
   "outputs": [],
   "source": [
    "def convergence_plot(states, linestyles, labels, r):\n",
    "    for state, ls, label in zip(states, linestyles, labels):\n",
    "        x = np.arange(1, state['s'] + 1)\n",
    "        D_s = state['D_s']\n",
    "        y = np.fromiter((min(D_s[:i]) for i in x), dtype='f8', count=len(x))\n",
    "        plt.semilogy(x, y, linestyle=ls, color='gray', label=label)\n",
    "        smask = np.fromiter((w == 'stochastic' for w in state['winner_s']), \n",
    "                            dtype='bool', count=len(x))\n",
    "        if np.any(smask):\n",
    "            plt.semilogy(x[smask], y[smask], linestyle='None', marker='$S$')\n",
    "        imask = np.fromiter((w == 'inner-prod' for w in state['winner_s']), \n",
    "                            dtype='bool', count=len(x))\n",
    "        if np.any(imask):\n",
    "            plt.semilogy(x[imask], y[imask], linestyle='None', marker='$I$')\n",
    "        amask = np.fromiter((w == 'all' for w in state['winner_s']), \n",
    "                            dtype='bool', count=len(x))\n",
    "        if np.any(amask):\n",
    "            plt.semilogy(x[amask], y[amask], linestyle='None', marker='$A$')\n",
    "    plt.axis([1, 20, 0.1, 100])\n",
    "    plt.grid()\n",
    "    plt.legend(loc=0)\n",
    "    plt.xlabel('Simulation $s$')\n",
    "    plt.ylabel('Minimum Distance, $d(f, g_s)$')\n",
    "    plt.title('{}% Growth'.format(r))\n",
    "    fname = 'converge-{}per'.format(r)\n",
    "    plt.savefig(fname + '.eps')\n",
    "    plt.savefig(fname + '.png')"
   ]
  },
  {
   "cell_type": "code",
   "execution_count": null,
   "metadata": {
    "collapsed": true
   },
   "outputs": [],
   "source": [
    "linestyles = ['--', 'dotted', '-']\n",
    "labels = ['stochastic', 'inner-prod', 'all']"
   ]
  },
  {
   "cell_type": "code",
   "execution_count": null,
   "metadata": {
    "collapsed": false
   },
   "outputs": [],
   "source": [
    "convergence_plot([state0sto, state0inn, state0all], linestyles, labels, 0)"
   ]
  },
  {
   "cell_type": "code",
   "execution_count": null,
   "metadata": {
    "collapsed": false
   },
   "outputs": [],
   "source": [
    "convergence_plot([state1sto, state1inn, state1all], linestyles, labels, 1)"
   ]
  },
  {
   "cell_type": "code",
   "execution_count": null,
   "metadata": {
    "collapsed": false
   },
   "outputs": [],
   "source": [
    "convergence_plot([state2sto, state2inn, state2all], linestyles, labels, 2)"
   ]
  },
  {
   "cell_type": "code",
   "execution_count": null,
   "metadata": {
    "collapsed": true
   },
   "outputs": [],
   "source": [
    "def demand_product(states, title):\n",
    "    rates = [0, 1, 2]\n",
    "    colors = ['k', 'green', 'purple']\n",
    "    for state, color, rate in zip(states, colors, rates):\n",
    "        f = state['f']\n",
    "        g = state['G'][0]\n",
    "        t = 2016 + np.arange(len(g))\n",
    "        plt.plot(t, f, linestyle='--', color=color)\n",
    "        plt.plot(t, g, linestyle='-', color=color, label='{}% growth'.format(rate))\n",
    "    plt.legend(loc=0)\n",
    "    plt.axis([2016, 2065, 0, 250])\n",
    "    plt.xlabel('time [year]')\n",
    "    plt.ylabel('Power [GWe]')\n",
    "    plt.title(title + ' Method')\n",
    "    fname = 'demand-product-{}'.format(title.lower())\n",
    "    plt.savefig(fname + '.eps')\n",
    "    plt.savefig(fname + '.png')"
   ]
  },
  {
   "cell_type": "code",
   "execution_count": null,
   "metadata": {
    "collapsed": false
   },
   "outputs": [],
   "source": [
    "demand_product([state0sto, state1sto, state2sto], 'Stochastic')"
   ]
  },
  {
   "cell_type": "code",
   "execution_count": null,
   "metadata": {
    "collapsed": false
   },
   "outputs": [],
   "source": [
    "demand_product([state0inn, state1inn, state2inn], 'Inner Product')"
   ]
  },
  {
   "cell_type": "code",
   "execution_count": null,
   "metadata": {
    "collapsed": false
   },
   "outputs": [],
   "source": [
    "demand_product([state0all, state1all, state2all], 'All')"
   ]
  },
  {
   "cell_type": "code",
   "execution_count": null,
   "metadata": {
    "collapsed": true
   },
   "outputs": [],
   "source": []
  }
 ],
 "metadata": {
  "kernelspec": {
   "display_name": "Python 3",
   "language": "python",
   "name": "python3"
  },
  "language_info": {
   "codemirror_mode": {
    "name": "ipython",
    "version": 3
   },
   "file_extension": ".py",
   "mimetype": "text/x-python",
   "name": "python",
   "nbconvert_exporter": "python",
   "pygments_lexer": "ipython3",
   "version": "3.5.0"
  }
 },
 "nbformat": 4,
 "nbformat_minor": 0
}

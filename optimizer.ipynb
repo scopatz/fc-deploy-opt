{
 "cells": [
  {
   "cell_type": "markdown",
   "metadata": {},
   "source": [
    "Input File Creation\n",
    "===========\n",
    "First let's start with some tools to create input files for a given deployment schedule."
   ]
  },
  {
   "cell_type": "code",
   "execution_count": 1,
   "metadata": {
    "collapsed": false
   },
   "outputs": [
    {
     "name": "stderr",
     "output_type": "stream",
     "text": [
      "/home/scopatz/miniconda/lib/python3.5/importlib/_bootstrap.py:222: QAWarning: pyne.data is not yet QA compliant.\n",
      "  return f(*args, **kwds)\n",
      "/home/scopatz/miniconda/lib/python3.5/importlib/_bootstrap.py:222: QAWarning: pyne.material is not yet QA compliant.\n",
      "  return f(*args, **kwds)\n",
      "/home/scopatz/miniconda/lib/python3.5/importlib/_bootstrap.py:222: QAWarning: pyne.enrichment is not yet QA compliant.\n",
      "  return f(*args, **kwds)\n"
     ]
    }
   ],
   "source": [
    "import os\n",
    "import sys\n",
    "import uuid\n",
    "import json\n",
    "import time\n",
    "import subprocess\n",
    "from math import ceil\n",
    "from copy import deepcopy\n",
    "\n",
    "import numpy as np\n",
    "import pandas as pd\n",
    "import cymetric as cym\n",
    "%matplotlib inline\n",
    "import matplotlib.pyplot as plt\n",
    "import george\n",
    "\n",
    "import dtw"
   ]
  },
  {
   "cell_type": "code",
   "execution_count": 2,
   "metadata": {
    "collapsed": false
   },
   "outputs": [],
   "source": [
    "with open('once-through.json') as f:\n",
    "    BASE_SIM = json.load(f)\n",
    "DURATION = BASE_SIM['simulation']['control']['duration']\n",
    "YEARS = ceil(DURATION / 12)\n",
    "MONTH_SHUFFLE = (1, 7, 10, 4, 8, 6, 12, 2, 5, 9, 11, 3)\n",
    "NULL_SCHEDULE = {'build_times': [{'val': 1}], \n",
    "                 'n_build': [{'val': 0}], \n",
    "                 'prototypes': [{'val': 'LWR'}]}\n",
    "LWR_PROTOTYPE = {'val': 'LWR'}\n",
    "OPT_H5 = 'opt.h5'"
   ]
  },
  {
   "cell_type": "code",
   "execution_count": 3,
   "metadata": {
    "collapsed": false
   },
   "outputs": [
    {
     "data": {
      "text/plain": [
       "{'build_times': [{'val': 1}],\n",
       " 'n_build': [{'val': 0}],\n",
       " 'prototypes': [{'val': 'LWR'}]}"
      ]
     },
     "execution_count": 3,
     "metadata": {},
     "output_type": "execute_result"
    }
   ],
   "source": [
    "BASE_SIM['simulation']['region']['institution']['config']['DeployInst']"
   ]
  },
  {
   "cell_type": "code",
   "execution_count": 4,
   "metadata": {
    "collapsed": false
   },
   "outputs": [],
   "source": [
    "def deploy_inst_schedule(Θ):\n",
    "    if np.sum(Θ) == 0: \n",
    "        return NULL_SCHEDULE\n",
    "    sched = {'build_times': {'val': []},\n",
    "             'n_build': {'val': []},\n",
    "             'prototypes': {'val': []}}\n",
    "    build_times = sched['build_times']['val']\n",
    "    n_build = sched['n_build']['val']\n",
    "    prototypes = sched['prototypes']['val']\n",
    "    m = 0\n",
    "    for i, θ in enumerate(Θ):\n",
    "        if θ <= 0:\n",
    "            continue\n",
    "        build_times.append(i*12 + MONTH_SHUFFLE[m])\n",
    "        n_build.append(int(θ))\n",
    "        prototypes.append('LWR')\n",
    "        m = (m + 1) % 12\n",
    "    return sched\n",
    "\n",
    "def make_sim(Θ, fname='sim.json'):\n",
    "    sim = deepcopy(BASE_SIM)\n",
    "    inst = sim['simulation']['region']['institution']\n",
    "    inst['config']['DeployInst'] = deploy_inst_schedule(Θ)\n",
    "    with open(fname, 'w') as f:\n",
    "        json.dump(sim, f)\n",
    "    return sim"
   ]
  },
  {
   "cell_type": "code",
   "execution_count": 5,
   "metadata": {
    "collapsed": true
   },
   "outputs": [],
   "source": [
    "s = make_sim([])"
   ]
  },
  {
   "cell_type": "code",
   "execution_count": 6,
   "metadata": {
    "collapsed": false
   },
   "outputs": [
    {
     "data": {
      "text/plain": [
       "{'build_times': [{'val': 1}],\n",
       " 'n_build': [{'val': 0}],\n",
       " 'prototypes': [{'val': 'LWR'}]}"
      ]
     },
     "execution_count": 6,
     "metadata": {},
     "output_type": "execute_result"
    }
   ],
   "source": [
    "s['simulation']['region']['institution']['config']['DeployInst']"
   ]
  },
  {
   "cell_type": "markdown",
   "metadata": {},
   "source": [
    "Simulate\n",
    "=========\n",
    "Now let's build some tools to run simulations and extract a GWe time series."
   ]
  },
  {
   "cell_type": "code",
   "execution_count": 7,
   "metadata": {
    "collapsed": false
   },
   "outputs": [],
   "source": [
    "def run(fname='sim.json', out=OPT_H5):\n",
    "    \"\"\"Runs a simulation and returns the sim id.\"\"\"\n",
    "    cmd = ['cyclus', '--warn-limit', '0', '-o', out, fname]\n",
    "    proc = subprocess.run(cmd, check=True, universal_newlines=True, stdout=subprocess.PIPE)\n",
    "    simid = proc.stdout.rsplit(None, 1)[-1]\n",
    "    return simid\n",
    "\n",
    "ZERO_GWE = pd.DataFrame({'GWe': np.zeros(YEARS)}, index=np.arange(YEARS))\n",
    "ZERO_GWE.index.name = 'Time'\n",
    "\n",
    "def extract_gwe(simid, out=OPT_H5):\n",
    "    \"\"\"Computes the annual GWe for a simulation.\"\"\"\n",
    "    with cym.dbopen(out) as db:\n",
    "        evaler = cym.Evaluator(db)\n",
    "        raw = evaler.eval('TimeSeriesPower', conds=[('SimId', '==', uuid.UUID(simid))])\n",
    "    ano = pd.DataFrame({'Time': raw.Time.apply(lambda x: x//12), \n",
    "                        'GWe': raw.Value.apply(lambda x: 1e-3*x/12)})\n",
    "    gwe = ano.groupby('Time').sum()\n",
    "    gwe = (gwe + ZERO_GWE).fillna(0.0)\n",
    "    return np.array(gwe.GWe)"
   ]
  },
  {
   "cell_type": "markdown",
   "metadata": {},
   "source": [
    "Distancing\n",
    "========\n",
    "Now let's build some tools to distance between a GWe time series and a demand curve."
   ]
  },
  {
   "cell_type": "code",
   "execution_count": 8,
   "metadata": {
    "collapsed": true
   },
   "outputs": [],
   "source": [
    "DEFAULT_DEMAND = 90 * (1.01**np.arange(YEARS))  # 1% growth"
   ]
  },
  {
   "cell_type": "code",
   "execution_count": 9,
   "metadata": {
    "collapsed": false
   },
   "outputs": [],
   "source": [
    "def d(g, f=None):\n",
    "    \"\"\"The dynamic time warping distance between a GWe time series and a demand curve.\"\"\"\n",
    "    f = DEFAULT_DEMAND if f is None else f\n",
    "    rtn = dtw.distance(f[:, np.newaxis], g[:, np.newaxis])\n",
    "    return rtn\n",
    "\n",
    "def αd(g, f=None, dtol=1e-5):\n",
    "    \"\"\"Computes the mininmal α and the DTW d.\"\"\"\n",
    "    f = DEFAULT_DEMAND if f is None else f\n",
    "    C = dtw.cost_matrix(f[:, np.newaxis], g[:, np.newaxis])\n",
    "    d = dtw.distance(cost=C)\n",
    "    #d_t = np.diagonal(C) / (np.arange(1, C.shape[0] + 1) + np.arange(1, C.shape[1] + 1))\n",
    "    d_t = np.diagonal(C) / np.sum(C.shape)\n",
    "    #α = np.argwhere(np.cumsum(d_t <= dtol) != np.arange(1, len(d_t) + 1))[0,0]\n",
    "    filt = np.argwhere(d_t <= dtol)\n",
    "    α = filt[-1,-1] if len(filt) > 0 else 0\n",
    "    #α = filt[0,0] if len(filt) > 0 else 0\n",
    "    print(\"Simulation α\", α)\n",
    "    print(\"Simulation d(t)\", d_t)\n",
    "    return α, d\n",
    "\n",
    "def gwed(Θ, f=None, dtol=1e-5, find_α=False):\n",
    "    \"\"\"For a given deployment schedule Θ, return the GWe time series and the distance \n",
    "    to the demand function f.\n",
    "    \"\"\"\n",
    "    make_sim(Θ)\n",
    "    simid = run()\n",
    "    gwe = extract_gwe(simid)\n",
    "    if find_α:\n",
    "        rtn = αd(gwe, f=f, dtol=dtol)\n",
    "    else:\n",
    "        rtn = d(gwe, f=f)\n",
    "    return (gwe,) + rtn"
   ]
  },
  {
   "cell_type": "markdown",
   "metadata": {},
   "source": [
    "Initialize Optimization\n",
    "===============\n",
    "Now let's start with a couple of simple simulations"
   ]
  },
  {
   "cell_type": "code",
   "execution_count": 10,
   "metadata": {
    "collapsed": true
   },
   "outputs": [],
   "source": [
    "N = np.asarray(np.ceil(4*(1.01)**np.arange(YEARS)), dtype=int)  # max annual deployments\n",
    "Θs = [] # deployment schedules\n",
    "G = []  # GWe per sim\n",
    "D = []  # distances per sim\n",
    "if os.path.isfile(OPT_H5):\n",
    "    os.remove(OPT_H5)"
   ]
  },
  {
   "cell_type": "code",
   "execution_count": 11,
   "metadata": {
    "collapsed": false
   },
   "outputs": [],
   "source": [
    "def add_sim(Θ, f=None, dtol=1e-5):\n",
    "    \"\"\"Add a simulation to the known simulations by performing the simulation.\"\"\"\n",
    "    g_s, α, d_s = gwed(Θ, f=f, dtol=dtol, find_α=True)\n",
    "    Θs.append(Θ)\n",
    "    G.append(g_s)\n",
    "    D.append(d_s)\n",
    "    return α"
   ]
  },
  {
   "cell_type": "markdown",
   "metadata": {},
   "source": [
    "First, add a schedule where nothing is deployed, leaving the initial facilities to retire."
   ]
  },
  {
   "cell_type": "code",
   "execution_count": 12,
   "metadata": {
    "collapsed": false
   },
   "outputs": [
    {
     "name": "stdout",
     "output_type": "stream",
     "text": [
      "Simulation α 0\n",
      "Simulation d(t) [  0.04833333   0.05016667   0.08492333   0.1488609    0.24540451\n",
      "   0.37881355   0.54168169   0.73743684   0.97034121   1.23132462\n",
      "   1.53131787   1.86041938   2.22372857   2.62467919   3.05337265\n",
      "   3.51907804   4.01939882   4.55193948   5.11930554   5.72243693\n",
      "   6.35810796   7.03142738   7.73583832   8.4764517    9.25337955\n",
      "  10.06506835  10.91079903  11.79068702  12.70401556  13.65340238\n",
      "  14.6389664   15.65916107  16.71660768  17.80892876  18.93708138\n",
      "  20.10285719  21.30388243  22.54195125  23.8163591   25.12640269\n",
      "  26.46638005  27.81975718  29.18666809  30.5672481   31.96163392\n",
      "  33.36996359  34.79237656  36.22901366  37.68001713  39.14553063]\n"
     ]
    },
    {
     "data": {
      "text/plain": [
       "0"
      ]
     },
     "execution_count": 12,
     "metadata": {},
     "output_type": "execute_result"
    }
   ],
   "source": [
    "add_sim(np.zeros(YEARS, dtype=int))"
   ]
  },
  {
   "cell_type": "markdown",
   "metadata": {},
   "source": [
    "Next, add a simulation that is the max deployment schedule to bound the space"
   ]
  },
  {
   "cell_type": "code",
   "execution_count": 13,
   "metadata": {
    "collapsed": false
   },
   "outputs": [
    {
     "name": "stdout",
     "output_type": "stream",
     "text": [
      "Simulation α 0\n",
      "Simulation d(t) [  1.16666667e-02   7.10000000e-02   1.34576667e-01   2.36472433e-01\n",
      "   3.23885215e-01   4.41944067e-01   5.36262039e-01   6.83066193e-01\n",
      "   8.06287715e-01   9.15163374e-01   1.02139344e+00   1.16770073e+00\n",
      "   1.32994840e+00   1.48369971e+00   1.62257310e+00   1.78794182e+00\n",
      "   1.95230050e+00   2.13143123e+00   2.29098570e+00   2.49686978e+00\n",
      "   2.70072297e+00   2.89689973e+00   3.08079894e+00   3.30466910e+00\n",
      "   3.54732316e+00   3.78033684e+00   4.00910261e+00   4.28936438e+00\n",
      "   4.56826787e+00   4.87839020e+00   5.16057347e+00   5.49516595e+00\n",
      "   5.83787507e+00   6.15723134e+00   6.48226712e+00   6.87402745e+00\n",
      "   7.29335939e+00   7.69237527e+00   8.08127345e+00   8.50360275e+00\n",
      "   8.93014870e+00   9.40783104e+00   9.89381006e+00   1.04962490e+01\n",
      "   1.11213573e+01   1.17619059e+01   1.24124975e+01   1.31568664e+01\n",
      "   1.39810109e+01   1.48024031e+01]\n"
     ]
    },
    {
     "data": {
      "text/plain": [
       "0"
      ]
     },
     "execution_count": 13,
     "metadata": {},
     "output_type": "execute_result"
    }
   ],
   "source": [
    "add_sim(N)"
   ]
  },
  {
   "cell_type": "markdown",
   "metadata": {},
   "source": [
    "Optimizer\n",
    "=======\n",
    "Now let's add some tools to do the estimation phase of the optimization."
   ]
  },
  {
   "cell_type": "code",
   "execution_count": 14,
   "metadata": {
    "collapsed": false
   },
   "outputs": [],
   "source": [
    "Γ = 285\n",
    "np.random.seed(424242)"
   ]
  },
  {
   "cell_type": "code",
   "execution_count": 15,
   "metadata": {
    "collapsed": false
   },
   "outputs": [],
   "source": [
    "def gp_gwe(Θs, G, α, T=None, tol=1e-6, verbose=False):\n",
    "    \"\"\"Create a Gaussian process regression model for GWe.\"\"\"\n",
    "    S = len(G)\n",
    "    T = YEARS if T is None else T\n",
    "    t = np.arange(T)\n",
    "    P = len(Θs[0])\n",
    "    ndim = P + 1 - α\n",
    "    y_mean = np.mean(G)\n",
    "    y = np.concatenate(G)\n",
    "    x = np.empty((S*T, ndim), dtype=int)\n",
    "    for i in range(S):\n",
    "        x[i*T:(i+1)*T, 0] = t\n",
    "        x[i*T:(i+1)*T, 1:] = Θs[i][np.newaxis, α:]\n",
    "    yerr = tol * y_mean\n",
    "    #kernel = float(y_mean) * george.kernels.ExpSquaredKernel(1.0, ndim=ndim)\n",
    "    #for p in range(P):\n",
    "    #    kernel *= george.kernels.ExpSquaredKernel(1.0, ndim=ndim)\n",
    "    #kernel = float(y_mean) * george.kernels.Matern52Kernel(1.0, ndim=ndim)\n",
    "    kernel = float(y_mean) * george.kernels.Matern32Kernel(1.0, ndim=ndim)\n",
    "    gp = george.GP(kernel, mean=y_mean)\n",
    "    gp.compute(x, yerr=yerr, sort=False)\n",
    "    gp.optimize(x, y, yerr=yerr, sort=False, verbose=verbose)\n",
    "    return gp, x, y\n",
    "\n",
    "def predict_gwe(Θ, gp, y, α, T=None):\n",
    "    \"\"\"Predict GWe for a deployment schedule Θ and a GP.\"\"\"\n",
    "    T = YEARS if T is None else T\n",
    "    t = np.arange(T)\n",
    "    P = len(Θ)\n",
    "    ndim = P + 1 - α\n",
    "    x = np.empty((T, ndim), dtype=int)\n",
    "    x[:,0] = t\n",
    "    x[:,1:] = Θ[np.newaxis,α:]\n",
    "    mu = gp.predict(y, x, mean_only=True)\n",
    "    return mu\n",
    "\n",
    "def gp_d_inv(θ_p, D_inv, tol=1e-6, verbose=False):\n",
    "    \"\"\"Computes a Gaussian process model for a deployment parameter.\"\"\"\n",
    "    S = len(D)\n",
    "    ndim = 1\n",
    "    x = θ_p\n",
    "    y = D_inv\n",
    "    y_mean = np.mean(y)\n",
    "    yerr = tol * y_mean\n",
    "    kernel = float(y_mean) * george.kernels.ExpSquaredKernel(1.0, ndim=ndim)\n",
    "    gp = george.GP(kernel, mean=y_mean, solver=george.HODLRSolver)\n",
    "    gp.compute(x, yerr=yerr, sort=False)\n",
    "    gp.optimize(x, y, yerr=yerr, sort=False, verbose=verbose)\n",
    "    return gp, x, y\n",
    "\n",
    "def weights(Θs, D, N, Nlower, α, tol=1e-6, verbose=False):\n",
    "    P = len(N)\n",
    "    θ_ps = np.array(Θs)\n",
    "    D = np.asarray(D)\n",
    "    D_inv = D**-1 \n",
    "    W = [None] * α\n",
    "    for p in range(α, P):\n",
    "        θ_p = θ_ps[:,p]\n",
    "        range_p = np.arange(Nlower[p], N[p] + 1)\n",
    "        gp, _, _ = gp_d_inv(θ_p, D_inv, tol=tol, verbose=verbose)\n",
    "        d_inv_np = gp.predict(D_inv, range_p, mean_only=True)\n",
    "        #p_min = np.argmin(D)\n",
    "        #lam = θ_p[p_min]\n",
    "        #fact = np.cumprod([1.0] + list(range(1, N[p] + 1)))[Nlower[p]:N[p] + 1]\n",
    "        #d_inv_np = np.exp(-lam) * (lam**range_p) / fact\n",
    "        if np.all(np.isnan(d_inv_np)) or np.all(d_inv_np <= 0.0):\n",
    "            # try D, instead of D^-1\n",
    "            #gp, _, _ = gp_d_inv(θ_p, D, tol=tol, verbose=verbose)\n",
    "            #d_np = gp.predict(D, np.arange(0, N[p] + 1), mean_only=True)\n",
    "            # try setting the shortest d to 1, all others 0.\n",
    "            #d_inp_np = np.zeros(N[p] + 1, dtype='f8')\n",
    "            #p_min = np.argmin(D)\n",
    "            #d_inv_np[np.argwhere(θ_p[p_min] == range_p)] = 1.0\n",
    "            # try Poisson dist centered at min.\n",
    "            p_min = np.argmin(D)\n",
    "            lam = θ_p[p_min]\n",
    "            fact = np.cumprod([1.0] + list(range(1, N[p] + 1)))[Nlower[p]:N[p] + 1]\n",
    "            d_inv_np = np.exp(-lam) * (lam**range_p) / fact\n",
    "        if np.any(d_inv_np < 0.0):\n",
    "            d_inv_np[d_inv_np < 0.0] = np.min(d_inv_np[d_inv_np > 0.0])\n",
    "        d_inv_np_tot = d_inv_np.sum()\n",
    "        w_p = d_inv_np / d_inv_np_tot\n",
    "        W.append(w_p)\n",
    "    return W\n",
    "\n",
    "def guess_scheds(Θs, W, Γ, gp, y, α, T=None):\n",
    "    \"\"\"Guess a new deployment schedule, given a number of samples Γ, weights W, and \n",
    "    Guassian process for the GWe.\n",
    "    \"\"\"\n",
    "    P = len(W)\n",
    "    Θ_γs = np.empty((Γ, P), dtype=int)\n",
    "    Θ_γs[:, :α] = Θs[0][:α]\n",
    "    for p in range(α, P):\n",
    "        w_p = W[p]\n",
    "        Θ_γs[:, p] = np.random.choice(len(w_p), size=Γ, p=w_p)\n",
    "    Δ = []\n",
    "    for γ in range(Γ):\n",
    "        Θ_γ = Θ_γs[γ]\n",
    "        g_star = predict_gwe(Θ_γ, gp, y, α, T=T)\n",
    "        d_star = d(g_star)\n",
    "        Δ.append(d_star)\n",
    "    γ = np.argmin(Δ)\n",
    "    Θ_γ = Θ_γs[γ]\n",
    "    print('hyperparameters', gp.kernel[:])\n",
    "    #print('Θ_γs', Θ_γs)\n",
    "    #print('Θ_γs[γ]', Θ_γs[γ])\n",
    "    #print('Predition', Δ[γ], Δ)\n",
    "    return Θ_γ, Δ[γ]\n",
    "\n",
    "def guess_scheds_loop(Θs, gp, y, N, Nlower):\n",
    "    \"\"\"Guess a new deployment schedule, given a number of samples Γ, weights W, and \n",
    "    Guassian process for the GWe.\n",
    "    \"\"\"\n",
    "    P = len(N)\n",
    "    Θ = np.array(Θs[0], dtype=int)\n",
    "    for p in range(P):\n",
    "        d_p = []\n",
    "        range_p = np.arange(Nlower[p], N[p] + 1, dtype=int)\n",
    "        for n_p in range_p:\n",
    "            Θ[p] = n_p\n",
    "            g_star = predict_gwe(Θ, gp, y, α=0, T=p+1)[:p+1]\n",
    "            d_star = d(g_star, f=DEFAULT_DEMAND[:p+1])\n",
    "            d_p.append(d_star)\n",
    "        Θ[p] = range_p[np.argmin(d_p)]\n",
    "    print('hyperparameters', gp.kernel[:])\n",
    "    return Θ, np.min(d_p)\n",
    "\n",
    "def estimate(Θs, G, D, N, Nlower, Γ, α, T=None, tol=1e-6, verbose=False, method='stochastic'):\n",
    "    \"\"\"Runs an estimation step, returning a new deployment schedule.\"\"\"\n",
    "    gp, x, y = gp_gwe(Θs, G, α, T=T, tol=tol, verbose=verbose)\n",
    "    if method == 'stochastic':\n",
    "        # orig\n",
    "        W = weights(Θs, D, N, Nlower, α, tol=tol, verbose=verbose)\n",
    "        Θ, dmin = guess_scheds(Θs, W, Γ, gp, y, α, T=T)\n",
    "    elif method == 'inner-prod':\n",
    "        # inner prod\n",
    "        Θ, dmin = guess_scheds_loop(Θs, gp, y, N, Nlower)\n",
    "    elif method == 'all':\n",
    "        W = weights(Θs, D, N, Nlower, α, tol=tol, verbose=verbose)\n",
    "        Θ_stoch, dmin_stoch = guess_scheds(Θs, W, Γ, gp, y, α, T=T)\n",
    "        Θ_inner, dmin_inner = guess_scheds_loop(Θs, gp, y, N, Nlower)\n",
    "        if dmin_stoch < dmin_inner:\n",
    "            winner = 'stochastic'\n",
    "            Θ = Θ_stoch\n",
    "        else:\n",
    "            winner = 'inner'\n",
    "            Θ = Θ_inner\n",
    "        print('Estimate winner is {}'.format(winner))\n",
    "    else:\n",
    "        raise ValueError('method {} not known'.format(method))\n",
    "    return Θ\n",
    "\n",
    "def optimize(MAX_D=0.1, MAX_S=12, T=None, tol=1e-6, dtol=1e-5, verbose=False):\n",
    "    global Θs, G, D\n",
    "    α = 0\n",
    "    s = 2\n",
    "    z = 2\n",
    "    n = N\n",
    "    nlower = n0 = np.zeros(len(N), dtype=int)\n",
    "    dtol = np.linspace(dtol * 2.0 / len(N), dtol, len(N))\n",
    "    method = 'stochastic'\n",
    "    #method = 'all'\n",
    "    while MAX_D < D[-1] and s < MAX_S and α + 1 < YEARS:\n",
    "        print(s)\n",
    "        print('-'*18)\n",
    "        Gprev = np.array(G[:z])\n",
    "        t0 = time.time()\n",
    "        method = 'stochastic' if s%4 < 2 else 'all'\n",
    "        Θ = estimate(Θs, G, D, n, nlower, Γ, α, T=T, tol=tol, verbose=verbose, method=method)\n",
    "        t1 = time.time()\n",
    "        α_s = add_sim(Θ, dtol=dtol)\n",
    "        t2 = time.time()\n",
    "        print('Estimate time:   {0} min {1} sec'.format((t1-t0)//60, (t1-t0)%60))\n",
    "        print('Simulation time: {0} min {1} sec'.format((t2-t1)//60, (t2-t1)%60))\n",
    "        print(D)\n",
    "        sys.stdout.flush()\n",
    "        idx = [int(i) for i in np.argsort(D)[:z]]\n",
    "        if D[-1] == max(D):\n",
    "            idx.append(-1)\n",
    "        #elif len(G) == z + 2  and np.allclose(G[:z], Gprev):\n",
    "        #    n = np.array([Θs[0] + 1, N], dtype=int).min(axis=0)\n",
    "        #    nlower = np.array([Θs[0] - 1, n0], dtype=int).max(axis=0)\n",
    "        #    print('New N-upper', n)\n",
    "        #    print('New N-lower', nlower)\n",
    "        #if (α < α_s) and ((len(D) - 1) in idx[:2]):\n",
    "        #if (α < α_s) and (len(D) == idx[0] + 1):\n",
    "        if (len(D) == idx[0] + 1):\n",
    "            print('Update α: {0} -> {1}'.format(α, α_s))\n",
    "            α = α_s\n",
    "        #    method = 'stochastic'\n",
    "        #elif method == 'stochastic' and len(D) == z + 2:\n",
    "        #elif len(D) == z + 2:\n",
    "        #    print('Trying inner product method')\n",
    "        #    method = 'inner-prod'\n",
    "        #else:\n",
    "        #    print('Trying stochastic method')\n",
    "        #    method = 'stochastic'\n",
    "        #elif α > 0:\n",
    "        #    print('Update α: {0} -> {1}'.format(α, α - 1))\n",
    "        #    α -= 1\n",
    "        Θs = [Θs[i] for i in idx]\n",
    "        G = [G[i] for i in idx]\n",
    "        D = [D[i] for i in idx]\n",
    "        s += 1\n",
    "        print()"
   ]
  },
  {
   "cell_type": "markdown",
   "metadata": {},
   "source": [
    "Simulate\n",
    "=======\n",
    "Ok! Let's try it."
   ]
  },
  {
   "cell_type": "code",
   "execution_count": 16,
   "metadata": {
    "collapsed": false,
    "scrolled": false
   },
   "outputs": [
    {
     "name": "stdout",
     "output_type": "stream",
     "text": [
      "2\n",
      "------------------\n",
      "hyperparameters [ 8.44155389  5.41756185]\n",
      "hyperparameters [ 8.44155389  5.41756185]\n",
      "Estimate winner is inner\n",
      "Simulation α 0\n",
      "Simulation d(t) [ 0.04833333  0.05016667  0.08492333  0.1488609   0.24540451  0.37881355\n",
      "  0.54168169  0.73743684  0.97034121  1.23132462  1.53131787  1.86041938\n",
      "  2.22372857  2.62467919  3.00753932  3.40657804  3.79856549  4.15610615\n",
      "  4.52347221  4.85577026  5.20810796  5.51059404  5.80250498  6.10311837\n",
      "  6.38587955  6.10855501  5.42453913  5.30496029  5.4124555   4.65216848\n",
      "  4.55939917  4.24411294  4.36155955  3.99181954  3.94801078  3.94139337\n",
      "  3.93777646  3.95849049  4.02824931  4.07816213  4.11669415  4.2323508\n",
      "  4.3672495   4.57482883  4.77047313  5.07220136  5.42436825  5.77744383\n",
      "  6.15926431  6.57002393]\n",
      "Estimate time:   0.0 min 9.885438442230225 sec\n",
      "Simulation time: 0.0 min 7.120560646057129 sec\n",
      "[39.145530632616016, 14.802403115793279, 6.5700239322320666]\n",
      "Update α: 0 -> 0\n",
      "\n",
      "3\n",
      "------------------\n",
      "hyperparameters [ 7.8516871  4.6362031]\n",
      "hyperparameters [ 7.8516871  4.6362031]\n",
      "Estimate winner is stochastic\n",
      "Simulation α 0\n",
      "Simulation d(t) [  0.03916667   0.06266667   0.06957667   0.0801809    0.11839118\n",
      "   0.18263355   0.27550169   0.39625684   0.55082787   0.73847795\n",
      "   0.96013787   1.21423938   1.46588191   1.74516586   2.04052598\n",
      "   2.34623138   2.67988549   2.97992615   3.30312554   3.6479236\n",
      "   4.0127613    4.39358071   4.80299165   5.2127717    5.63303288\n",
      "   6.04638835   6.47461903   6.86534035   7.27783556   7.69805571\n",
      "   8.12195307   8.55798107   8.95959435   9.38024876   9.81173471\n",
      "  10.21917719  10.64520243  11.04078459  11.45769243  10.25662225\n",
      "   9.92175597   9.47901313   8.81157107   7.21067529   6.28688881\n",
      "   5.93061151   5.52515577   4.93013096   4.77365259   4.69667341]\n",
      "Estimate time:   0.0 min 10.108216524124146 sec\n",
      "Simulation time: 0.0 min 8.071738958358765 sec\n",
      "[6.5700239322320666, 14.802403115793279, 4.6966734129145085]\n",
      "Update α: 0 -> 0\n",
      "\n",
      "4\n",
      "------------------\n",
      "hyperparameters [ 6.95986966  4.25086576]\n",
      "Simulation α 0\n",
      "Simulation d(t) [ 0.03        0.05016667  0.05659     0.08052757  0.11707118  0.18464689\n",
      "  0.27334836  0.38410351  0.53117454  0.70715795  0.92131787  1.14958605\n",
      "  1.39956191  1.66051252  1.93670598  2.22907804  2.52606549  2.78943948\n",
      "  3.06263887  3.36577026  3.69810796  4.03309404  4.39417165  4.75311837\n",
      "  5.12004622  5.46673501  5.81663236  6.17152035  6.53318222  6.88590238\n",
      "  7.24813307  7.6374944   8.03077435  8.38976209  8.77374804  9.15285719\n",
      "  9.5555491   9.14627125  9.07092521  9.4784688   9.89011283  8.13669155\n",
      "  7.01332986  6.74001109  6.40724934  5.14514033  4.73270259  4.21109901\n",
      "  4.22596483  3.86226935]\n",
      "Estimate time:   0.0 min 7.199155330657959 sec\n",
      "Simulation time: 0.0 min 7.899872064590454 sec\n",
      "[4.6966734129145085, 6.5700239322320666, 3.8622693476660661]\n",
      "Update α: 0 -> 0\n",
      "\n",
      "5\n",
      "------------------\n",
      "hyperparameters [ 5.79633636  3.74611183]\n",
      "Simulation α 0\n",
      "Simulation d(t) [ 0.04833333  0.0685      0.07242333  0.08469423  0.11207118  0.16548022\n",
      "  0.20918169  0.27243684  0.31234121  0.34499129  0.43581787  0.54991938\n",
      "  0.68906191  0.85751252  1.01370598  1.17191138  1.33723216  1.49560615\n",
      "  1.37276374  1.54422846  1.73823283  1.95405224  2.19512985  2.42907657\n",
      "  2.68100442  2.92935988  3.1759239   3.21834035  2.87259929  3.12531944\n",
      "  3.4042168   3.69857813  3.41375832  3.36692623  3.02489256  3.29816838\n",
      "  3.36500281  3.64807163  3.95747948  4.26918974  4.07319326  2.94476761\n",
      "  2.65198948  2.62673617  1.6717359   1.5197968   1.27664023  1.18112218\n",
      "  1.08814037  1.0858136 ]\n",
      "Estimate time:   0.0 min 7.523599863052368 sec\n",
      "Simulation time: 0.0 min 9.170890808105469 sec\n",
      "[3.8622693476660661, 4.6966734129145085, 1.0858135988749464]\n",
      "Update α: 0 -> 0\n",
      "\n",
      "6\n",
      "------------------\n",
      "hyperparameters [ 5.77139819  3.71080984]\n",
      "hyperparameters [ 5.77139819  3.71080984]\n",
      "Estimate winner is stochastic\n",
      "Simulation α 0\n",
      "Simulation d(t) [ 0.04833333  0.0685      0.07659     0.09552757  0.09589118  0.14013355\n",
      "  0.15359169  0.19601351  0.16976822  0.18408497  0.24074488  0.31234639\n",
      "  0.38398892  0.33948269  0.40900948  0.49221488  0.42390217  0.43145633\n",
      "  0.344704    0.43866873  0.56850643  0.72265917  0.87040345  1.0326835\n",
      "  1.20294468  1.38796681  1.56869749  1.75025215  1.94858069  1.88496036\n",
      "  2.08302439  2.19574319  2.22152313  2.31301088  2.5436635   2.33010429\n",
      "  2.5827962   2.84169836  3.1361062   3.43698313  3.48318572  3.29363341\n",
      "  3.04890549  2.10653723  2.03758971  1.25636988  1.29711618  0.95405582\n",
      "  0.87357401  0.89408751]\n",
      "Estimate time:   0.0 min 9.769109010696411 sec\n",
      "Simulation time: 0.0 min 9.866751432418823 sec\n",
      "[1.0858135988749464, 3.8622693476660661, 0.89408750966784967]\n",
      "Update α: 0 -> 0\n",
      "\n",
      "7\n",
      "------------------\n",
      "hyperparameters [ 5.52562856  3.40788477]\n",
      "hyperparameters [ 5.52562856  3.40788477]\n",
      "Estimate winner is inner\n",
      "Simulation α 0\n",
      "Simulation d(t) [ 0.01166667  0.05433333  0.07457667  0.1131391   0.12638522  0.11353502\n",
      "  0.11050454  0.12459302  0.12752198  0.14183873  0.16056968  0.19550452\n",
      "  0.23464705  0.18740815  0.22360161  0.27597367  0.34212779  0.29875308\n",
      "  0.3052858   0.37591719  0.4932549   0.59657431  0.72348525  0.85409863\n",
      "  0.98352648  1.13938195  1.33011263  1.54000062  1.71082916  1.52141152\n",
      "  1.70197554  1.91217021  2.10878349  2.07176071  2.29407999  2.23759528\n",
      "  2.48778718  2.74168934  3.00609719  3.29697411  3.58945147  2.88244829\n",
      "  2.5580035   2.10048379  2.15653627  1.37948311  1.18882654  1.02988756\n",
      "  0.96589835  0.96921124]\n",
      "Estimate time:   0.0 min 9.764972448348999 sec\n",
      "Simulation time: 0.0 min 10.896064758300781 sec\n",
      "[0.89408750966784967, 1.0858135988749464, 0.96921124092359856]\n",
      "\n",
      "8\n",
      "------------------\n",
      "hyperparameters [ 5.26477282  3.17407647]\n",
      "Simulation α 0\n",
      "Simulation d(t) [ 0.04833333  0.07766667  0.08291     0.08397243  0.09551604  0.11975842\n",
      "  0.15179322  0.16186107  0.21726544  0.18380771  0.25046762  0.3262358\n",
      "  0.43287832  0.53716228  0.46290428  0.554443    0.66226379  0.49555051\n",
      "  0.58791657  0.69271462  0.81255232  0.96337174  0.83357267  0.96668605\n",
      "  1.1061139   1.1795094   1.25833884  1.11598271  1.21181125  1.37203141\n",
      "  1.07243386  1.23429519  1.3549412   1.52142894  1.62354628  1.52768327\n",
      "  1.70204184  1.79796937  1.24526228  1.39947254  1.5644499   1.29936799\n",
      "  1.10257685  0.95660524  0.8030087   0.8121717   0.70466033  0.70713077\n",
      "  0.7223009   0.7467874 ]\n",
      "Estimate time:   0.0 min 6.6052021980285645 sec\n",
      "Simulation time: 0.0 min 11.427857398986816 sec\n",
      "[0.89408750966784967, 0.96921124092359856, 0.74678739894329227]\n",
      "Update α: 0 -> 0\n",
      "\n",
      "9\n",
      "------------------\n",
      "hyperparameters [ 5.53715058  3.19267594]\n",
      "Simulation α 0\n",
      "Simulation d(t) [ 0.04833333  0.08683333  0.10124333  0.1106391   0.11897243  0.13654815\n",
      "  0.15262656  0.15421504  0.20045274  0.1973452   0.24650511  0.25430809\n",
      "  0.27595062  0.22494792  0.22518656  0.22589195  0.25371273  0.24886385\n",
      "  0.26456324  0.26221049  0.29704819  0.32703427  0.34811188  0.41872526\n",
      "  0.50481978  0.51094519  0.55866713  0.49723324  0.51889511  0.5899486\n",
      "  0.5113017   0.59316303  0.66210614  0.74026055  0.75591317  0.83335565\n",
      "  0.88115021  0.88755237  0.74877617  0.83631976  0.87546379  0.68515072\n",
      "  0.58544162  0.55856691  0.53130422  0.5391956   0.60344929  0.68014553\n",
      "  0.75213119  0.85127432]\n",
      "Estimate time:   0.0 min 7.091408729553223 sec\n",
      "Simulation time: 0.0 min 12.549782991409302 sec\n",
      "[0.74678739894329227, 0.89408750966784967, 0.85127432172343309]\n",
      "\n",
      "10\n",
      "------------------\n",
      "hyperparameters [ 5.80350025  3.40563032]\n",
      "hyperparameters [ 5.80350025  3.40563032]\n",
      "Estimate winner is inner\n",
      "Simulation α 0\n",
      "Simulation d(t) [ 0.02083333  0.0585      0.07874333  0.1106391   0.11492882  0.12250454\n",
      "  0.12774961  0.16350476  0.17231818  0.21663492  0.27412817  0.33656301\n",
      "  0.36026273  0.27427112  0.31046458  0.36283664  0.26391755  0.30812487\n",
      "  0.28022674  0.32502479  0.3322197   0.38053911  0.46411672  0.57806343\n",
      "  0.69332462  0.79084675  0.8982441   0.74450925  0.85867112  0.75641911\n",
      "  0.86031647  0.98884447  0.90998502  1.04147276  1.17712538  1.20001407\n",
      "  1.34937264  1.24599172  1.16145692  1.31150051  1.13368316  1.11833763\n",
      "  0.88489167  0.75266737  0.67043179  0.6920948   0.70052248  0.71305205\n",
      "  0.76221872  0.80302851]\n",
      "Estimate time:   0.0 min 10.082300662994385 sec\n",
      "Simulation time: 0.0 min 12.856892585754395 sec\n",
      "[0.74678739894329227, 0.85127432172343309, 0.80302851275755771]\n",
      "\n",
      "11\n",
      "------------------\n",
      "hyperparameters [ 5.5541799   3.15111289]\n",
      "hyperparameters [ 5.5541799   3.15111289]\n",
      "Estimate winner is inner\n",
      "Simulation α 0\n",
      "Simulation d(t) [ 0.02083333  0.0585      0.07874333  0.1106391   0.11492882  0.12250454\n",
      "  0.12774961  0.16350476  0.17731818  0.22746826  0.29412817  0.36739635\n",
      "  0.44487221  0.49797263  0.56166609  0.64820482  0.39490562  0.46744627\n",
      "  0.39713713  0.48026852  0.53018825  0.611841    0.72458527  0.86186532\n",
      "  0.86985687  1.00071234  1.03622569  1.18028035  1.33277555  0.8948254\n",
      "  1.04205609  1.17808409  1.3305307   1.23981233  1.39129829  1.57124077\n",
      "  1.75893267  1.25998742  1.4227286   1.59860553  1.77941622  1.47679424\n",
      "  1.23758926  1.01114574  1.08469822  0.81289839  0.78037971  0.77952413\n",
      "  0.79185399  0.85050715]\n",
      "Estimate time:   0.0 min 10.088093280792236 sec\n",
      "Simulation time: 0.0 min 13.658495903015137 sec\n",
      "[0.74678739894329227, 0.80302851275755771, 0.85050715108349506]\n",
      "\n",
      "12\n",
      "------------------\n",
      "hyperparameters [ 5.3590653   3.01052406]\n",
      "Simulation α 0\n",
      "Simulation d(t) [ 0.04833333  0.05933333  0.08492333  0.12219423  0.16957118  0.24881355\n",
      "  0.24084836  0.29493684  0.30849454  0.36364462  0.4644712   0.41775639\n",
      "  0.49439892  0.58284954  0.57889158  0.6113607   0.45638132  0.54225531\n",
      "  0.63712137  0.60070782  0.70721219  0.81969827  0.75501735  0.88813073\n",
      "  0.53814904  0.6340045   0.74140185  0.87045651  0.9827276   0.76663352\n",
      "  0.87136421  1.01239221  0.99597518  1.13329625  1.27228221  1.43805802\n",
      "  1.31272756  1.10018707  1.15127118  1.31881477  1.38628733  1.18677514\n",
      "  1.23462615  0.90327073  0.76261464  0.72395095  0.72071197  0.72074154\n",
      "  0.7430714   0.79988467]\n",
      "Estimate time:   0.0 min 7.420232057571411 sec\n",
      "Simulation time: 0.0 min 14.468168258666992 sec\n",
      "[0.74678739894329227, 0.80302851275755771, 0.85050715108349506, 0.79988466641279543]\n",
      "\n",
      "13\n",
      "------------------\n",
      "hyperparameters [ 5.65627658  3.11420122]\n",
      "Simulation α 0\n",
      "Simulation d(t) [ 0.03916667  0.06266667  0.07124333  0.08397243  0.0826809   0.09275661\n",
      "  0.12312475  0.1138539   0.13592494  0.17524168  0.24523493  0.32350311\n",
      "  0.42014563  0.53276292  0.63978971  0.64330188  0.74612266  0.77455595\n",
      "  0.90775535  1.0425534   1.18655777  1.35904385  1.53178813  1.64720739\n",
      "  1.47216841  1.64052387  1.82542122  1.56200439  1.60259836  1.40307439\n",
      "  1.57780508  1.04792274  1.11953602  1.21685709  1.24108732  1.14300743\n",
      "  0.85509962  0.95900178  0.97924295  0.87889722  0.96220791  0.78189484\n",
      "  0.7176681   0.67153954  0.70798706  0.73132406  0.78057775  0.85563689\n",
      "  0.93420444  1.03883754]\n",
      "Estimate time:   0.0 min 7.145991802215576 sec\n",
      "Simulation time: 0.0 min 15.327412366867065 sec\n",
      "[0.74678739894329227, 0.79988466641279543, 1.0388375364113469]\n",
      "\n",
      "14\n",
      "------------------\n",
      "hyperparameters [ 5.75671726  3.2962867 ]\n",
      "hyperparameters [ 5.75671726  3.2962867 ]\n",
      "Estimate winner is inner\n",
      "Simulation α 0\n",
      "Simulation d(t) [ 0.01166667  0.06266667  0.10124333  0.14147243  0.14805188  0.14042882\n",
      "  0.14163029  0.16821878  0.17281441  0.19546449  0.23379107  0.28955925\n",
      "  0.28399172  0.24762093  0.27048106  0.30868645  0.28266125  0.30686857\n",
      "  0.29973077  0.33702883  0.41269987  0.42101928  0.48376355  0.5510436\n",
      "  0.52508266  0.47846597  0.45954144  0.51776276  0.6010913   0.50336318\n",
      "  0.5764272   0.63283068  0.64361062  0.65176503  0.70658432  0.79986013\n",
      "  0.90421871  0.65978025  0.71502143  0.80006502  0.8493      0.76979332\n",
      "  0.69863469  0.67339953  0.68778534  0.73862234  0.81037604  0.87459452\n",
      "  0.96089134  1.04984079]\n",
      "Estimate time:   0.0 min 10.162271499633789 sec\n",
      "Simulation time: 0.0 min 16.407360792160034 sec\n",
      "[0.74678739894329227, 0.79988466641279543, 1.0388375364113469, 1.0498407940422758]\n",
      "\n",
      "CPU times: user 2min 5s, sys: 8.41 s, total: 2min 13s\n",
      "Wall time: 4min 22s\n"
     ]
    }
   ],
   "source": [
    "%%time\n",
    "optimize(MAX_S=25, dtol=1e-5)"
   ]
  },
  {
   "cell_type": "code",
   "execution_count": 17,
   "metadata": {
    "collapsed": false
   },
   "outputs": [
    {
     "data": {
      "text/plain": [
       "array([0, 3, 3, 3, 0, 4, 2, 4, 3, 2, 2, 1, 1, 5, 5, 3, 5, 4, 2, 0, 4, 3, 4,\n",
       "       3, 5, 2, 3, 3, 5, 4, 2, 5, 2, 4, 2, 4, 5, 6, 2, 2, 5, 2, 6, 1, 6, 2,\n",
       "       5, 3, 3, 5])"
      ]
     },
     "execution_count": 17,
     "metadata": {},
     "output_type": "execute_result"
    }
   ],
   "source": [
    "Θs[0]"
   ]
  },
  {
   "cell_type": "code",
   "execution_count": 18,
   "metadata": {
    "collapsed": false
   },
   "outputs": [
    {
     "data": {
      "text/plain": [
       "array([  85.16666667,   93.83333333,   92.33333333,   92.83333333,\n",
       "         92.5       ,   92.16666667,   92.33333333,   93.41666667,\n",
       "         91.91666667,   95.5       ,   92.75      ,   92.83333333,\n",
       "         90.75      ,   92.        ,   96.83333333,   95.33333333,\n",
       "         94.75      ,  100.16666667,   98.41666667,   98.25      ,\n",
       "         97.83333333,   95.83333333,  101.91666667,   99.83333333,\n",
       "        100.33333333,  102.16666667,  102.66666667,  105.        ,\n",
       "        105.33333333,  104.08333333,  109.16666667,  106.33333333,\n",
       "        109.25      ,  108.33333333,  109.66666667,  111.58333333,\n",
       "        111.33333333,  112.16666667,  118.16666667,  117.25      ,\n",
       "        117.5       ,  121.66666667,  125.08333333,  128.33333333,\n",
       "        132.41666667,  133.66666667,  141.33333333,  143.41666667,\n",
       "        143.58333333,  149.        ])"
      ]
     },
     "execution_count": 18,
     "metadata": {},
     "output_type": "execute_result"
    }
   ],
   "source": [
    "G[0]"
   ]
  },
  {
   "cell_type": "code",
   "execution_count": 19,
   "metadata": {
    "collapsed": false
   },
   "outputs": [
    {
     "data": {
      "text/plain": [
       "array([  90.        ,   90.9       ,   91.809     ,   92.72709   ,\n",
       "         93.6543609 ,   94.59090451,   95.53681355,   96.49218169,\n",
       "         97.45710351,   98.43167454,   99.41599129,  100.4101512 ,\n",
       "        101.41425271,  102.42839524,  103.45267919,  104.48720598,\n",
       "        105.53207804,  106.58739882,  107.65327281,  108.72980554,\n",
       "        109.8171036 ,  110.91527463,  112.02442738,  113.14467165,\n",
       "        114.27611837,  115.41887955,  116.57306835,  117.73879903,\n",
       "        118.91618702,  120.10534889,  121.30640238,  122.5194664 ,\n",
       "        123.74466107,  124.98210768,  126.23192876,  127.49424804,\n",
       "        128.76919052,  130.05688243,  131.35745125,  132.67102577,\n",
       "        133.99773602,  135.33771338,  136.69109052,  138.05800142,\n",
       "        139.43858144,  140.83296725,  142.24129692,  143.66370989,\n",
       "        145.10034699,  146.55135046])"
      ]
     },
     "execution_count": 19,
     "metadata": {},
     "output_type": "execute_result"
    }
   ],
   "source": [
    "DEFAULT_DEMAND"
   ]
  },
  {
   "cell_type": "code",
   "execution_count": 20,
   "metadata": {
    "collapsed": false
   },
   "outputs": [
    {
     "data": {
      "text/plain": [
       "array([-0.0537037 ,  0.03226989,  0.00571113,  0.00114576, -0.01232576,\n",
       "       -0.02562866, -0.03353137, -0.0318732 , -0.05685001, -0.02978385,\n",
       "       -0.0670515 , -0.07545868, -0.10515536, -0.10181157, -0.06398429,\n",
       "       -0.08760759, -0.10216873, -0.06023913, -0.08579959, -0.09638393,\n",
       "       -0.10912481, -0.13597714, -0.09022818, -0.11764883, -0.12200961,\n",
       "       -0.11481842, -0.11929343, -0.10819542, -0.11422208, -0.13339968,\n",
       "       -0.10007498, -0.1321107 , -0.11713363, -0.13320926, -0.13122878,\n",
       "       -0.12479712, -0.13540395, -0.13755686, -0.10041901, -0.11623507,\n",
       "       -0.12311951, -0.10101432, -0.08491963, -0.070439  , -0.05035848,\n",
       "       -0.05088511, -0.00638326, -0.00171959, -0.01045493,  0.01670847])"
      ]
     },
     "execution_count": 20,
     "metadata": {},
     "output_type": "execute_result"
    }
   ],
   "source": [
    "(G[0] - DEFAULT_DEMAND) / DEFAULT_DEMAND"
   ]
  },
  {
   "cell_type": "code",
   "execution_count": 21,
   "metadata": {
    "collapsed": false
   },
   "outputs": [
    {
     "data": {
      "text/plain": [
       "475.37818233899884"
      ]
     },
     "execution_count": 21,
     "metadata": {},
     "output_type": "execute_result"
    }
   ],
   "source": [
    "sum(np.abs(G[0] - DEFAULT_DEMAND))"
   ]
  },
  {
   "cell_type": "code",
   "execution_count": 22,
   "metadata": {
    "collapsed": false
   },
   "outputs": [
    {
     "data": {
      "text/plain": [
       "0.042499999999999996"
      ]
     },
     "execution_count": 22,
     "metadata": {},
     "output_type": "execute_result"
    }
   ],
   "source": [
    "1.7 / 40"
   ]
  },
  {
   "cell_type": "code",
   "execution_count": 23,
   "metadata": {
    "collapsed": false
   },
   "outputs": [
    {
     "data": {
      "text/plain": [
       "array([ 0, -2, -3,  1,  0,  1,  2, -1,  1, -2,  3,  1,  3, -1, -3,  0,  0,\n",
       "       -1,  3,  0,  0,  0,  0,  3,  0, -1, -1, -1,  0,  1,  0,  0,  0, -1,\n",
       "        0,  0,  0,  0,  0, -1, -1,  0,  0,  3,  1, -1,  0, -1, -1,  0])"
      ]
     },
     "execution_count": 23,
     "metadata": {},
     "output_type": "execute_result"
    }
   ],
   "source": [
    "Θs[1] - Θs[0]"
   ]
  },
  {
   "cell_type": "code",
   "execution_count": 24,
   "metadata": {
    "collapsed": false
   },
   "outputs": [
    {
     "data": {
      "text/plain": [
       "285"
      ]
     },
     "execution_count": 24,
     "metadata": {},
     "output_type": "execute_result"
    }
   ],
   "source": [
    "sum(N)"
   ]
  },
  {
   "cell_type": "code",
   "execution_count": null,
   "metadata": {
    "collapsed": true
   },
   "outputs": [],
   "source": []
  }
 ],
 "metadata": {
  "kernelspec": {
   "display_name": "Python 3",
   "language": "python",
   "name": "python3"
  },
  "language_info": {
   "codemirror_mode": {
    "name": "ipython",
    "version": 3
   },
   "file_extension": ".py",
   "mimetype": "text/x-python",
   "name": "python",
   "nbconvert_exporter": "python",
   "pygments_lexer": "ipython3",
   "version": "3.5.0"
  }
 },
 "nbformat": 4,
 "nbformat_minor": 0
}

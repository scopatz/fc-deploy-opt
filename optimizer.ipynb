{
 "cells": [
  {
   "cell_type": "markdown",
   "metadata": {},
   "source": [
    "Input File Creation\n",
    "===========\n",
    "First let's start with some tools to create input files for a given deployment schedule."
   ]
  },
  {
   "cell_type": "code",
   "execution_count": 1,
   "metadata": {
    "collapsed": false
   },
   "outputs": [
    {
     "name": "stderr",
     "output_type": "stream",
     "text": [
      "/home/scopatz/miniconda/lib/python3.5/importlib/_bootstrap.py:222: QAWarning: pyne.data is not yet QA compliant.\n",
      "  return f(*args, **kwds)\n",
      "/home/scopatz/miniconda/lib/python3.5/importlib/_bootstrap.py:222: QAWarning: pyne.material is not yet QA compliant.\n",
      "  return f(*args, **kwds)\n",
      "/home/scopatz/miniconda/lib/python3.5/importlib/_bootstrap.py:222: QAWarning: pyne.enrichment is not yet QA compliant.\n",
      "  return f(*args, **kwds)\n"
     ]
    }
   ],
   "source": [
    "import os\n",
    "import sys\n",
    "import uuid\n",
    "import json\n",
    "import time\n",
    "import subprocess\n",
    "from math import ceil\n",
    "from copy import deepcopy\n",
    "\n",
    "import numpy as np\n",
    "import pandas as pd\n",
    "import cymetric as cym\n",
    "%matplotlib inline\n",
    "import matplotlib.pyplot as plt\n",
    "import george\n",
    "\n",
    "import dtw"
   ]
  },
  {
   "cell_type": "code",
   "execution_count": 2,
   "metadata": {
    "collapsed": false
   },
   "outputs": [],
   "source": [
    "with open('once-through.json') as f:\n",
    "    BASE_SIM = json.load(f)\n",
    "DURATION = BASE_SIM['simulation']['control']['duration']\n",
    "YEARS = ceil(DURATION / 12)\n",
    "MONTH_SHUFFLE = (1, 7, 10, 4, 8, 6, 12, 2, 5, 9, 11, 3)\n",
    "NULL_SCHEDULE = {'build_times': [{'val': 1}], \n",
    "                 'n_build': [{'val': 0}], \n",
    "                 'prototypes': [{'val': 'LWR'}]}\n",
    "LWR_PROTOTYPE = {'val': 'LWR'}\n",
    "OPT_H5 = 'opt.h5'"
   ]
  },
  {
   "cell_type": "code",
   "execution_count": 3,
   "metadata": {
    "collapsed": false
   },
   "outputs": [
    {
     "data": {
      "text/plain": [
       "{'build_times': [{'val': 1}],\n",
       " 'n_build': [{'val': 0}],\n",
       " 'prototypes': [{'val': 'LWR'}]}"
      ]
     },
     "execution_count": 3,
     "metadata": {},
     "output_type": "execute_result"
    }
   ],
   "source": [
    "BASE_SIM['simulation']['region']['institution']['config']['DeployInst']"
   ]
  },
  {
   "cell_type": "code",
   "execution_count": 4,
   "metadata": {
    "collapsed": false
   },
   "outputs": [],
   "source": [
    "def deploy_inst_schedule(Θ):\n",
    "    if np.sum(Θ) == 0: \n",
    "        return NULL_SCHEDULE\n",
    "    sched = {'build_times': {'val': []},\n",
    "             'n_build': {'val': []},\n",
    "             'prototypes': {'val': []}}\n",
    "    build_times = sched['build_times']['val']\n",
    "    n_build = sched['n_build']['val']\n",
    "    prototypes = sched['prototypes']['val']\n",
    "    m = 0\n",
    "    for i, θ in enumerate(Θ):\n",
    "        if θ <= 0:\n",
    "            continue\n",
    "        build_times.append(i*12 + MONTH_SHUFFLE[m])\n",
    "        n_build.append(int(θ))\n",
    "        prototypes.append('LWR')\n",
    "        m = (m + 1) % 12\n",
    "    return sched\n",
    "\n",
    "def make_sim(Θ, fname='sim.json'):\n",
    "    sim = deepcopy(BASE_SIM)\n",
    "    inst = sim['simulation']['region']['institution']\n",
    "    inst['config']['DeployInst'] = deploy_inst_schedule(Θ)\n",
    "    with open(fname, 'w') as f:\n",
    "        json.dump(sim, f)\n",
    "    return sim"
   ]
  },
  {
   "cell_type": "code",
   "execution_count": 5,
   "metadata": {
    "collapsed": true
   },
   "outputs": [],
   "source": [
    "s = make_sim([])"
   ]
  },
  {
   "cell_type": "code",
   "execution_count": 6,
   "metadata": {
    "collapsed": false
   },
   "outputs": [
    {
     "data": {
      "text/plain": [
       "{'build_times': [{'val': 1}],\n",
       " 'n_build': [{'val': 0}],\n",
       " 'prototypes': [{'val': 'LWR'}]}"
      ]
     },
     "execution_count": 6,
     "metadata": {},
     "output_type": "execute_result"
    }
   ],
   "source": [
    "s['simulation']['region']['institution']['config']['DeployInst']"
   ]
  },
  {
   "cell_type": "markdown",
   "metadata": {},
   "source": [
    "Simulate\n",
    "=========\n",
    "Now let's build some tools to run simulations and extract a GWe time series."
   ]
  },
  {
   "cell_type": "code",
   "execution_count": 7,
   "metadata": {
    "collapsed": false
   },
   "outputs": [],
   "source": [
    "def run(fname='sim.json', out=OPT_H5):\n",
    "    \"\"\"Runs a simulation and returns the sim id.\"\"\"\n",
    "    cmd = ['cyclus', '--warn-limit', '0', '-o', out, fname]\n",
    "    proc = subprocess.run(cmd, check=True, universal_newlines=True, stdout=subprocess.PIPE)\n",
    "    simid = proc.stdout.rsplit(None, 1)[-1]\n",
    "    return simid\n",
    "\n",
    "ZERO_GWE = pd.DataFrame({'GWe': np.zeros(YEARS)}, index=np.arange(YEARS))\n",
    "ZERO_GWE.index.name = 'Time'\n",
    "\n",
    "def extract_gwe(simid, out=OPT_H5):\n",
    "    \"\"\"Computes the annual GWe for a simulation.\"\"\"\n",
    "    with cym.dbopen(out) as db:\n",
    "        evaler = cym.Evaluator(db)\n",
    "        raw = evaler.eval('TimeSeriesPower', conds=[('SimId', '==', uuid.UUID(simid))])\n",
    "    ano = pd.DataFrame({'Time': raw.Time.apply(lambda x: x//12), \n",
    "                        'GWe': raw.Value.apply(lambda x: 1e-3*x/12)})\n",
    "    gwe = ano.groupby('Time').sum()\n",
    "    gwe = (gwe + ZERO_GWE).fillna(0.0)\n",
    "    return np.array(gwe.GWe)"
   ]
  },
  {
   "cell_type": "markdown",
   "metadata": {},
   "source": [
    "Distancing\n",
    "========\n",
    "Now let's build some tools to distance between a GWe time series and a demand curve."
   ]
  },
  {
   "cell_type": "code",
   "execution_count": 8,
   "metadata": {
    "collapsed": true
   },
   "outputs": [],
   "source": [
    "DEFAULT_DEMAND = 90 * (1.01**np.arange(YEARS))  # 1% growth"
   ]
  },
  {
   "cell_type": "code",
   "execution_count": 9,
   "metadata": {
    "collapsed": false
   },
   "outputs": [],
   "source": [
    "def d(g, f=None):\n",
    "    \"\"\"The dynamic time warping distance between a GWe time series and a demand curve.\"\"\"\n",
    "    f = DEFAULT_DEMAND if f is None else f\n",
    "    rtn = dtw.distance(f[:, np.newaxis], g[:, np.newaxis])\n",
    "    return rtn\n",
    "\n",
    "def gwed(Θ, f=None):\n",
    "    \"\"\"For a given deployment schedule Θ, return the GWe time series and the distance \n",
    "    to the demand function f.\n",
    "    \"\"\"\n",
    "    make_sim(Θ)\n",
    "    simid = run()\n",
    "    gwe = extract_gwe(simid)\n",
    "    dΘ = d(gwe, f=f)\n",
    "    return gwe, dΘ"
   ]
  },
  {
   "cell_type": "markdown",
   "metadata": {},
   "source": [
    "Initialize Optimization\n",
    "===============\n",
    "Now let's start with a couple of simple simulations"
   ]
  },
  {
   "cell_type": "code",
   "execution_count": 10,
   "metadata": {
    "collapsed": true
   },
   "outputs": [],
   "source": [
    "N = np.asarray(np.ceil(4*(1.01)**np.arange(YEARS)), dtype=int)  # max annual deployments\n",
    "Θs = [] # deployment schedules\n",
    "G = []  # GWe per sim\n",
    "D = []  # distances per sim\n",
    "if os.path.isfile(OPT_H5):\n",
    "    os.remove(OPT_H5)"
   ]
  },
  {
   "cell_type": "code",
   "execution_count": 11,
   "metadata": {
    "collapsed": false
   },
   "outputs": [],
   "source": [
    "def add_sim(Θ, f=None):\n",
    "    \"\"\"Add a simulation to the known simulations by performing the simulation.\"\"\"\n",
    "    g_s, d_s = gwed(Θ, f=f)\n",
    "    Θs.append(Θ)\n",
    "    G.append(g_s)\n",
    "    D.append(d_s)"
   ]
  },
  {
   "cell_type": "markdown",
   "metadata": {},
   "source": [
    "First, add a schedule where nothing is deployed, leaving the initial facilities to retire."
   ]
  },
  {
   "cell_type": "code",
   "execution_count": 12,
   "metadata": {
    "collapsed": false
   },
   "outputs": [],
   "source": [
    "add_sim(np.zeros(YEARS, dtype=int))"
   ]
  },
  {
   "cell_type": "markdown",
   "metadata": {},
   "source": [
    "Next, add a simulation that is the max deployment schedule to bound the space"
   ]
  },
  {
   "cell_type": "code",
   "execution_count": 13,
   "metadata": {
    "collapsed": false
   },
   "outputs": [],
   "source": [
    "add_sim(N)"
   ]
  },
  {
   "cell_type": "markdown",
   "metadata": {},
   "source": [
    "Optimizer\n",
    "=======\n",
    "Now let's add some tools to do the estimation phase of the optimization."
   ]
  },
  {
   "cell_type": "code",
   "execution_count": 14,
   "metadata": {
    "collapsed": false
   },
   "outputs": [],
   "source": [
    "Γ = 200\n",
    "np.random.seed(424242)"
   ]
  },
  {
   "cell_type": "code",
   "execution_count": null,
   "metadata": {
    "collapsed": false
   },
   "outputs": [],
   "source": [
    "def gp_gwe(Θs, G, T=None, tol=1e-6, verbose=False):\n",
    "    \"\"\"Create a Gaussian process regression model for GWe.\"\"\"\n",
    "    S = len(G)\n",
    "    T = YEARS if T is None else T\n",
    "    t = np.arange(T)\n",
    "    P = len(Θs[0])\n",
    "    ndim = P + 1\n",
    "    y_mean = np.mean(G)\n",
    "    y = np.concatenate(G)\n",
    "    x = np.empty((S*T, ndim), dtype=int)\n",
    "    for i in range(S):\n",
    "        x[i*T:(i+1)*T, 0] = t\n",
    "        x[i*T:(i+1)*T, 1:] = Θs[i][np.newaxis, :]\n",
    "    yerr = tol * y_mean\n",
    "    #kernel = float(y_mean) * george.kernels.ExpSquaredKernel(1.0, ndim=ndim)\n",
    "    #for p in range(P):\n",
    "    #    kernel *= george.kernels.ExpSquaredKernel(1.0, ndim=ndim)\n",
    "    #kernel = float(y_mean) * george.kernels.Matern52Kernel(1.0, ndim=ndim)\n",
    "    kernel = float(y_mean) * george.kernels.Matern32Kernel(1.0, ndim=ndim)\n",
    "    gp = george.GP(kernel, mean=y_mean)\n",
    "    gp.compute(x, yerr=yerr, sort=False)\n",
    "    gp.optimize(x, y, yerr=yerr, sort=False, verbose=verbose)\n",
    "    return gp, x, y\n",
    "\n",
    "def predict_gwe(Θ, gp, y, T=None):\n",
    "    \"\"\"Predict GWe for a deployment schedule Θ and a GP.\"\"\"\n",
    "    T = YEARS if T is None else T\n",
    "    t = np.arange(T)\n",
    "    P = len(Θ)\n",
    "    ndim = P + 1\n",
    "    x = np.empty((T, ndim), dtype=int)\n",
    "    x[:,0] = t\n",
    "    x[:,1:] = Θ[np.newaxis,:]\n",
    "    mu = gp.predict(y, x, mean_only=True)\n",
    "    return mu\n",
    "\n",
    "def gp_d_inv(θ_p, D_inv, tol=1e-6, verbose=False):\n",
    "    \"\"\"Computes a Gaussian process model for a deployment parameter.\"\"\"\n",
    "    S = len(D)\n",
    "    ndim = 1\n",
    "    x = θ_p\n",
    "    y = D_inv\n",
    "    y_mean = np.mean(y)\n",
    "    yerr = tol * y_mean\n",
    "    kernel = float(y_mean) * george.kernels.ExpSquaredKernel(1.0, ndim=ndim)\n",
    "    gp = george.GP(kernel, mean=y_mean, solver=george.HODLRSolver)\n",
    "    gp.compute(x, yerr=yerr, sort=False)\n",
    "    gp.optimize(x, y, yerr=yerr, sort=False, verbose=verbose)\n",
    "    return gp, x, y\n",
    "\n",
    "def weights(Θs, D, N, Nlower, tol=1e-6, verbose=False):\n",
    "    P = len(N)\n",
    "    θ_ps = np.array(Θs)\n",
    "    D = np.asarray(D)\n",
    "    D_inv = D**-1 \n",
    "    W = []\n",
    "    for p in range(P):\n",
    "        θ_p = θ_ps[:,p]\n",
    "        gp, _, _ = gp_d_inv(θ_p, D_inv, tol=tol, verbose=verbose)\n",
    "        range_p = np.arange(Nlower[p], N[p] + 1)\n",
    "        d_inv_np = gp.predict(D_inv, range_p, mean_only=True)\n",
    "        if np.all(np.isnan(d_inv_np)) or np.all(d_inv_np <= 0.0):\n",
    "            # try D, instead of D^-1\n",
    "            #gp, _, _ = gp_d_inv(θ_p, D, tol=tol, verbose=verbose)\n",
    "            #d_np = gp.predict(D, np.arange(0, N[p] + 1), mean_only=True)\n",
    "            # try setting the shortest d to 1, all others 0.\n",
    "            #d_inp_np = np.zeros(N[p] + 1, dtype='f8')\n",
    "            #p_min = np.argmin(D)\n",
    "            #d_inv_np[np.argwhere(θ_p[p_min] == range_p)] = 1.0\n",
    "            # try Poisson dist centered at min.\n",
    "            p_min = np.argmin(D)\n",
    "            lam = θ_p[p_min]\n",
    "            fact = np.cumprod([1.0] + list(range(1, N[p] + 1)))[Nlower[p]:N[p] + 1]\n",
    "            d_inv_np = np.exp(-lam) * (lam**range_p) / fact\n",
    "        if np.any(d_inv_np < 0.0):\n",
    "            d_inv_np[d_inv_np < 0.0] = np.min(d_inv_np[d_inv_np > 0.0])\n",
    "        d_inv_np_tot = d_inv_np.sum()\n",
    "        w_p = d_inv_np / d_inv_np_tot\n",
    "        W.append(w_p)\n",
    "    return W\n",
    "\n",
    "def guess_scheds(W, Γ, gp, y, T=None):\n",
    "    \"\"\"Guess a new deployment schedule, given a number of samples Γ, weights W, and \n",
    "    Guassian process for the GWe.\n",
    "    \"\"\"\n",
    "    P = len(W)\n",
    "    Θ_γs = np.empty((Γ, P), dtype=int)\n",
    "    for p in range(P):\n",
    "        w_p = W[p]\n",
    "        Θ_γs[:, p] = np.random.choice(len(w_p), size=Γ, p=w_p)\n",
    "    Δ = []\n",
    "    for γ in range(Γ):\n",
    "        Θ_γ = Θ_γs[γ]\n",
    "        g_star = predict_gwe(Θ_γ, gp, y, T=T)\n",
    "        d_star = d(g_star)\n",
    "        Δ.append(d_star)\n",
    "    γ = np.argmin(Δ)\n",
    "    Θ_γ = Θ_γs[γ]\n",
    "    print('hyperparameters', gp.kernel[:])\n",
    "    #print('Θ_γs', Θ_γs)\n",
    "    #print('Θ_γs[γ]', Θ_γs[γ])\n",
    "    #print('Predition', Δ[γ], Δ)\n",
    "    return Θ_γ\n",
    "\n",
    "def estimate(Θs, G, D, N, Nlower, Γ, T=None, tol=1e-6, verbose=False):\n",
    "    \"\"\"Runs an estimation step, returning a new deployment schedule.\"\"\"\n",
    "    gp, x, y = gp_gwe(Θs, G, T=T, tol=tol, verbose=verbose)\n",
    "    W = weights(Θs, D, N, Nlower, tol=tol, verbose=verbose)\n",
    "    Θ = guess_scheds(W, Γ, gp, y, T=T)\n",
    "    return Θ\n",
    "\n",
    "def optimize(MAX_D=0.1, MAX_S=12, T=None, tol=1e-6, verbose=False):\n",
    "    global Θs, G, D\n",
    "    s = 2\n",
    "    z = 2\n",
    "    n = N\n",
    "    nlower = n0 = np.zeros(len(N), dtype=int)\n",
    "    while MAX_D < D[-1] and s < MAX_S:\n",
    "        print(s)\n",
    "        print('-'*18)\n",
    "        Gprev = np.array(G[:z])\n",
    "        t0 = time.time()\n",
    "        Θ = estimate(Θs, G, D, n, nlower, Γ, T=T, tol=tol, verbose=verbose)\n",
    "        t1 = time.time()\n",
    "        add_sim(Θ)\n",
    "        t2 = time.time()\n",
    "        print('Estimate time: {0} min {1} sec'.format((t1-t0)//60, (t1-t0)%60))\n",
    "        print('Simulation time: {0} min {1} sec'.format((t2-t1)//60, (t2-t1)%60))\n",
    "        print(D)\n",
    "        sys.stdout.flush()\n",
    "        idx = [int(i) for i in np.argsort(D)[:z]]\n",
    "        if D[-1] == max(D):\n",
    "            idx.append(-1)\n",
    "        #elif len(G) == z + 2  and np.allclose(G[:z], Gprev):\n",
    "        #    n = np.array([Θs[0] + 1, N], dtype=int).min(axis=0)\n",
    "        #    nlower = np.array([Θs[0] - 1, n0], dtype=int).max(axis=0)\n",
    "        #    print('New N-upper', n)\n",
    "        #    print('New N-lower', nlower)\n",
    "        Θs = [Θs[i] for i in idx]\n",
    "        G = [G[i] for i in idx]\n",
    "        D = [D[i] for i in idx]\n",
    "        s += 1\n",
    "        print()"
   ]
  },
  {
   "cell_type": "markdown",
   "metadata": {},
   "source": [
    "Simulate\n",
    "=======\n",
    "Ok! Let's try it."
   ]
  },
  {
   "cell_type": "code",
   "execution_count": null,
   "metadata": {
    "collapsed": false,
    "scrolled": false
   },
   "outputs": [
    {
     "name": "stdout",
     "output_type": "stream",
     "text": [
      "2\n",
      "------------------\n",
      "hyperparameters [ 8.44155389  5.41756185]\n",
      "Estimate time: 0.0 min 5.566524028778076 sec\n",
      "Simulation time: 0.0 min 9.47822618484497 sec\n",
      "[39.145530632616016, 14.802403115793279, 4.5948678512166596]\n",
      "\n",
      "3\n",
      "------------------\n",
      "hyperparameters [ 7.6082192   4.48277006]\n",
      "Estimate time: 0.0 min 5.011366844177246 sec\n",
      "Simulation time: 0.0 min 7.712904214859009 sec\n",
      "[4.5948678512166596, 14.802403115793279, 0.85098543268016003]\n",
      "\n",
      "4\n",
      "------------------\n",
      "hyperparameters [ 6.74162898  4.08599371]\n",
      "Estimate time: 0.0 min 5.0809876918792725 sec\n",
      "Simulation time: 0.0 min 8.569036483764648 sec\n",
      "[0.85098543268016003, 4.5948678512166596, 2.7407628402914641]\n",
      "\n",
      "5\n",
      "------------------\n",
      "hyperparameters [ 5.44314242  3.45421764]\n",
      "Estimate time: 0.0 min 5.102100849151611 sec\n",
      "Simulation time: 0.0 min 9.523776531219482 sec\n",
      "[0.85098543268016003, 2.7407628402914641, 0.89993853324287332]\n",
      "\n",
      "6\n",
      "------------------\n",
      "hyperparameters [ 5.60607429  3.35028429]\n",
      "Estimate time: 0.0 min 4.994033575057983 sec\n",
      "Simulation time: 0.0 min 9.887566328048706 sec\n",
      "[0.85098543268016003, 0.89993853324287332, 2.2101053976773612]\n",
      "\n",
      "7\n",
      "------------------\n",
      "hyperparameters [ 5.52801655  3.26189795]\n",
      "Estimate time: 0.0 min 4.979650020599365 sec\n",
      "Simulation time: 0.0 min 10.460688352584839 sec\n",
      "[0.85098543268016003, 0.89993853324287332, 2.2101053976773612, 3.1987597568234607]\n",
      "\n",
      "8\n",
      "------------------\n",
      "hyperparameters [ 5.36173766  3.16579543]\n",
      "Estimate time: 0.0 min 5.0139548778533936 sec\n",
      "Simulation time: 0.0 min 11.945812940597534 sec\n",
      "[0.85098543268016003, 0.89993853324287332, 3.1987597568234607, 0.83055922298308293]\n",
      "\n",
      "9\n",
      "------------------\n",
      "hyperparameters [ 5.4526825   3.12020265]\n",
      "Estimate time: 0.0 min 4.907965660095215 sec\n",
      "Simulation time: 0.0 min 12.675239324569702 sec\n",
      "[0.83055922298308293, 0.85098543268016003, 0.82469640988014803]\n",
      "\n",
      "10\n",
      "------------------\n",
      "hyperparameters [ 5.43441778  2.94093343]\n",
      "Estimate time: 0.0 min 4.884040594100952 sec\n",
      "Simulation time: 0.0 min 13.078179121017456 sec\n",
      "[0.82469640988014803, 0.83055922298308293, 0.61326519510823507]\n",
      "\n",
      "11\n",
      "------------------\n",
      "hyperparameters [ 5.47644278  3.17589229]\n",
      "Estimate time: 0.0 min 4.917309522628784 sec\n",
      "Simulation time: 0.0 min 14.193659782409668 sec\n",
      "[0.61326519510823507, 0.82469640988014803, 1.0011255648917008]\n",
      "\n",
      "12\n",
      "------------------\n",
      "hyperparameters [ 5.36345526  3.15194738]\n",
      "Estimate time: 0.0 min 5.5638744831085205 sec\n",
      "Simulation time: 0.0 min 14.870529174804688 sec\n",
      "[0.61326519510823507, 0.82469640988014803, 1.0011255648917008, 0.7003269392419269]\n",
      "\n",
      "13\n",
      "------------------\n",
      "hyperparameters [ 5.6251314   3.40779198]\n",
      "Estimate time: 0.0 min 4.919707775115967 sec\n",
      "Simulation time: 0.0 min 15.823059558868408 sec\n",
      "[0.61326519510823507, 0.7003269392419269, 1.9593628213808412]\n",
      "\n",
      "14\n",
      "------------------\n",
      "hyperparameters [ 5.46643454  3.22451779]\n",
      "Estimate time: 0.0 min 5.136300325393677 sec\n",
      "Simulation time: 0.0 min 17.19373106956482 sec\n",
      "[0.61326519510823507, 0.7003269392419269, 1.9593628213808412, 0.56602550286333231]\n",
      "\n",
      "15\n",
      "------------------\n",
      "hyperparameters [ 5.57541787  3.56677603]\n",
      "Estimate time: 0.0 min 4.940736532211304 sec\n",
      "Simulation time: 0.0 min 16.982733488082886 sec\n",
      "[0.56602550286333231, 0.61326519510823507, 0.77815906205865493]\n"
     ]
    }
   ],
   "source": [
    "%%time\n",
    "optimize(MAX_S=50)"
   ]
  },
  {
   "cell_type": "code",
   "execution_count": null,
   "metadata": {
    "collapsed": false
   },
   "outputs": [],
   "source": [
    "Θs[-1]"
   ]
  },
  {
   "cell_type": "code",
   "execution_count": null,
   "metadata": {
    "collapsed": false
   },
   "outputs": [],
   "source": [
    "G[-1]"
   ]
  },
  {
   "cell_type": "code",
   "execution_count": null,
   "metadata": {
    "collapsed": false
   },
   "outputs": [],
   "source": [
    "DEFAULT_DEMAND"
   ]
  },
  {
   "cell_type": "code",
   "execution_count": null,
   "metadata": {
    "collapsed": false
   },
   "outputs": [],
   "source": [
    "D**-1"
   ]
  },
  {
   "cell_type": "code",
   "execution_count": null,
   "metadata": {
    "collapsed": false
   },
   "outputs": [],
   "source": [
    "1.7 / 40"
   ]
  },
  {
   "cell_type": "code",
   "execution_count": null,
   "metadata": {
    "collapsed": true
   },
   "outputs": [],
   "source": []
  }
 ],
 "metadata": {
  "kernelspec": {
   "display_name": "Python 3",
   "language": "python",
   "name": "python3"
  },
  "language_info": {
   "codemirror_mode": {
    "name": "ipython",
    "version": 3
   },
   "file_extension": ".py",
   "mimetype": "text/x-python",
   "name": "python",
   "nbconvert_exporter": "python",
   "pygments_lexer": "ipython3",
   "version": "3.5.0"
  }
 },
 "nbformat": 4,
 "nbformat_minor": 0
}

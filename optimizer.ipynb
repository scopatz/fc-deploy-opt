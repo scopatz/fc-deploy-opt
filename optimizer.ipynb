{
 "cells": [
  {
   "cell_type": "markdown",
   "metadata": {},
   "source": [
    "Input File Creation\n",
    "===========\n",
    "First let's start with some tools to create input files for a given deployment schedule."
   ]
  },
  {
   "cell_type": "code",
   "execution_count": 10,
   "metadata": {
    "collapsed": true
   },
   "outputs": [],
   "source": [
    "import json\n",
    "from math import ceil\n",
    "from copy import deepcopy\n",
    "\n",
    "import numpy as np\n",
    "%matplotlib inline\n",
    "import matplotlib.pyplot as plt"
   ]
  },
  {
   "cell_type": "code",
   "execution_count": 22,
   "metadata": {
    "collapsed": true
   },
   "outputs": [],
   "source": [
    "with open('once-through.json') as f:\n",
    "    BASE_SIM = json.load(f)\n",
    "DURATION = BASE_SIM['simulation']['control']['duration']\n",
    "YEARS = ceil(DURATION / 12)\n",
    "MONTH_SHUFFLE = (0, 6, 9, 3, 7, 5, 11, 1, 4, 8, 10, 2)\n",
    "NULL_SCHEDULE = {'build_times': [{'val': 1}], \n",
    "                 'n_build': [{'val': 0}], \n",
    "                 'prototypes': [{'val': 'LWR'}]}\n",
    "LWR_PROTOTYPE = {'val': 'LWR'}"
   ]
  },
  {
   "cell_type": "code",
   "execution_count": 20,
   "metadata": {
    "collapsed": false
   },
   "outputs": [
    {
     "data": {
      "text/plain": [
       "{'build_times': [{'val': 1}],\n",
       " 'n_build': [{'val': 0}],\n",
       " 'prototypes': [{'val': 'LWR'}]}"
      ]
     },
     "execution_count": 20,
     "metadata": {},
     "output_type": "execute_result"
    }
   ],
   "source": [
    "BASE_SIM['simulation']['region']['institution']['config']['DeployInst']"
   ]
  },
  {
   "cell_type": "code",
   "execution_count": 26,
   "metadata": {
    "collapsed": false
   },
   "outputs": [],
   "source": [
    "def deploy_inst_schedule(Theta):\n",
    "    if np.sum(Theta) == 0: \n",
    "        return NULL_SCHEDULE\n",
    "    sched = {}\n",
    "    build_times = sched['build_times'] = []\n",
    "    n_build = sched['n_build'] = []\n",
    "    prototypes = sched['prototypes'] = []\n",
    "    m = 0\n",
    "    for i, theta in enumerate(Theta):\n",
    "        if theta <= 0:\n",
    "            continue\n",
    "        build_times.append(i*12 + MONTH_SHUFFLE[m])\n",
    "        n_build.append(theta)\n",
    "        prototypes.append(LWR_PROTOTYPE)\n",
    "        m = (m + 1) % 12\n",
    "    return sched\n",
    "\n",
    "def make_sim(Theta, fname='sim.json'):\n",
    "    sim = deepcopy(BASE_SIM)\n",
    "    inst = sim['simulation']['region']['institution']\n",
    "    inst['config']['DeployInst'] = deploy_inst_schedule(Theta)\n",
    "    with open(fname, 'w') as f:\n",
    "        json.dump(sim, f)\n",
    "    return sim"
   ]
  },
  {
   "cell_type": "code",
   "execution_count": 27,
   "metadata": {
    "collapsed": true
   },
   "outputs": [],
   "source": [
    "s = make_sim([0, 1])"
   ]
  },
  {
   "cell_type": "code",
   "execution_count": 28,
   "metadata": {
    "collapsed": false
   },
   "outputs": [
    {
     "data": {
      "text/plain": [
       "{'build_times': [12], 'n_build': [1], 'prototypes': [{'val': 'LWR'}]}"
      ]
     },
     "execution_count": 28,
     "metadata": {},
     "output_type": "execute_result"
    }
   ],
   "source": [
    "s['simulation']['region']['institution']['config']['DeployInst']"
   ]
  },
  {
   "cell_type": "code",
   "execution_count": null,
   "metadata": {
    "collapsed": true
   },
   "outputs": [],
   "source": []
  }
 ],
 "metadata": {
  "kernelspec": {
   "display_name": "Python 3",
   "language": "python",
   "name": "python3"
  },
  "language_info": {
   "codemirror_mode": {
    "name": "ipython",
    "version": 3
   },
   "file_extension": ".py",
   "mimetype": "text/x-python",
   "name": "python",
   "nbconvert_exporter": "python",
   "pygments_lexer": "ipython3",
   "version": "3.5.0"
  }
 },
 "nbformat": 4,
 "nbformat_minor": 0
}

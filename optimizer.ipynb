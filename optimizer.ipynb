{
 "cells": [
  {
   "cell_type": "markdown",
   "metadata": {},
   "source": [
    "Input File Creation\n",
    "===========\n",
    "First let's start with some tools to create input files for a given deployment schedule."
   ]
  },
  {
   "cell_type": "code",
   "execution_count": 1,
   "metadata": {
    "collapsed": false
   },
   "outputs": [
    {
     "name": "stderr",
     "output_type": "stream",
     "text": [
      "/home/scopatz/miniconda/lib/python3.5/importlib/_bootstrap.py:222: QAWarning: pyne.data is not yet QA compliant.\n",
      "  return f(*args, **kwds)\n",
      "/home/scopatz/miniconda/lib/python3.5/importlib/_bootstrap.py:222: QAWarning: pyne.material is not yet QA compliant.\n",
      "  return f(*args, **kwds)\n",
      "/home/scopatz/miniconda/lib/python3.5/importlib/_bootstrap.py:222: QAWarning: pyne.enrichment is not yet QA compliant.\n",
      "  return f(*args, **kwds)\n"
     ]
    }
   ],
   "source": [
    "import os\n",
    "import sys\n",
    "import uuid\n",
    "import json\n",
    "import time\n",
    "import subprocess\n",
    "from math import ceil\n",
    "from copy import deepcopy\n",
    "\n",
    "import numpy as np\n",
    "import pandas as pd\n",
    "import cymetric as cym\n",
    "%matplotlib inline\n",
    "import matplotlib.pyplot as plt\n",
    "import george\n",
    "\n",
    "import dtw"
   ]
  },
  {
   "cell_type": "code",
   "execution_count": 2,
   "metadata": {
    "collapsed": false
   },
   "outputs": [],
   "source": [
    "with open('once-through.json') as f:\n",
    "    BASE_SIM = json.load(f)\n",
    "DURATION = BASE_SIM['simulation']['control']['duration']\n",
    "YEARS = ceil(DURATION / 12)\n",
    "MONTH_SHUFFLE = (1, 7, 10, 4, 8, 6, 12, 2, 5, 9, 11, 3)\n",
    "NULL_SCHEDULE = {'build_times': [{'val': 1}], \n",
    "                 'n_build': [{'val': 0}], \n",
    "                 'prototypes': [{'val': 'LWR'}]}\n",
    "LWR_PROTOTYPE = {'val': 'LWR'}\n",
    "OPT_H5 = 'opt.h5'"
   ]
  },
  {
   "cell_type": "code",
   "execution_count": 3,
   "metadata": {
    "collapsed": false
   },
   "outputs": [
    {
     "data": {
      "text/plain": [
       "{'build_times': [{'val': 1}],\n",
       " 'n_build': [{'val': 0}],\n",
       " 'prototypes': [{'val': 'LWR'}]}"
      ]
     },
     "execution_count": 3,
     "metadata": {},
     "output_type": "execute_result"
    }
   ],
   "source": [
    "BASE_SIM['simulation']['region']['institution']['config']['DeployInst']"
   ]
  },
  {
   "cell_type": "code",
   "execution_count": 4,
   "metadata": {
    "collapsed": false
   },
   "outputs": [],
   "source": [
    "def deploy_inst_schedule(Θ):\n",
    "    if np.sum(Θ) == 0: \n",
    "        return NULL_SCHEDULE\n",
    "    sched = {'build_times': {'val': []},\n",
    "             'n_build': {'val': []},\n",
    "             'prototypes': {'val': []}}\n",
    "    build_times = sched['build_times']['val']\n",
    "    n_build = sched['n_build']['val']\n",
    "    prototypes = sched['prototypes']['val']\n",
    "    m = 0\n",
    "    for i, θ in enumerate(Θ):\n",
    "        if θ <= 0:\n",
    "            continue\n",
    "        build_times.append(i*12 + MONTH_SHUFFLE[m])\n",
    "        n_build.append(int(θ))\n",
    "        prototypes.append('LWR')\n",
    "        m = (m + 1) % 12\n",
    "    return sched\n",
    "\n",
    "def make_sim(Θ, fname='sim.json'):\n",
    "    sim = deepcopy(BASE_SIM)\n",
    "    inst = sim['simulation']['region']['institution']\n",
    "    inst['config']['DeployInst'] = deploy_inst_schedule(Θ)\n",
    "    with open(fname, 'w') as f:\n",
    "        json.dump(sim, f)\n",
    "    return sim"
   ]
  },
  {
   "cell_type": "code",
   "execution_count": 5,
   "metadata": {
    "collapsed": true
   },
   "outputs": [],
   "source": [
    "s = make_sim([])"
   ]
  },
  {
   "cell_type": "code",
   "execution_count": 6,
   "metadata": {
    "collapsed": false
   },
   "outputs": [
    {
     "data": {
      "text/plain": [
       "{'build_times': [{'val': 1}],\n",
       " 'n_build': [{'val': 0}],\n",
       " 'prototypes': [{'val': 'LWR'}]}"
      ]
     },
     "execution_count": 6,
     "metadata": {},
     "output_type": "execute_result"
    }
   ],
   "source": [
    "s['simulation']['region']['institution']['config']['DeployInst']"
   ]
  },
  {
   "cell_type": "markdown",
   "metadata": {},
   "source": [
    "Simulate\n",
    "=========\n",
    "Now let's build some tools to run simulations and extract a GWe time series."
   ]
  },
  {
   "cell_type": "code",
   "execution_count": 7,
   "metadata": {
    "collapsed": false
   },
   "outputs": [],
   "source": [
    "def run(fname='sim.json', out=OPT_H5):\n",
    "    \"\"\"Runs a simulation and returns the sim id.\"\"\"\n",
    "    cmd = ['cyclus', '--warn-limit', '0', '-o', out, fname]\n",
    "    proc = subprocess.run(cmd, check=True, universal_newlines=True, stdout=subprocess.PIPE)\n",
    "    simid = proc.stdout.rsplit(None, 1)[-1]\n",
    "    return simid\n",
    "\n",
    "ZERO_GWE = pd.DataFrame({'GWe': np.zeros(YEARS)}, index=np.arange(YEARS))\n",
    "ZERO_GWE.index.name = 'Time'\n",
    "\n",
    "def extract_gwe(simid, out=OPT_H5):\n",
    "    \"\"\"Computes the annual GWe for a simulation.\"\"\"\n",
    "    with cym.dbopen(out) as db:\n",
    "        evaler = cym.Evaluator(db)\n",
    "        raw = evaler.eval('TimeSeriesPower', conds=[('SimId', '==', uuid.UUID(simid))])\n",
    "    ano = pd.DataFrame({'Time': raw.Time.apply(lambda x: x//12), \n",
    "                        'GWe': raw.Value.apply(lambda x: 1e-3*x/12)})\n",
    "    gwe = ano.groupby('Time').sum()\n",
    "    gwe = (gwe + ZERO_GWE).fillna(0.0)\n",
    "    return np.array(gwe.GWe)"
   ]
  },
  {
   "cell_type": "markdown",
   "metadata": {},
   "source": [
    "Distancing\n",
    "========\n",
    "Now let's build some tools to distance between a GWe time series and a demand curve."
   ]
  },
  {
   "cell_type": "code",
   "execution_count": 8,
   "metadata": {
    "collapsed": true
   },
   "outputs": [],
   "source": [
    "DEFAULT_DEMAND = 90 * (1.01**np.arange(YEARS))  # 1% growth"
   ]
  },
  {
   "cell_type": "code",
   "execution_count": 9,
   "metadata": {
    "collapsed": false
   },
   "outputs": [],
   "source": [
    "def d(g, f=None):\n",
    "    \"\"\"The dynamic time warping distance between a GWe time series and a demand curve.\"\"\"\n",
    "    f = DEFAULT_DEMAND if f is None else f\n",
    "    rtn = dtw.distance(f[:, np.newaxis], g[:, np.newaxis])\n",
    "    return rtn\n",
    "\n",
    "def αd(g, f=None, dtol=1e-5):\n",
    "    \"\"\"Computes the mininmal α and the DTW d.\"\"\"\n",
    "    f = DEFAULT_DEMAND if f is None else f\n",
    "    C = dtw.cost_matrix(f[:, np.newaxis], g[:, np.newaxis])\n",
    "    d = dtw.distance(cost=C)\n",
    "    d_t = np.diagonal(C) / (np.arange(1, C.shape[0] + 1) + np.arange(1, C.shape[1] + 1))\n",
    "    #α = np.argwhere(np.cumsum(d_t <= dtol) != np.arange(1, len(d_t) + 1))[0,0]\n",
    "    filt = np.argwhere(d_t <= dtol)\n",
    "    #α = filt[-1,-1] if len(filt) > 0 else 0\n",
    "    α = filt[0,0] if len(filt) > 0 else 0\n",
    "    print(\"Simulation α\", α)\n",
    "    print(\"Simulation d(t)\", d_t)\n",
    "    return α, d\n",
    "\n",
    "def gwed(Θ, f=None, dtol=1e-5, find_α=False):\n",
    "    \"\"\"For a given deployment schedule Θ, return the GWe time series and the distance \n",
    "    to the demand function f.\n",
    "    \"\"\"\n",
    "    make_sim(Θ)\n",
    "    simid = run()\n",
    "    gwe = extract_gwe(simid)\n",
    "    if find_α:\n",
    "        rtn = αd(gwe, f=f, dtol=dtol)\n",
    "    else:\n",
    "        rtn = d(gwe, f=f)\n",
    "    return (gwe,) + rtn"
   ]
  },
  {
   "cell_type": "markdown",
   "metadata": {},
   "source": [
    "Initialize Optimization\n",
    "===============\n",
    "Now let's start with a couple of simple simulations"
   ]
  },
  {
   "cell_type": "code",
   "execution_count": 10,
   "metadata": {
    "collapsed": true
   },
   "outputs": [],
   "source": [
    "N = np.asarray(np.ceil(4*(1.01)**np.arange(YEARS)), dtype=int)  # max annual deployments\n",
    "Θs = [] # deployment schedules\n",
    "G = []  # GWe per sim\n",
    "D = []  # distances per sim\n",
    "if os.path.isfile(OPT_H5):\n",
    "    os.remove(OPT_H5)"
   ]
  },
  {
   "cell_type": "code",
   "execution_count": 11,
   "metadata": {
    "collapsed": false
   },
   "outputs": [],
   "source": [
    "def add_sim(Θ, f=None, dtol=1e-5):\n",
    "    \"\"\"Add a simulation to the known simulations by performing the simulation.\"\"\"\n",
    "    g_s, α, d_s = gwed(Θ, f=f, dtol=dtol, find_α=True)\n",
    "    Θs.append(Θ)\n",
    "    G.append(g_s)\n",
    "    D.append(d_s)\n",
    "    return α"
   ]
  },
  {
   "cell_type": "markdown",
   "metadata": {},
   "source": [
    "First, add a schedule where nothing is deployed, leaving the initial facilities to retire."
   ]
  },
  {
   "cell_type": "code",
   "execution_count": 12,
   "metadata": {
    "collapsed": false
   },
   "outputs": [
    {
     "name": "stdout",
     "output_type": "stream",
     "text": [
      "Simulation α 0\n",
      "Simulation d(t) [  2.41666667   1.25416667   1.41538889   1.86076125   2.45404509\n",
      "   3.15677962   3.86915493   4.60898025   5.39078449   6.1566231\n",
      "   6.96053576   7.75174741   8.5528022    9.37385425  10.17790883\n",
      "  10.99711888  11.82176125  12.64427633  13.47185668  14.30609232\n",
      "  15.1383523   15.98051677  16.81703982  17.65927438  18.5067591\n",
      "  19.35590067  20.20518339  21.05479825  21.9034751   22.75567063\n",
      "  23.61123614  24.46743917  25.32819345  26.18960111  27.05297339\n",
      "  27.92063499  28.78903031  29.66046217  30.53379372  31.40800336\n",
      "  32.27607323  33.11875855  33.93798615  34.73550921  35.51292657\n",
      "  36.27169955  37.01316655  37.73855589  38.44899707  39.14553063]\n"
     ]
    },
    {
     "data": {
      "text/plain": [
       "0"
      ]
     },
     "execution_count": 12,
     "metadata": {},
     "output_type": "execute_result"
    }
   ],
   "source": [
    "add_sim(np.zeros(YEARS, dtype=int))"
   ]
  },
  {
   "cell_type": "markdown",
   "metadata": {},
   "source": [
    "Next, add a simulation that is the max deployment schedule to bound the space"
   ]
  },
  {
   "cell_type": "code",
   "execution_count": 13,
   "metadata": {
    "collapsed": false
   },
   "outputs": [
    {
     "name": "stdout",
     "output_type": "stream",
     "text": [
      "Simulation α 0\n",
      "Simulation d(t) [  0.58333333   1.775        2.24294444   2.95590542   3.23885215\n",
      "   3.68286723   3.83044314   4.26916371   4.47937619   4.57581687\n",
      "   4.64269744   4.86541972   5.11518614   5.29892753   5.408577\n",
      "   5.58731819   5.74206029   5.92064231   6.02890973   6.24217444\n",
      "   6.4302928    6.58386303   6.69738899   6.8847273    7.09464632\n",
      "   7.26987853   7.42426409   7.65957925   7.87632392   8.13065033\n",
      "   8.32350559   8.58619679   8.84526525   9.05475196   9.2603816\n",
      "   9.54726035   9.85589107  10.1215464   10.36060699  10.62950344\n",
      "  10.89042524  11.19979886  11.50443031  11.92755569  12.35706369\n",
      "  12.78468028  13.20478458  13.70506913  14.26633761  14.80240312]\n"
     ]
    },
    {
     "data": {
      "text/plain": [
       "0"
      ]
     },
     "execution_count": 13,
     "metadata": {},
     "output_type": "execute_result"
    }
   ],
   "source": [
    "add_sim(N)"
   ]
  },
  {
   "cell_type": "markdown",
   "metadata": {},
   "source": [
    "Optimizer\n",
    "=======\n",
    "Now let's add some tools to do the estimation phase of the optimization."
   ]
  },
  {
   "cell_type": "code",
   "execution_count": 14,
   "metadata": {
    "collapsed": false
   },
   "outputs": [],
   "source": [
    "Γ = 250\n",
    "np.random.seed(424242)"
   ]
  },
  {
   "cell_type": "code",
   "execution_count": 15,
   "metadata": {
    "collapsed": false
   },
   "outputs": [],
   "source": [
    "def gp_gwe(Θs, G, α, T=None, tol=1e-6, verbose=False):\n",
    "    \"\"\"Create a Gaussian process regression model for GWe.\"\"\"\n",
    "    S = len(G)\n",
    "    T = YEARS if T is None else T\n",
    "    t = np.arange(T)\n",
    "    P = len(Θs[0])\n",
    "    ndim = P + 1 - α\n",
    "    y_mean = np.mean(G)\n",
    "    y = np.concatenate(G)\n",
    "    x = np.empty((S*T, ndim), dtype=int)\n",
    "    for i in range(S):\n",
    "        x[i*T:(i+1)*T, 0] = t\n",
    "        x[i*T:(i+1)*T, 1:] = Θs[i][np.newaxis, α:]\n",
    "    yerr = tol * y_mean\n",
    "    #kernel = float(y_mean) * george.kernels.ExpSquaredKernel(1.0, ndim=ndim)\n",
    "    #for p in range(P):\n",
    "    #    kernel *= george.kernels.ExpSquaredKernel(1.0, ndim=ndim)\n",
    "    #kernel = float(y_mean) * george.kernels.Matern52Kernel(1.0, ndim=ndim)\n",
    "    kernel = float(y_mean) * george.kernels.Matern32Kernel(1.0, ndim=ndim)\n",
    "    gp = george.GP(kernel, mean=y_mean)\n",
    "    gp.compute(x, yerr=yerr, sort=False)\n",
    "    gp.optimize(x, y, yerr=yerr, sort=False, verbose=verbose)\n",
    "    return gp, x, y\n",
    "\n",
    "def predict_gwe(Θ, gp, y, α, T=None):\n",
    "    \"\"\"Predict GWe for a deployment schedule Θ and a GP.\"\"\"\n",
    "    T = YEARS if T is None else T\n",
    "    t = np.arange(T)\n",
    "    P = len(Θ)\n",
    "    ndim = P + 1 - α\n",
    "    x = np.empty((T, ndim), dtype=int)\n",
    "    x[:,0] = t\n",
    "    x[:,1:] = Θ[np.newaxis,α:]\n",
    "    mu = gp.predict(y, x, mean_only=True)\n",
    "    return mu\n",
    "\n",
    "def gp_d_inv(θ_p, D_inv, tol=1e-6, verbose=False):\n",
    "    \"\"\"Computes a Gaussian process model for a deployment parameter.\"\"\"\n",
    "    S = len(D)\n",
    "    ndim = 1\n",
    "    x = θ_p\n",
    "    y = D_inv\n",
    "    y_mean = np.mean(y)\n",
    "    yerr = tol * y_mean\n",
    "    kernel = float(y_mean) * george.kernels.ExpSquaredKernel(1.0, ndim=ndim)\n",
    "    gp = george.GP(kernel, mean=y_mean, solver=george.HODLRSolver)\n",
    "    gp.compute(x, yerr=yerr, sort=False)\n",
    "    gp.optimize(x, y, yerr=yerr, sort=False, verbose=verbose)\n",
    "    return gp, x, y\n",
    "\n",
    "def weights(Θs, D, N, Nlower, α, tol=1e-6, verbose=False):\n",
    "    P = len(N)\n",
    "    θ_ps = np.array(Θs)\n",
    "    D = np.asarray(D)\n",
    "    D_inv = D**-1 \n",
    "    W = [None] * α\n",
    "    for p in range(α, P):\n",
    "        θ_p = θ_ps[:,p]\n",
    "        gp, _, _ = gp_d_inv(θ_p, D_inv, tol=tol, verbose=verbose)\n",
    "        range_p = np.arange(Nlower[p], N[p] + 1)\n",
    "        d_inv_np = gp.predict(D_inv, range_p, mean_only=True)\n",
    "        if np.all(np.isnan(d_inv_np)) or np.all(d_inv_np <= 0.0):\n",
    "            # try D, instead of D^-1\n",
    "            #gp, _, _ = gp_d_inv(θ_p, D, tol=tol, verbose=verbose)\n",
    "            #d_np = gp.predict(D, np.arange(0, N[p] + 1), mean_only=True)\n",
    "            # try setting the shortest d to 1, all others 0.\n",
    "            #d_inp_np = np.zeros(N[p] + 1, dtype='f8')\n",
    "            #p_min = np.argmin(D)\n",
    "            #d_inv_np[np.argwhere(θ_p[p_min] == range_p)] = 1.0\n",
    "            # try Poisson dist centered at min.\n",
    "            p_min = np.argmin(D)\n",
    "            lam = θ_p[p_min]\n",
    "            fact = np.cumprod([1.0] + list(range(1, N[p] + 1)))[Nlower[p]:N[p] + 1]\n",
    "            d_inv_np = np.exp(-lam) * (lam**range_p) / fact\n",
    "        if np.any(d_inv_np < 0.0):\n",
    "            d_inv_np[d_inv_np < 0.0] = np.min(d_inv_np[d_inv_np > 0.0])\n",
    "        d_inv_np_tot = d_inv_np.sum()\n",
    "        w_p = d_inv_np / d_inv_np_tot\n",
    "        W.append(w_p)\n",
    "    return W\n",
    "\n",
    "def guess_scheds(Θs, W, Γ, gp, y, α, T=None):\n",
    "    \"\"\"Guess a new deployment schedule, given a number of samples Γ, weights W, and \n",
    "    Guassian process for the GWe.\n",
    "    \"\"\"\n",
    "    P = len(W)\n",
    "    Θ_γs = np.empty((Γ, P), dtype=int)\n",
    "    Θ_γs[:, :α] = Θs[0][:α]\n",
    "    for p in range(α, P):\n",
    "        w_p = W[p]\n",
    "        Θ_γs[:, p] = np.random.choice(len(w_p), size=Γ, p=w_p)\n",
    "    Δ = []\n",
    "    for γ in range(Γ):\n",
    "        Θ_γ = Θ_γs[γ]\n",
    "        g_star = predict_gwe(Θ_γ, gp, y, α, T=T)\n",
    "        d_star = d(g_star)\n",
    "        Δ.append(d_star)\n",
    "    γ = np.argmin(Δ)\n",
    "    Θ_γ = Θ_γs[γ]\n",
    "    print('hyperparameters', gp.kernel[:])\n",
    "    #print('Θ_γs', Θ_γs)\n",
    "    #print('Θ_γs[γ]', Θ_γs[γ])\n",
    "    #print('Predition', Δ[γ], Δ)\n",
    "    return Θ_γ\n",
    "\n",
    "def estimate(Θs, G, D, N, Nlower, Γ, α, T=None, tol=1e-6, verbose=False):\n",
    "    \"\"\"Runs an estimation step, returning a new deployment schedule.\"\"\"\n",
    "    gp, x, y = gp_gwe(Θs, G, α, T=T, tol=tol, verbose=verbose)\n",
    "    W = weights(Θs, D, N, Nlower, α, tol=tol, verbose=verbose)\n",
    "    Θ = guess_scheds(Θs, W, Γ, gp, y, α, T=T)\n",
    "    return Θ\n",
    "\n",
    "def optimize(MAX_D=0.1, MAX_S=12, T=None, tol=1e-6, dtol=1e-5, verbose=False):\n",
    "    global Θs, G, D\n",
    "    α = 0\n",
    "    s = 2\n",
    "    z = 2\n",
    "    n = N\n",
    "    nlower = n0 = np.zeros(len(N), dtype=int)\n",
    "    while MAX_D < D[-1] and s < MAX_S and α + 1 < YEARS:\n",
    "        print(s)\n",
    "        print('-'*18)\n",
    "        Gprev = np.array(G[:z])\n",
    "        t0 = time.time()\n",
    "        Θ = estimate(Θs, G, D, n, nlower, Γ, α, T=T, tol=tol, verbose=verbose)\n",
    "        t1 = time.time()\n",
    "        α_s = add_sim(Θ, dtol=dtol)\n",
    "        t2 = time.time()\n",
    "        print('Estimate time:   {0} min {1} sec'.format((t1-t0)//60, (t1-t0)%60))\n",
    "        print('Simulation time: {0} min {1} sec'.format((t2-t1)//60, (t2-t1)%60))\n",
    "        print(D)\n",
    "        sys.stdout.flush()\n",
    "        idx = [int(i) for i in np.argsort(D)[:z]]\n",
    "        if D[-1] == max(D):\n",
    "            idx.append(-1)\n",
    "        #elif len(G) == z + 2  and np.allclose(G[:z], Gprev):\n",
    "        #    n = np.array([Θs[0] + 1, N], dtype=int).min(axis=0)\n",
    "        #    nlower = np.array([Θs[0] - 1, n0], dtype=int).max(axis=0)\n",
    "        #    print('New N-upper', n)\n",
    "        #    print('New N-lower', nlower)\n",
    "        #if (α < α_s) and ((len(D) - 1) in idx[:2]):\n",
    "        #if (α < α_s) and (len(D) == idx[0] + 1):\n",
    "        if (len(D) == idx[0] + 1):\n",
    "            print('Update α: {0} -> {1}'.format(α, α_s))\n",
    "            α = α_s\n",
    "        elif α > 0:\n",
    "            print('Update α: {0} -> {1}'.format(α, α - 1))\n",
    "            α -= 1\n",
    "        Θs = [Θs[i] for i in idx]\n",
    "        G = [G[i] for i in idx]\n",
    "        D = [D[i] for i in idx]\n",
    "        s += 1\n",
    "        print()"
   ]
  },
  {
   "cell_type": "markdown",
   "metadata": {},
   "source": [
    "Simulate\n",
    "=======\n",
    "Ok! Let's try it."
   ]
  },
  {
   "cell_type": "code",
   "execution_count": 16,
   "metadata": {
    "collapsed": false,
    "scrolled": false
   },
   "outputs": [
    {
     "name": "stdout",
     "output_type": "stream",
     "text": [
      "2\n",
      "------------------\n",
      "hyperparameters [ 8.44155389  5.41756185]\n",
      "Simulation α 0\n",
      "Simulation d(t) [ 0.58333333  1.775       2.21516667  2.39340542  2.40551882  2.39120056\n",
      "  2.53282409  2.50353871  2.69233916  2.61748354  2.50120128  2.31826194\n",
      "  2.22241377  2.22391099  2.19459305  2.10073175  2.03560491  1.84391852\n",
      "  1.6843353   1.4830635   1.3407385   1.20100328  1.10784502  1.09108611\n",
      "  1.08095762  1.0796402   1.13644692  1.24791211  1.27886217  1.28815058\n",
      "  1.31818331  1.3368632   1.42145781  1.46680532  1.41932333  1.47723938\n",
      "  1.52192561  1.55221627  1.59517525  1.67674125  1.81029937  1.92633861\n",
      "  2.02109743  2.16642632  2.3627625   2.54999477  2.78594197  2.97299346\n",
      "  3.26725157  3.54861946]\n",
      "Estimate time:   0.0 min 6.830390691757202 sec\n",
      "Simulation time: 0.0 min 7.684805393218994 sec\n",
      "[39.145530632616016, 14.802403115793279, 3.5486194583707338]\n",
      "Update α: 0 -> 0\n",
      "\n",
      "3\n",
      "------------------\n",
      "hyperparameters [ 7.49342343  4.19292322]\n",
      "Simulation α 43\n",
      "Simulation d(t) [ 1.04166667  1.775       2.02072222  2.00798875  1.84928824  1.60647834\n",
      "  1.52702506  1.27909173  1.34218857  1.27515743  1.12879298  1.12426679\n",
      "  1.19794829  1.27053753  1.38981322  1.53952925  1.24872896  1.33456065\n",
      "  1.23032907  1.34747442  1.44760509  1.51649993  1.67211067  1.84850894\n",
      "  1.72204321  1.4158275   1.52832281  1.46830869  1.5254277   1.47911371\n",
      "  1.60704126  1.77066705  1.56589465  1.72790913  1.90209166  2.06561108\n",
      "  2.13596023  1.34338512  1.19122805  1.29587684  1.37931727  1.18964671\n",
      "  1.06685697  0.91762212  0.8956981   0.88438256  0.9445592   0.98118478\n",
      "  1.06452471  1.1293047 ]\n",
      "Estimate time:   0.0 min 6.17947244644165 sec\n",
      "Simulation time: 0.0 min 7.890408754348755 sec\n",
      "[3.5486194583707338, 14.802403115793279, 1.1293047039686535]\n",
      "Update α: 0 -> 43\n",
      "\n",
      "4\n",
      "------------------\n",
      "hyperparameters [ 6.49352041  3.56332789]\n",
      "Simulation α 43\n",
      "Simulation d(t) [ 1.04166667  1.775       2.02072222  2.00798875  1.84928824  1.60647834\n",
      "  1.52702506  1.27909173  1.34218857  1.27515743  1.12879298  1.12426679\n",
      "  1.19794829  1.27053753  1.38981322  1.53952925  1.24872896  1.33456065\n",
      "  1.23032907  1.34747442  1.44760509  1.51649993  1.67211067  1.84850894\n",
      "  1.72204321  1.4158275   1.52832281  1.46830869  1.5254277   1.47911371\n",
      "  1.60704126  1.77066705  1.56589465  1.72790913  1.90209166  2.06561108\n",
      "  2.13596023  1.34338512  1.19122805  1.29587684  1.37931727  1.18964671\n",
      "  1.06685697  0.91762212  0.88458699  0.86807025  0.9011117   0.91188323\n",
      "  0.9471703   0.96570336]\n",
      "Estimate time:   0.0 min 5.854937553405762 sec\n",
      "Simulation time: 0.0 min 8.865880966186523 sec\n",
      "[1.1293047039686535, 3.5486194583707338, 0.96570335574720578]\n",
      "Update α: 43 -> 43\n",
      "\n",
      "5\n",
      "------------------\n",
      "hyperparameters [ 5.33952508  3.06769119]\n",
      "Simulation α 43\n",
      "Simulation d(t) [ 1.04166667  1.775       2.02072222  2.00798875  1.84928824  1.60647834\n",
      "  1.52702506  1.27909173  1.34218857  1.27515743  1.12879298  1.12426679\n",
      "  1.19794829  1.27053753  1.38981322  1.53952925  1.24872896  1.33456065\n",
      "  1.23032907  1.34747442  1.44760509  1.51649993  1.67211067  1.84850894\n",
      "  1.72204321  1.4158275   1.52832281  1.46830869  1.5254277   1.47911371\n",
      "  1.60704126  1.77066705  1.56589465  1.72790913  1.90209166  2.06561108\n",
      "  2.13596023  1.34338512  1.19122805  1.29587684  1.37931727  1.18964671\n",
      "  1.06685697  0.92519788  0.85027197  0.85533455  0.86914342  0.86669206\n",
      "  0.90240229  0.90416057]\n",
      "Estimate time:   0.0 min 5.829271554946899 sec\n",
      "Simulation time: 0.0 min 9.5926673412323 sec\n",
      "[0.96570335574720578, 1.1293047039686535, 0.90416056900304975]\n",
      "Update α: 43 -> 43\n",
      "\n",
      "6\n",
      "------------------\n",
      "hyperparameters [ 5.17221118  3.0182492 ]\n",
      "Simulation α 43\n",
      "Simulation d(t) [ 1.04166667  1.775       2.02072222  2.00798875  1.84928824  1.60647834\n",
      "  1.52702506  1.27909173  1.34218857  1.27515743  1.12879298  1.12426679\n",
      "  1.19794829  1.27053753  1.38981322  1.53952925  1.24872896  1.33456065\n",
      "  1.23032907  1.34747442  1.44760509  1.51649993  1.67211067  1.84850894\n",
      "  1.72204321  1.4158275   1.52832281  1.46830869  1.5254277   1.47911371\n",
      "  1.60704126  1.77066705  1.56589465  1.72790913  1.90209166  2.06561108\n",
      "  2.13596023  1.34338512  1.19122805  1.29587684  1.37931727  1.18964671\n",
      "  1.06685697  0.93277364  0.84127838  0.86736979  0.85344812  0.83824131\n",
      "  0.85497435  0.85236135]\n",
      "Estimate time:   0.0 min 5.7877702713012695 sec\n",
      "Simulation time: 0.0 min 10.447025299072266 sec\n",
      "[0.90416056900304975, 0.96570335574720578, 0.85236135389790502]\n",
      "Update α: 43 -> 43\n",
      "\n",
      "7\n",
      "------------------\n",
      "hyperparameters [ 5.10383521  3.00285661]\n",
      "Simulation α 43\n",
      "Simulation d(t) [ 1.04166667  1.775       2.02072222  2.00798875  1.84928824  1.60647834\n",
      "  1.52702506  1.27909173  1.34218857  1.27515743  1.12879298  1.12426679\n",
      "  1.19794829  1.27053753  1.38981322  1.53952925  1.24872896  1.33456065\n",
      "  1.23032907  1.34747442  1.44760509  1.51649993  1.67211067  1.84850894\n",
      "  1.72204321  1.4158275   1.52832281  1.46830869  1.5254277   1.47911371\n",
      "  1.60704126  1.77066705  1.56589465  1.72790913  1.90209166  2.06561108\n",
      "  2.13596023  1.34338512  1.19122805  1.29587684  1.37931727  1.18964671\n",
      "  1.06685697  0.93277364  0.84127838  0.86736979  0.87205735  0.85912862\n",
      "  0.88563946  0.8864066 ]\n",
      "Estimate time:   0.0 min 5.761312007904053 sec\n",
      "Simulation time: 0.0 min 11.107395648956299 sec\n",
      "[0.85236135389790502, 0.90416056900304975, 0.88640660294486551]\n",
      "Update α: 43 -> 42\n",
      "\n",
      "8\n",
      "------------------\n",
      "hyperparameters [ 5.09652764  3.11995065]\n",
      "Simulation α 43\n",
      "Simulation d(t) [ 1.04166667  1.775       2.02072222  2.00798875  1.84928824  1.60647834\n",
      "  1.52702506  1.27909173  1.34218857  1.27515743  1.12879298  1.12426679\n",
      "  1.19794829  1.27053753  1.38981322  1.53952925  1.24872896  1.33456065\n",
      "  1.23032907  1.34747442  1.44760509  1.51649993  1.67211067  1.84850894\n",
      "  1.72204321  1.4158275   1.52832281  1.46830869  1.5254277   1.47911371\n",
      "  1.60704126  1.77066705  1.56589465  1.72790913  1.90209166  2.06561108\n",
      "  2.13596023  1.34338512  1.19122805  1.29587684  1.37931727  1.18964671\n",
      "  1.02809728  0.89170656  0.83789528  0.85500227  0.83459908  0.82592295\n",
      "  0.84375772  0.84119583]\n",
      "Estimate time:   0.0 min 5.714648723602295 sec\n",
      "Simulation time: 0.0 min 12.090876579284668 sec\n",
      "[0.85236135389790502, 0.88640660294486551, 0.84119583018952271]\n",
      "Update α: 42 -> 43\n",
      "\n",
      "9\n",
      "------------------\n",
      "hyperparameters [ 5.1244076   3.02020112]\n",
      "Simulation α 43\n",
      "Simulation d(t) [ 1.04166667  1.775       2.02072222  2.00798875  1.84928824  1.60647834\n",
      "  1.52702506  1.27909173  1.34218857  1.27515743  1.12879298  1.12426679\n",
      "  1.19794829  1.27053753  1.38981322  1.53952925  1.24872896  1.33456065\n",
      "  1.23032907  1.34747442  1.44760509  1.51649993  1.67211067  1.84850894\n",
      "  1.72204321  1.4158275   1.52832281  1.46830869  1.5254277   1.47911371\n",
      "  1.60704126  1.77066705  1.56589465  1.72790913  1.90209166  2.06561108\n",
      "  2.13596023  1.34338512  1.19122805  1.29587684  1.37931727  1.18964671\n",
      "  1.02809728  0.89170656  0.8546177   0.84509305  0.85025457  0.86034951\n",
      "  0.89091353  0.8939255 ]\n",
      "Estimate time:   0.0 min 6.057570219039917 sec\n",
      "Simulation time: 0.0 min 12.99434518814087 sec\n",
      "[0.84119583018952271, 0.85236135389790502, 0.89392549965344203]\n",
      "Update α: 43 -> 42\n",
      "\n",
      "10\n",
      "------------------\n",
      "hyperparameters [ 4.92869606  2.93446464]\n",
      "Simulation α 43\n",
      "Simulation d(t) [ 1.04166667  1.775       2.02072222  2.00798875  1.84928824  1.60647834\n",
      "  1.52702506  1.27909173  1.34218857  1.27515743  1.12879298  1.12426679\n",
      "  1.19794829  1.27053753  1.38981322  1.53952925  1.24872896  1.33456065\n",
      "  1.23032907  1.34747442  1.44760509  1.51649993  1.67211067  1.84850894\n",
      "  1.72204321  1.4158275   1.52832281  1.46830869  1.5254277   1.47911371\n",
      "  1.60704126  1.77066705  1.56589465  1.72790913  1.90209166  2.06561108\n",
      "  2.13596023  1.34338512  1.19122805  1.29587684  1.37931727  1.18964671\n",
      "  1.11104168  0.97794716  0.85913894  0.89480585  0.84838554  0.83241615\n",
      "  0.86117282  0.87760253]\n",
      "Estimate time:   0.0 min 5.839597702026367 sec\n",
      "Simulation time: 0.0 min 13.615999460220337 sec\n",
      "[0.84119583018952271, 0.85236135389790502, 0.89392549965344203, 0.87760252915231907]\n",
      "Update α: 42 -> 41\n",
      "\n",
      "11\n",
      "------------------\n",
      "hyperparameters [ 5.13289897  3.01881038]\n",
      "Simulation α 43\n",
      "Simulation d(t) [ 1.04166667  1.775       2.02072222  2.00798875  1.84928824  1.60647834\n",
      "  1.52702506  1.27909173  1.34218857  1.27515743  1.12879298  1.12426679\n",
      "  1.19794829  1.27053753  1.38981322  1.53952925  1.24872896  1.33456065\n",
      "  1.23032907  1.34747442  1.44760509  1.51649993  1.67211067  1.84850894\n",
      "  1.72204321  1.4158275   1.52832281  1.46830869  1.5254277   1.47911371\n",
      "  1.60704126  1.77066705  1.56589465  1.72790913  1.90209166  2.06561108\n",
      "  2.13596023  1.34338512  1.19122805  1.29587684  1.37931727  1.1455699\n",
      "  1.12211972  0.92706628  0.91085094  0.91640817  0.91030058  0.91046401\n",
      "  0.92293814  0.92195583]\n",
      "Estimate time:   0.0 min 5.8272340297698975 sec\n",
      "Simulation time: 0.0 min 14.57993483543396 sec\n",
      "[0.84119583018952271, 0.85236135389790502, 0.92195583420270777]\n",
      "Update α: 41 -> 40\n",
      "\n",
      "12\n",
      "------------------\n",
      "hyperparameters [ 4.9874578   2.97910239]\n",
      "Simulation α 44\n",
      "Simulation d(t) [ 1.04166667  1.775       2.02072222  2.00798875  1.84928824  1.60647834\n",
      "  1.52702506  1.27909173  1.34218857  1.27515743  1.12879298  1.12426679\n",
      "  1.19794829  1.27053753  1.38981322  1.53952925  1.24872896  1.33456065\n",
      "  1.23032907  1.34747442  1.44760509  1.51649993  1.67211067  1.84850894\n",
      "  1.72204321  1.4158275   1.52832281  1.46830869  1.5254277   1.47911371\n",
      "  1.60704126  1.77066705  1.56589465  1.72790913  1.90209166  2.06561108\n",
      "  2.13596023  1.34338512  1.19122805  1.29587684  1.4014376   1.40197946\n",
      "  1.40980406  1.02955419  0.9634505   0.88581157  0.84867516  0.87870669\n",
      "  0.83482492  0.84844825]\n",
      "Estimate time:   0.0 min 5.8853864669799805 sec\n",
      "Simulation time: 0.0 min 15.47563624382019 sec\n",
      "[0.84119583018952271, 0.85236135389790502, 0.92195583420270777, 0.84844824914945316]\n",
      "Update α: 40 -> 39\n",
      "\n",
      "13\n",
      "------------------\n",
      "hyperparameters [ 5.31855079  3.18485173]\n",
      "Simulation α 43\n",
      "Simulation d(t) [ 1.04166667  1.775       2.02072222  2.00798875  1.84928824  1.60647834\n",
      "  1.52702506  1.27909173  1.34218857  1.27515743  1.12879298  1.12426679\n",
      "  1.19794829  1.27053753  1.38981322  1.53952925  1.24872896  1.33456065\n",
      "  1.23032907  1.34747442  1.44760509  1.51649993  1.67211067  1.84850894\n",
      "  1.72204321  1.4158275   1.52832281  1.46830869  1.5254277   1.47911371\n",
      "  1.60704126  1.77066705  1.56589465  1.72790913  1.90209166  2.06561108\n",
      "  2.13596023  1.34338512  1.19122805  1.2906685   1.29103285  1.18240337\n",
      "  1.01520844  0.88758192  0.82496603  0.85231786  0.81543403  0.87133168\n",
      "  0.85173546  0.83668725]\n",
      "Estimate time:   0.0 min 5.955161094665527 sec\n",
      "Simulation time: 0.0 min 16.507981061935425 sec\n",
      "[0.84119583018952271, 0.84844824914945316, 0.83668724507605763]\n",
      "Update α: 39 -> 43\n",
      "\n",
      "14\n",
      "------------------\n",
      "hyperparameters [ 5.07041599  2.94092412]\n",
      "Simulation α 43\n",
      "Simulation d(t) [ 1.04166667  1.775       2.02072222  2.00798875  1.84928824  1.60647834\n",
      "  1.52702506  1.27909173  1.34218857  1.27515743  1.12879298  1.12426679\n",
      "  1.19794829  1.27053753  1.38981322  1.53952925  1.24872896  1.33456065\n",
      "  1.23032907  1.34747442  1.44760509  1.51649993  1.67211067  1.84850894\n",
      "  1.72204321  1.4158275   1.52832281  1.46830869  1.5254277   1.47911371\n",
      "  1.60704126  1.77066705  1.56589465  1.72790913  1.90209166  2.06561108\n",
      "  2.13596023  1.34338512  1.19122805  1.2906685   1.29103285  1.18240337\n",
      "  1.01520844  0.88758192  0.82496603  0.85775265  0.8386024   0.79767084\n",
      "  0.78467994  0.77533318]\n",
      "Estimate time:   0.0 min 5.6113176345825195 sec\n",
      "Simulation time: 0.0 min 16.77909255027771 sec\n",
      "[0.83668724507605763, 0.84119583018952271, 0.77533317623872333]\n",
      "Update α: 43 -> 43\n",
      "\n",
      "15\n",
      "------------------\n",
      "hyperparameters [ 5.01726768  2.99698696]\n",
      "Simulation α 43\n",
      "Simulation d(t) [ 1.04166667  1.775       2.02072222  2.00798875  1.84928824  1.60647834\n",
      "  1.52702506  1.27909173  1.34218857  1.27515743  1.12879298  1.12426679\n",
      "  1.19794829  1.27053753  1.38981322  1.53952925  1.24872896  1.33456065\n",
      "  1.23032907  1.34747442  1.44760509  1.51649993  1.67211067  1.84850894\n",
      "  1.72204321  1.4158275   1.52832281  1.46830869  1.5254277   1.47911371\n",
      "  1.60704126  1.77066705  1.56589465  1.72790913  1.90209166  2.06561108\n",
      "  2.13596023  1.34338512  1.19122805  1.2906685   1.29103285  1.18240337\n",
      "  1.01520844  0.88758192  0.82496603  0.85775265  0.8386024   0.79767084\n",
      "  0.77652375  0.77047977]\n",
      "Estimate time:   0.0 min 5.669374942779541 sec\n",
      "Simulation time: 0.0 min 18.089001893997192 sec\n",
      "[0.77533317623872333, 0.83668724507605763, 0.7704797735071085]\n",
      "Update α: 43 -> 43\n",
      "\n",
      "16\n",
      "------------------\n",
      "hyperparameters [ 5.13770168  3.1991585 ]\n",
      "Simulation α 43\n",
      "Simulation d(t) [ 1.04166667  1.775       2.02072222  2.00798875  1.84928824  1.60647834\n",
      "  1.52702506  1.27909173  1.34218857  1.27515743  1.12879298  1.12426679\n",
      "  1.19794829  1.27053753  1.38981322  1.53952925  1.24872896  1.33456065\n",
      "  1.23032907  1.34747442  1.44760509  1.51649993  1.67211067  1.84850894\n",
      "  1.72204321  1.4158275   1.52832281  1.46830869  1.5254277   1.47911371\n",
      "  1.60704126  1.77066705  1.56589465  1.72790913  1.90209166  2.06561108\n",
      "  2.13596023  1.34338512  1.19122805  1.2906685   1.29103285  1.18240337\n",
      "  1.01520844  0.9103092   0.85874478  0.9161594   0.91523767  0.99856998\n",
      "  0.85780139  0.8308186 ]\n",
      "Estimate time:   0.0 min 5.79896879196167 sec\n",
      "Simulation time: 0.0 min 18.68229579925537 sec\n",
      "[0.7704797735071085, 0.77533317623872333, 0.83081859789855006]\n",
      "Update α: 43 -> 42\n",
      "\n",
      "17\n",
      "------------------\n",
      "hyperparameters [ 4.85497968  2.93874995]\n",
      "Simulation α 43\n",
      "Simulation d(t) [ 1.04166667  1.775       2.02072222  2.00798875  1.84928824  1.60647834\n",
      "  1.52702506  1.27909173  1.34218857  1.27515743  1.12879298  1.12426679\n",
      "  1.19794829  1.27053753  1.38981322  1.53952925  1.24872896  1.33456065\n",
      "  1.23032907  1.34747442  1.44760509  1.51649993  1.67211067  1.84850894\n",
      "  1.72204321  1.4158275   1.52832281  1.46830869  1.5254277   1.47911371\n",
      "  1.60704126  1.77066705  1.56589465  1.72790913  1.90209166  2.06561108\n",
      "  2.13596023  1.34338512  1.19122805  1.2906685   1.29103285  1.18240337\n",
      "  1.05396813  0.90313227  0.83703005  0.85415585  0.82513271  0.80462074\n",
      "  0.81268616  0.80675227]\n",
      "Estimate time:   0.0 min 5.990032434463501 sec\n",
      "Simulation time: 0.0 min 19.445414304733276 sec\n",
      "[0.7704797735071085, 0.77533317623872333, 0.83081859789855006, 0.80675227006216654]\n",
      "Update α: 42 -> 41\n",
      "\n",
      "18\n",
      "------------------\n",
      "hyperparameters [ 5.13770168  3.1991585 ]\n",
      "Simulation α 43\n",
      "Simulation d(t) [ 1.04166667  1.775       2.02072222  2.00798875  1.84928824  1.60647834\n",
      "  1.52702506  1.27909173  1.34218857  1.27515743  1.12879298  1.12426679\n",
      "  1.19794829  1.27053753  1.38981322  1.53952925  1.24872896  1.33456065\n",
      "  1.23032907  1.34747442  1.44760509  1.51649993  1.67211067  1.84850894\n",
      "  1.72204321  1.4158275   1.52832281  1.46830869  1.5254277   1.47911371\n",
      "  1.60704126  1.77066705  1.56589465  1.72790913  1.90209166  2.06561108\n",
      "  2.13596023  1.34338512  1.19122805  1.2906685   1.29103285  1.09127048\n",
      "  1.04828794  0.88103577  0.87744143  0.84985536  0.82548286  0.81693506\n",
      "  0.81964713  0.81190735]\n",
      "Estimate time:   0.0 min 5.582584857940674 sec\n",
      "Simulation time: 0.0 min 20.76898169517517 sec\n",
      "[0.7704797735071085, 0.77533317623872333, 0.81190735021343274]\n",
      "Update α: 41 -> 40\n",
      "\n",
      "19\n",
      "------------------\n",
      "hyperparameters [ 5.03842359  3.09557751]\n",
      "Simulation α 43\n",
      "Simulation d(t) [ 1.04166667  1.775       2.02072222  2.00798875  1.84928824  1.60647834\n",
      "  1.52702506  1.27909173  1.34218857  1.27515743  1.12879298  1.12426679\n",
      "  1.19794829  1.27053753  1.38981322  1.53952925  1.24872896  1.33456065\n",
      "  1.23032907  1.34747442  1.44760509  1.51649993  1.67211067  1.84850894\n",
      "  1.72204321  1.4158275   1.52832281  1.46830869  1.5254277   1.47911371\n",
      "  1.60704126  1.77066705  1.56589465  1.72790913  1.90209166  2.06561108\n",
      "  2.13596023  1.34338512  1.19122805  1.2906685   1.29103285  1.13478432\n",
      "  1.1823214   0.98760198  1.0205284   1.01826656  0.9920761   0.93006961\n",
      "  0.83938639  0.8239455 ]\n",
      "Estimate time:   0.0 min 5.817922830581665 sec\n",
      "Simulation time: 0.0 min 20.763556957244873 sec\n",
      "[0.7704797735071085, 0.77533317623872333, 0.81190735021343274, 0.82394550145048284]\n",
      "Update α: 40 -> 39\n",
      "\n",
      "20\n",
      "------------------\n",
      "hyperparameters [ 4.97832333  3.08010559]\n",
      "Simulation α 43\n",
      "Simulation d(t) [ 1.04166667  1.775       2.02072222  2.00798875  1.84928824  1.60647834\n",
      "  1.52702506  1.27909173  1.34218857  1.27515743  1.12879298  1.12426679\n",
      "  1.19794829  1.27053753  1.38981322  1.53952925  1.24872896  1.33456065\n",
      "  1.23032907  1.34747442  1.44760509  1.51649993  1.67211067  1.84850894\n",
      "  1.72204321  1.4158275   1.52832281  1.46830869  1.5254277   1.47911371\n",
      "  1.60704126  1.77066705  1.56589465  1.72790913  1.90209166  2.06561108\n",
      "  2.13596023  1.34338512  1.19122805  1.29587684  1.39737256  1.27056564\n",
      "  1.12612529  0.9633319   0.85171312  0.8775777   0.86023875  0.86138353\n",
      "  0.80163849  0.79695256]\n",
      "Estimate time:   0.0 min 5.848487377166748 sec\n",
      "Simulation time: 0.0 min 22.014785528182983 sec\n",
      "[0.7704797735071085, 0.77533317623872333, 0.82394550145048284, 0.79695255954443822]\n",
      "Update α: 39 -> 38\n",
      "\n",
      "21\n",
      "------------------\n",
      "hyperparameters [ 5.13770168  3.1991585 ]\n",
      "Simulation α 43\n",
      "Simulation d(t) [ 1.04166667  1.775       2.02072222  2.00798875  1.84928824  1.60647834\n",
      "  1.52702506  1.27909173  1.34218857  1.27515743  1.12879298  1.12426679\n",
      "  1.19794829  1.27053753  1.38981322  1.53952925  1.24872896  1.33456065\n",
      "  1.23032907  1.34747442  1.44760509  1.51649993  1.67211067  1.84850894\n",
      "  1.72204321  1.4158275   1.52832281  1.46830869  1.5254277   1.47911371\n",
      "  1.60704126  1.77066705  1.56589465  1.72790913  1.90209166  2.06561108\n",
      "  2.13596023  1.34338512  1.19122805  1.28025184  1.16000408  1.25346882\n",
      "  1.35735432  0.99672506  1.013708    0.96992776  0.90967167  0.98443938\n",
      "  0.8847755   0.86765263]\n",
      "Estimate time:   0.0 min 6.088194370269775 sec\n",
      "Simulation time: 0.0 min 22.374765872955322 sec\n",
      "[0.7704797735071085, 0.77533317623872333, 0.86765262770202223]\n",
      "Update α: 38 -> 37\n",
      "\n",
      "22\n",
      "------------------\n",
      "hyperparameters [ 4.99860827  2.98624755]\n",
      "Simulation α 43\n",
      "Simulation d(t) [ 1.04166667  1.775       2.02072222  2.00798875  1.84928824  1.60647834\n",
      "  1.52702506  1.27909173  1.34218857  1.27515743  1.12879298  1.12426679\n",
      "  1.19794829  1.27053753  1.38981322  1.53952925  1.24872896  1.33456065\n",
      "  1.23032907  1.34747442  1.44760509  1.51649993  1.67211067  1.84850894\n",
      "  1.72204321  1.4158275   1.52832281  1.46830869  1.5254277   1.47911371\n",
      "  1.60704126  1.77066705  1.56589465  1.72790913  1.90209166  2.06561108\n",
      "  2.13596023  1.39686619  1.24559586  1.35617712  1.35951102  1.24131034\n",
      "  1.05834436  0.89604541  0.81925522  0.85760076  0.84386608  0.90785196\n",
      "  0.87390498  0.85674671]\n",
      "Estimate time:   0.0 min 5.905230760574341 sec\n",
      "Simulation time: 0.0 min 23.543261289596558 sec\n",
      "[0.7704797735071085, 0.77533317623872333, 0.86765262770202223, 0.85674671111710654]\n",
      "Update α: 37 -> 36\n",
      "\n",
      "23\n",
      "------------------\n",
      "hyperparameters [ 5.13770168  3.1991585 ]\n",
      "Simulation α 46\n",
      "Simulation d(t) [ 1.04166667  1.775       2.02072222  2.00798875  1.84928824  1.60647834\n",
      "  1.52702506  1.27909173  1.34218857  1.27515743  1.12879298  1.12426679\n",
      "  1.19794829  1.27053753  1.38981322  1.53952925  1.24872896  1.33456065\n",
      "  1.23032907  1.34747442  1.44760509  1.51649993  1.67211067  1.84850894\n",
      "  1.72204321  1.4158275   1.52832281  1.46830869  1.5254277   1.47911371\n",
      "  1.60704126  1.77066705  1.56589465  1.72790913  1.90209166  2.06561108\n",
      "  2.18325753  1.70900057  1.38181739  1.52024311  1.65285185  1.63554339\n",
      "  1.69469072  1.13705305  1.05925093  1.02716178  0.84831912  0.84971223\n",
      "  0.81184973  0.82074811]\n",
      "Estimate time:   0.0 min 5.872277736663818 sec\n",
      "Simulation time: 0.0 min 25.023075819015503 sec\n",
      "[0.7704797735071085, 0.77533317623872333, 0.82074810736874082]\n",
      "Update α: 36 -> 35\n",
      "\n",
      "24\n",
      "------------------\n",
      "hyperparameters [ 5.0579635   3.06962202]\n",
      "Simulation α 44\n",
      "Simulation d(t) [ 1.04166667  1.775       2.02072222  2.00798875  1.84928824  1.60647834\n",
      "  1.52702506  1.27909173  1.34218857  1.27515743  1.12879298  1.12426679\n",
      "  1.19794829  1.27053753  1.38981322  1.53952925  1.24872896  1.33456065\n",
      "  1.23032907  1.34747442  1.44760509  1.51649993  1.67211067  1.84850894\n",
      "  1.72204321  1.4158275   1.52832281  1.46830869  1.5254277   1.47911371\n",
      "  1.60704126  1.77066705  1.56589465  1.72790913  1.90209166  2.06213886\n",
      "  2.01089449  1.50205272  1.28769173  1.42013726  1.55722013  1.69380671\n",
      "  1.46433452  1.16763948  0.95704335  1.04492973  0.9615753   1.0231089\n",
      "  0.85809034  0.84310871]\n",
      "Estimate time:   0.0 min 5.812031030654907 sec\n",
      "Simulation time: 0.0 min 25.623297691345215 sec\n",
      "[0.7704797735071085, 0.77533317623872333, 0.82074810736874082, 0.84310870822769468]\n",
      "Update α: 35 -> 34\n",
      "\n",
      "CPU times: user 2min 42s, sys: 14.2 s, total: 2min 56s\n",
      "Wall time: 8min 29s\n"
     ]
    }
   ],
   "source": [
    "%%time\n",
    "optimize(MAX_S=25, dtol=1.0)"
   ]
  },
  {
   "cell_type": "code",
   "execution_count": 17,
   "metadata": {
    "collapsed": false
   },
   "outputs": [
    {
     "data": {
      "text/plain": [
       "array([3, 5, 3, 0, 3, 4, 4, 5, 3, 1, 1, 1, 2, 2, 4, 4, 5, 3, 3, 2, 3, 2, 3,\n",
       "       4, 2, 6, 4, 4, 2, 3, 3, 3, 3, 0, 5, 6, 2, 6, 5, 2, 1, 0, 7, 5, 0, 0,\n",
       "       5, 6, 1, 7])"
      ]
     },
     "execution_count": 17,
     "metadata": {},
     "output_type": "execute_result"
    }
   ],
   "source": [
    "Θs[-1]"
   ]
  },
  {
   "cell_type": "code",
   "execution_count": 18,
   "metadata": {
    "collapsed": false
   },
   "outputs": [
    {
     "data": {
      "text/plain": [
       "array([  87.91666667,   95.91666667,   96.83333333,   96.66666667,\n",
       "         96.08333333,   96.08333333,   98.58333333,   97.41666667,\n",
       "        103.        ,  100.75      ,   99.75      ,   97.58333333,\n",
       "         97.25      ,   98.        ,   97.33333333,   96.91666667,\n",
       "        102.25      ,  101.        ,  103.41666667,  101.58333333,\n",
       "        102.91666667,  103.5       ,  101.83333333,  101.33333333,\n",
       "        104.91666667,  107.75      ,  107.66666667,  108.91666667,\n",
       "        109.33333333,  110.5       ,  110.41666667,  108.83333333,\n",
       "        112.83333333,  110.83333333,  110.58333333,  112.16666667,\n",
       "        113.75      ,  118.41666667,  121.33333333,  119.5       ,\n",
       "        119.91666667,  120.75      ,  124.08333333,  128.41666667,\n",
       "        132.83333333,  130.83333333,  135.33333333,  135.41666667,\n",
       "        144.        ,  146.33333333])"
      ]
     },
     "execution_count": 18,
     "metadata": {},
     "output_type": "execute_result"
    }
   ],
   "source": [
    "G[-1]"
   ]
  },
  {
   "cell_type": "code",
   "execution_count": 19,
   "metadata": {
    "collapsed": false
   },
   "outputs": [
    {
     "data": {
      "text/plain": [
       "array([  90.        ,   90.9       ,   91.809     ,   92.72709   ,\n",
       "         93.6543609 ,   94.59090451,   95.53681355,   96.49218169,\n",
       "         97.45710351,   98.43167454,   99.41599129,  100.4101512 ,\n",
       "        101.41425271,  102.42839524,  103.45267919,  104.48720598,\n",
       "        105.53207804,  106.58739882,  107.65327281,  108.72980554,\n",
       "        109.8171036 ,  110.91527463,  112.02442738,  113.14467165,\n",
       "        114.27611837,  115.41887955,  116.57306835,  117.73879903,\n",
       "        118.91618702,  120.10534889,  121.30640238,  122.5194664 ,\n",
       "        123.74466107,  124.98210768,  126.23192876,  127.49424804,\n",
       "        128.76919052,  130.05688243,  131.35745125,  132.67102577,\n",
       "        133.99773602,  135.33771338,  136.69109052,  138.05800142,\n",
       "        139.43858144,  140.83296725,  142.24129692,  143.66370989,\n",
       "        145.10034699,  146.55135046])"
      ]
     },
     "execution_count": 19,
     "metadata": {},
     "output_type": "execute_result"
    }
   ],
   "source": [
    "DEFAULT_DEMAND"
   ]
  },
  {
   "cell_type": "code",
   "execution_count": 20,
   "metadata": {
    "collapsed": false
   },
   "outputs": [
    {
     "ename": "TypeError",
     "evalue": "unsupported operand type(s) for ** or pow(): 'list' and 'int'",
     "output_type": "error",
     "traceback": [
      "\u001b[1;31m---------------------------------------------------------------------------\u001b[0m",
      "\u001b[1;31mTypeError\u001b[0m                                 Traceback (most recent call last)",
      "\u001b[1;32m<ipython-input-20-b4d2ac66f17c>\u001b[0m in \u001b[0;36m<module>\u001b[1;34m()\u001b[0m\n\u001b[1;32m----> 1\u001b[1;33m \u001b[0mD\u001b[0m\u001b[1;33m**\u001b[0m\u001b[1;33m-\u001b[0m\u001b[1;36m1\u001b[0m\u001b[1;33m\u001b[0m\u001b[0m\n\u001b[0m",
      "\u001b[1;31mTypeError\u001b[0m: unsupported operand type(s) for ** or pow(): 'list' and 'int'"
     ]
    }
   ],
   "source": [
    "D**-1"
   ]
  },
  {
   "cell_type": "code",
   "execution_count": null,
   "metadata": {
    "collapsed": false
   },
   "outputs": [],
   "source": [
    "1.7 / 40"
   ]
  },
  {
   "cell_type": "code",
   "execution_count": null,
   "metadata": {
    "collapsed": true
   },
   "outputs": [],
   "source": []
  }
 ],
 "metadata": {
  "kernelspec": {
   "display_name": "Python 3",
   "language": "python",
   "name": "python3"
  },
  "language_info": {
   "codemirror_mode": {
    "name": "ipython",
    "version": 3
   },
   "file_extension": ".py",
   "mimetype": "text/x-python",
   "name": "python",
   "nbconvert_exporter": "python",
   "pygments_lexer": "ipython3",
   "version": "3.5.0"
  }
 },
 "nbformat": 4,
 "nbformat_minor": 0
}

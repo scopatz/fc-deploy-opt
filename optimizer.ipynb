{
 "cells": [
  {
   "cell_type": "markdown",
   "metadata": {},
   "source": [
    "Input File Creation\n",
    "===========\n",
    "First let's start with some tools to create input files for a given deployment schedule."
   ]
  },
  {
   "cell_type": "code",
   "execution_count": 18,
   "metadata": {
    "collapsed": false
   },
   "outputs": [],
   "source": [
    "import os\n",
    "import uuid\n",
    "import json\n",
    "import subprocess\n",
    "from math import ceil\n",
    "from copy import deepcopy\n",
    "\n",
    "import numpy as np\n",
    "import pandas as pd\n",
    "import cymetric as cym\n",
    "%matplotlib inline\n",
    "import matplotlib.pyplot as plt\n",
    "import george\n",
    "\n",
    "import dtw"
   ]
  },
  {
   "cell_type": "code",
   "execution_count": 2,
   "metadata": {
    "collapsed": false
   },
   "outputs": [],
   "source": [
    "with open('once-through.json') as f:\n",
    "    BASE_SIM = json.load(f)\n",
    "DURATION = BASE_SIM['simulation']['control']['duration']\n",
    "YEARS = ceil(DURATION / 12)\n",
    "MONTH_SHUFFLE = (1, 7, 10, 4, 8, 6, 12, 2, 5, 9, 11, 3)\n",
    "NULL_SCHEDULE = {'build_times': [{'val': 1}], \n",
    "                 'n_build': [{'val': 0}], \n",
    "                 'prototypes': [{'val': 'LWR'}]}\n",
    "LWR_PROTOTYPE = {'val': 'LWR'}\n",
    "OPT_H5 = 'opt.h5'"
   ]
  },
  {
   "cell_type": "code",
   "execution_count": 3,
   "metadata": {
    "collapsed": false
   },
   "outputs": [
    {
     "data": {
      "text/plain": [
       "{'build_times': [{'val': 1}],\n",
       " 'n_build': [{'val': 0}],\n",
       " 'prototypes': [{'val': 'LWR'}]}"
      ]
     },
     "execution_count": 3,
     "metadata": {},
     "output_type": "execute_result"
    }
   ],
   "source": [
    "BASE_SIM['simulation']['region']['institution']['config']['DeployInst']"
   ]
  },
  {
   "cell_type": "code",
   "execution_count": 4,
   "metadata": {
    "collapsed": false
   },
   "outputs": [],
   "source": [
    "def deploy_inst_schedule(Θ):\n",
    "    if np.sum(Θ) == 0: \n",
    "        return NULL_SCHEDULE\n",
    "    sched = {'build_times': {'val': []},\n",
    "             'n_build': {'val': []},\n",
    "             'prototypes': {'val': []}}\n",
    "    build_times = sched['build_times']['val']\n",
    "    n_build = sched['n_build']['val']\n",
    "    prototypes = sched['prototypes']['val']\n",
    "    m = 0\n",
    "    for i, θ in enumerate(Θ):\n",
    "        if θ <= 0:\n",
    "            continue\n",
    "        build_times.append(i*12 + MONTH_SHUFFLE[m])\n",
    "        n_build.append(int(θ))\n",
    "        prototypes.append('LWR')\n",
    "        m = (m + 1) % 12\n",
    "    return sched\n",
    "\n",
    "def make_sim(Θ, fname='sim.json'):\n",
    "    sim = deepcopy(BASE_SIM)\n",
    "    inst = sim['simulation']['region']['institution']\n",
    "    inst['config']['DeployInst'] = deploy_inst_schedule(Θ)\n",
    "    with open(fname, 'w') as f:\n",
    "        json.dump(sim, f)\n",
    "    return sim"
   ]
  },
  {
   "cell_type": "code",
   "execution_count": 5,
   "metadata": {
    "collapsed": true
   },
   "outputs": [],
   "source": [
    "s = make_sim([])"
   ]
  },
  {
   "cell_type": "code",
   "execution_count": 6,
   "metadata": {
    "collapsed": false
   },
   "outputs": [
    {
     "data": {
      "text/plain": [
       "{'build_times': [{'val': 1}],\n",
       " 'n_build': [{'val': 0}],\n",
       " 'prototypes': [{'val': 'LWR'}]}"
      ]
     },
     "execution_count": 6,
     "metadata": {},
     "output_type": "execute_result"
    }
   ],
   "source": [
    "s['simulation']['region']['institution']['config']['DeployInst']"
   ]
  },
  {
   "cell_type": "markdown",
   "metadata": {},
   "source": [
    "Simulate\n",
    "=========\n",
    "Now let's build some tools to run simulations and extract a GWe time series."
   ]
  },
  {
   "cell_type": "code",
   "execution_count": 7,
   "metadata": {
    "collapsed": false
   },
   "outputs": [],
   "source": [
    "def run(fname='sim.json', out=OPT_H5):\n",
    "    \"\"\"Runs a simulation and returns the sim id.\"\"\"\n",
    "    cmd = ['cyclus', '--warn-limit', '0', '-o', out, fname]\n",
    "    proc = subprocess.run(cmd, check=True, universal_newlines=True, stdout=subprocess.PIPE)\n",
    "    simid = proc.stdout.rsplit(None, 1)[-1]\n",
    "    return simid\n",
    "\n",
    "ZERO_GWE = pd.DataFrame({'GWe': np.zeros(YEARS)}, index=np.arange(YEARS))\n",
    "ZERO_GWE.index.name = 'Time'\n",
    "\n",
    "def extract_gwe(simid, out=OPT_H5):\n",
    "    \"\"\"Computes the annual GWe for a simulation.\"\"\"\n",
    "    with cym.dbopen(out) as db:\n",
    "        evaler = cym.Evaluator(db)\n",
    "        raw = evaler.eval('TimeSeriesPower', conds=[('SimId', '==', uuid.UUID(simid))])\n",
    "    ano = pd.DataFrame({'Time': raw.Time.apply(lambda x: x//12), \n",
    "                        'GWe': raw.Value.apply(lambda x: 1e-3*x/12)})\n",
    "    gwe = ano.groupby('Time').sum()\n",
    "    gwe = (gwe + ZERO_GWE).fillna(0.0)\n",
    "    return np.array(gwe.GWe)"
   ]
  },
  {
   "cell_type": "markdown",
   "metadata": {},
   "source": [
    "Distancing\n",
    "========\n",
    "Now let's build some tools to distance between a GWe time series and a demand curve."
   ]
  },
  {
   "cell_type": "code",
   "execution_count": 8,
   "metadata": {
    "collapsed": true
   },
   "outputs": [],
   "source": [
    "DEFAULT_DEMAND = 90 * (1.01**np.arange(YEARS))  # 1% growth"
   ]
  },
  {
   "cell_type": "code",
   "execution_count": 9,
   "metadata": {
    "collapsed": false
   },
   "outputs": [],
   "source": [
    "def d(g, f=None):\n",
    "    \"\"\"The dynamic time warping distance between a GWe time series and a demand curve.\"\"\"\n",
    "    f = DEFAULT_DEMAND if f is None else f\n",
    "    rtn = dtw.distance(f[:, np.newaxis], g[:, np.newaxis])\n",
    "    return rtn\n",
    "\n",
    "def gwed(Θ, f=None):\n",
    "    \"\"\"For a given deployment schedule Θ, return the GWe time series and the distance \n",
    "    to the demand function f.\n",
    "    \"\"\"\n",
    "    make_sim(Θ)\n",
    "    simid = run()\n",
    "    gwe = extract_gwe(simid)\n",
    "    dΘ = d(gwe, f=f)\n",
    "    return gwe, dΘ"
   ]
  },
  {
   "cell_type": "markdown",
   "metadata": {},
   "source": [
    "Initialize Optimization\n",
    "===============\n",
    "Now let's start with a couple of simple simulations"
   ]
  },
  {
   "cell_type": "code",
   "execution_count": 10,
   "metadata": {
    "collapsed": true
   },
   "outputs": [],
   "source": [
    "N = np.asarray(np.ceil(4*(1.01)**np.arange(YEARS)), dtype=int)  # max annual deployments\n",
    "Θs = [] # deployment schedules\n",
    "G = []  # GWe per sim\n",
    "D = []  # distances per sim\n",
    "if os.path.isfile(OPT_H5):\n",
    "    os.remove(OPT_H5)"
   ]
  },
  {
   "cell_type": "code",
   "execution_count": 11,
   "metadata": {
    "collapsed": false
   },
   "outputs": [],
   "source": [
    "def add_sim(Θ, f=None):\n",
    "    \"\"\"Add a simulation to the known simulations by performing the simulation.\"\"\"\n",
    "    g_s, d_s = gwed(Θ, f=f)\n",
    "    Θs.append(Θ)\n",
    "    G.append(g_s)\n",
    "    D.append(d_s)"
   ]
  },
  {
   "cell_type": "markdown",
   "metadata": {},
   "source": [
    "First, add a schedule where nothing is deployed, leaving the initial facilities to retire."
   ]
  },
  {
   "cell_type": "code",
   "execution_count": 12,
   "metadata": {
    "collapsed": false
   },
   "outputs": [],
   "source": [
    "add_sim(np.zeros(YEARS, dtype=int))"
   ]
  },
  {
   "cell_type": "markdown",
   "metadata": {},
   "source": [
    "Next, add a simulation that is the max deployment schedule to bound the space"
   ]
  },
  {
   "cell_type": "code",
   "execution_count": 13,
   "metadata": {
    "collapsed": false
   },
   "outputs": [],
   "source": [
    "add_sim(N)"
   ]
  },
  {
   "cell_type": "markdown",
   "metadata": {},
   "source": [
    "Optimizer\n",
    "=======\n",
    "Now let's add some tools to do the estimation phase of the optimization."
   ]
  },
  {
   "cell_type": "code",
   "execution_count": 62,
   "metadata": {
    "collapsed": true
   },
   "outputs": [],
   "source": [
    "def gp_gwe(Θs, G, T=None, tol=1e-6, verbose=False):\n",
    "    \"\"\"Create a Gaussian process regression model for GWe.\"\"\"\n",
    "    S = len(G)\n",
    "    T = YEARS if T is None else T\n",
    "    t = np.arange(T)\n",
    "    P = len(Θs[0])\n",
    "    ndim = P + 1\n",
    "    y_mean = np.mean(G)\n",
    "    y = np.concatenate(G)\n",
    "    x = np.empty((S*T, ndim), dtype=int)\n",
    "    for i in range(S):\n",
    "        x[i*T:(i+1)*T, 0] = t\n",
    "        x[i*T:(i+1)*T, 1:] = Θs[i][np.newaxis, :]\n",
    "    yerr = tol * y_mean\n",
    "    kernel = float(y_mean) * george.kernels.ExpSquaredKernel(1.0, ndim=ndim)\n",
    "    gp = george.GP(kernel, mean=y_mean)\n",
    "    gp.compute(x, yerr=yerr, sort=False)\n",
    "    gp.optimize(x, y, yerr=yerr, sort=False, verbose=verbose)\n",
    "    return gp, x, y\n",
    "\n",
    "def predict_gwe(Θ, gp, y, T=None):\n",
    "    \"\"\"Predict GWe for a deployment schedule Θ and a GP.\"\"\"\n",
    "    T = YEARS if T is None else T\n",
    "    t = np.arange(T)\n",
    "    P = len(Θ)\n",
    "    ndim = P + 1\n",
    "    x = np.empty((T, ndim), dtype=int)\n",
    "    x[:,0] = t\n",
    "    x[:,1:] = Θ[np.newaxis,:]\n",
    "    mu = gp.predict(y, x, mean_only=True)\n",
    "    return mu\n",
    "\n",
    "def gp_d_inv(θ_p, D_inv, tol=1e-6, verbose=False):\n",
    "    \"\"\"Computes a Gaussian process model for a deployment parameter.\"\"\"\n",
    "    S = len(D)\n",
    "    ndim = 1\n",
    "    x = θ_p\n",
    "    y = D_inv\n",
    "    y_mean = np.mean(y)\n",
    "    yerr = tol * y_mean\n",
    "    kernel = float(y_mean) * george.kernels.ExpSquaredKernel(1.0, ndim=ndim)\n",
    "    gp = george.GP(kernel, mean=y_mean)\n",
    "    gp.compute(x, yerr=yerr, sort=False)\n",
    "    gp.optimize(x, y, yerr=yerr, sort=False, verbose=verbose)\n",
    "    return gp, x, y\n",
    "\n",
    "def weights(Θs, D, N, tol=1e-6, verbose=False):\n",
    "    P = len(N)\n",
    "    θ_ps = np.array(Θs)\n",
    "    D_inv = np.array(D)**-1\n",
    "    W = []\n",
    "    for p in range(P):\n",
    "        θ_p = θ_ps[:,p]\n",
    "        gp, _, _ = gp_d_inv(θ_p, D_inv, tol=tol, verbose=verbose)\n",
    "        d_np = gp.predict(D_inv, np.arange(0, N[p] + 1), mean_only=True)\n",
    "        d_np_tot = d_np.sum()\n",
    "        w_p = d_np / d_np_tot\n",
    "        W.append(w_p)\n",
    "    return W"
   ]
  },
  {
   "cell_type": "code",
   "execution_count": 58,
   "metadata": {
    "collapsed": false
   },
   "outputs": [],
   "source": [
    "gp, x, y = gp_gwe(Θs, G)"
   ]
  },
  {
   "cell_type": "code",
   "execution_count": 39,
   "metadata": {
    "collapsed": false
   },
   "outputs": [
    {
     "data": {
      "text/plain": [
       "array([ 100.35666667,  100.35666667,  100.35666667,  100.35666667,\n",
       "        100.35666667,  100.35666667,  100.35666667,  100.35666667,\n",
       "        100.35666667,  100.35666667,  100.35666667,  100.35666667,\n",
       "        100.35666667,  100.35666667,  100.35666667,  100.35666667,\n",
       "        100.35666667,  100.35666667,  100.35666667,  100.35666667,\n",
       "        100.35666667,  100.35666667,  100.35666667,  100.35666667,\n",
       "        100.35666667,  100.35666667,  100.35666667,  100.35666667,\n",
       "        100.35666667,  100.35666667,  100.35666667,  100.35666667,\n",
       "        100.35666667,  100.35666667,  100.35666667,  100.35666667,\n",
       "        100.35666667,  100.35666667,  100.35666667,  100.35666667,\n",
       "        100.35666667,  100.35666667,  100.35666667,  100.35666667,\n",
       "        100.35666667,  100.35666667,  100.35666667,  100.35666667,\n",
       "        100.35666667,  100.35666667])"
      ]
     },
     "execution_count": 39,
     "metadata": {},
     "output_type": "execute_result"
    }
   ],
   "source": [
    "predict_gwe(np.zeros(YEARS, dtype=int), gp, y)"
   ]
  },
  {
   "cell_type": "code",
   "execution_count": 63,
   "metadata": {
    "collapsed": false
   },
   "outputs": [
    {
     "data": {
      "text/plain": [
       "[array([ 0.10975325,  0.17414644,  0.2       ,  0.22585356,  0.29024675]),\n",
       " array([ 0.09146104,  0.13138669,  0.16310706,  0.17022627,  0.20194665,\n",
       "         0.24187229]),\n",
       " array([ 0.09146104,  0.13138669,  0.16310706,  0.17022627,  0.20194665,\n",
       "         0.24187229]),\n",
       " array([ 0.09146104,  0.13138669,  0.16310706,  0.17022627,  0.20194665,\n",
       "         0.24187229]),\n",
       " array([ 0.09146104,  0.13138669,  0.16310706,  0.17022627,  0.20194665,\n",
       "         0.24187229]),\n",
       " array([ 0.09146104,  0.13138669,  0.16310706,  0.17022627,  0.20194665,\n",
       "         0.24187229]),\n",
       " array([ 0.09146104,  0.13138669,  0.16310706,  0.17022627,  0.20194665,\n",
       "         0.24187229]),\n",
       " array([ 0.09146104,  0.13138669,  0.16310706,  0.17022627,  0.20194665,\n",
       "         0.24187229]),\n",
       " array([ 0.09146104,  0.13138669,  0.16310706,  0.17022627,  0.20194665,\n",
       "         0.24187229]),\n",
       " array([ 0.09146104,  0.13138669,  0.16310706,  0.17022627,  0.20194665,\n",
       "         0.24187229]),\n",
       " array([ 0.09146104,  0.13138669,  0.16310706,  0.17022627,  0.20194665,\n",
       "         0.24187229]),\n",
       " array([ 0.09146104,  0.13138669,  0.16310706,  0.17022627,  0.20194665,\n",
       "         0.24187229]),\n",
       " array([ 0.09146104,  0.13138669,  0.16310706,  0.17022627,  0.20194665,\n",
       "         0.24187229]),\n",
       " array([ 0.09146104,  0.13138669,  0.16310706,  0.17022627,  0.20194665,\n",
       "         0.24187229]),\n",
       " array([ 0.09146104,  0.13138669,  0.16310706,  0.17022627,  0.20194665,\n",
       "         0.24187229]),\n",
       " array([ 0.09146104,  0.13138669,  0.16310706,  0.17022627,  0.20194665,\n",
       "         0.24187229]),\n",
       " array([ 0.09146104,  0.13138669,  0.16310706,  0.17022627,  0.20194665,\n",
       "         0.24187229]),\n",
       " array([ 0.09146104,  0.13138669,  0.16310706,  0.17022627,  0.20194665,\n",
       "         0.24187229]),\n",
       " array([ 0.09146104,  0.13138669,  0.16310706,  0.17022627,  0.20194665,\n",
       "         0.24187229]),\n",
       " array([ 0.09146104,  0.13138669,  0.16310706,  0.17022627,  0.20194665,\n",
       "         0.24187229]),\n",
       " array([ 0.09146104,  0.13138669,  0.16310706,  0.17022627,  0.20194665,\n",
       "         0.24187229]),\n",
       " array([ 0.09146104,  0.13138669,  0.16310706,  0.17022627,  0.20194665,\n",
       "         0.24187229]),\n",
       " array([ 0.09146104,  0.13138669,  0.16310706,  0.17022627,  0.20194665,\n",
       "         0.24187229]),\n",
       " array([ 0.07839518,  0.10375924,  0.13415481,  0.14285714,  0.15155948,\n",
       "         0.18195504,  0.2073191 ]),\n",
       " array([ 0.07839518,  0.10375924,  0.13415481,  0.14285714,  0.15155948,\n",
       "         0.18195504,  0.2073191 ]),\n",
       " array([ 0.07839518,  0.10375924,  0.13415481,  0.14285714,  0.15155948,\n",
       "         0.18195504,  0.2073191 ]),\n",
       " array([ 0.07839518,  0.10375924,  0.13415481,  0.14285714,  0.15155948,\n",
       "         0.18195504,  0.2073191 ]),\n",
       " array([ 0.07839518,  0.10375924,  0.13415481,  0.14285714,  0.15155948,\n",
       "         0.18195504,  0.2073191 ]),\n",
       " array([ 0.07839518,  0.10375924,  0.13415481,  0.14285714,  0.15155948,\n",
       "         0.18195504,  0.2073191 ]),\n",
       " array([ 0.07839518,  0.10375924,  0.13415481,  0.14285714,  0.15155948,\n",
       "         0.18195504,  0.2073191 ]),\n",
       " array([ 0.07839518,  0.10375924,  0.13415481,  0.14285714,  0.15155948,\n",
       "         0.18195504,  0.2073191 ]),\n",
       " array([ 0.07839518,  0.10375924,  0.13415481,  0.14285714,  0.15155948,\n",
       "         0.18195504,  0.2073191 ]),\n",
       " array([ 0.07839518,  0.10375924,  0.13415481,  0.14285714,  0.15155948,\n",
       "         0.18195504,  0.2073191 ]),\n",
       " array([ 0.07839518,  0.10375924,  0.13415481,  0.14285714,  0.15155948,\n",
       "         0.18195504,  0.2073191 ]),\n",
       " array([ 0.07839518,  0.10375924,  0.13415481,  0.14285714,  0.15155948,\n",
       "         0.18195504,  0.2073191 ]),\n",
       " array([ 0.07839518,  0.10375924,  0.13415481,  0.14285714,  0.15155948,\n",
       "         0.18195504,  0.2073191 ]),\n",
       " array([ 0.07839518,  0.10375924,  0.13415481,  0.14285714,  0.15155948,\n",
       "         0.18195504,  0.2073191 ]),\n",
       " array([ 0.07839518,  0.10375924,  0.13415481,  0.14285714,  0.15155948,\n",
       "         0.18195504,  0.2073191 ]),\n",
       " array([ 0.07839518,  0.10375924,  0.13415481,  0.14285714,  0.15155948,\n",
       "         0.18195504,  0.2073191 ]),\n",
       " array([ 0.07839518,  0.10375924,  0.13415481,  0.14285714,  0.15155948,\n",
       "         0.18195504,  0.2073191 ]),\n",
       " array([ 0.07839518,  0.10375924,  0.13415481,  0.14285714,  0.15155948,\n",
       "         0.18195504,  0.2073191 ]),\n",
       " array([ 0.06859578,  0.09078911,  0.11736673,  0.12439233,  0.12560767,\n",
       "         0.13263327,  0.15921089,  0.18140422]),\n",
       " array([ 0.06859578,  0.09078911,  0.11736673,  0.12439233,  0.12560767,\n",
       "         0.13263327,  0.15921089,  0.18140422]),\n",
       " array([ 0.06859578,  0.09078911,  0.11736673,  0.12439233,  0.12560767,\n",
       "         0.13263327,  0.15921089,  0.18140422]),\n",
       " array([ 0.06859578,  0.09078911,  0.11736673,  0.12439233,  0.12560767,\n",
       "         0.13263327,  0.15921089,  0.18140422]),\n",
       " array([ 0.06859578,  0.09078911,  0.11736673,  0.12439233,  0.12560767,\n",
       "         0.13263327,  0.15921089,  0.18140422]),\n",
       " array([ 0.06859578,  0.09078911,  0.11736673,  0.12439233,  0.12560767,\n",
       "         0.13263327,  0.15921089,  0.18140422]),\n",
       " array([ 0.06859578,  0.09078911,  0.11736673,  0.12439233,  0.12560767,\n",
       "         0.13263327,  0.15921089,  0.18140422]),\n",
       " array([ 0.06859578,  0.09078911,  0.11736673,  0.12439233,  0.12560767,\n",
       "         0.13263327,  0.15921089,  0.18140422]),\n",
       " array([ 0.06859578,  0.09078911,  0.11736673,  0.12439233,  0.12560767,\n",
       "         0.13263327,  0.15921089,  0.18140422])]"
      ]
     },
     "execution_count": 63,
     "metadata": {},
     "output_type": "execute_result"
    }
   ],
   "source": [
    "weights(Θs, D, N)"
   ]
  },
  {
   "cell_type": "code",
   "execution_count": 54,
   "metadata": {
    "collapsed": false
   },
   "outputs": [
    {
     "data": {
      "text/plain": [
       "array([ 8.6173613 , -5.31905425])"
      ]
     },
     "execution_count": 54,
     "metadata": {},
     "output_type": "execute_result"
    }
   ],
   "source": [
    "gp.kernel[:]"
   ]
  },
  {
   "cell_type": "code",
   "execution_count": null,
   "metadata": {
    "collapsed": true
   },
   "outputs": [],
   "source": []
  }
 ],
 "metadata": {
  "kernelspec": {
   "display_name": "Python 3",
   "language": "python",
   "name": "python3"
  },
  "language_info": {
   "codemirror_mode": {
    "name": "ipython",
    "version": 3
   },
   "file_extension": ".py",
   "mimetype": "text/x-python",
   "name": "python",
   "nbconvert_exporter": "python",
   "pygments_lexer": "ipython3",
   "version": "3.5.0"
  }
 },
 "nbformat": 4,
 "nbformat_minor": 0
}
